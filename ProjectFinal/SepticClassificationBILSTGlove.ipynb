{
  "nbformat": 4,
  "nbformat_minor": 0,
  "metadata": {
    "colab": {
      "name": "SepticClassificationBILSTGlove.ipynb",
      "provenance": [],
      "collapsed_sections": []
    },
    "kernelspec": {
      "name": "python3",
      "display_name": "Python 3"
    },
    "language_info": {
      "name": "python"
    }
  },
  "cells": [
    {
      "cell_type": "code",
      "execution_count": 1,
      "metadata": {
        "id": "Np0TfSbIPRW9"
      },
      "outputs": [],
      "source": [
        "import pandas as pd"
      ]
    },
    {
      "cell_type": "code",
      "source": [
        "real_data=pd.read_csv(\"/content/sample_data/News.csv\", header=None, skipinitialspace=True ,skiprows=1, encoding='utf-8')\n",
        "septic_data = pd.read_csv(\"/content/sample_data/Swapnil_Extra_Annotation.csv\", header=None, skipinitialspace=True , encoding='utf-8') \n",
        "real_data[1] = real_data[1].replace(['1-Septic', '0-Pure'], [1, 0])\n",
        "news_data= pd.concat([real_data, septic_data], axis=0)\n",
        "septic_data = pd.read_csv(\"/content/sample_data/Prasant_Extra_Annotation.csv\", header=None, skipinitialspace=True , encoding='utf-8') \n",
        "news_data= pd.concat([news_data, septic_data], axis=0)\n",
        "septic_data = pd.read_csv(\"/content/sample_data/Kunal_Extra_Annotation.csv\", header=None, skipinitialspace=True , encoding='utf-8') \n",
        "news_data= pd.concat([news_data, septic_data], axis=0)\n",
        "septic_data = pd.read_csv(\"/content/sample_data/ExtraCovidAnnotation.csv\", header=None, skipinitialspace=True , encoding='utf-8') \n",
        "news_data= pd.concat([news_data, septic_data], axis=0)\n",
        "septic_data = pd.read_csv(\"/content/sample_data/CovidData.csv\", header=None, skipinitialspace=True , encoding='utf-8') \n",
        "news_data= pd.concat([news_data, septic_data], axis=0)\n",
        "news_data[0] = news_data[0].replace('\\n', '', regex=True).str.strip()\n",
        "print(news_data.head(20))\n",
        "labels=news_data[1]\n",
        "labels.head()     \n",
        "X = news_data[0]\n",
        "Y=news_data[1]\n",
        "print(('Xshape:', X.shape))\n",
        "print(('Yshape:', Y.shape))"
      ],
      "metadata": {
        "colab": {
          "base_uri": "https://localhost:8080/"
        },
        "id": "iLYf86HVQBk0",
        "outputId": "bd2157cb-b2cd-43a7-f4fb-b670f4c5d402"
      },
      "execution_count": 2,
      "outputs": [
        {
          "output_type": "stream",
          "name": "stdout",
          "text": [
            "                                                    0  1\n",
            "0   The political predicament also appears to be t...  0\n",
            "1   The CM had planned to meet the duo when he com...  0\n",
            "2   He’s now scheduled to visit New Delhi on Thurs...  0\n",
            "3   “If he fails to do so, he would face open rebe...  0\n",
            "4   “Further delay is likely. Despite threats from...  0\n",
            "5   “The party should make a concerted effort to i...  0\n",
            "6   Taking serious note of allegations pertaining ...  0\n",
            "7   Panchayat raj and mining minister Pedireddy Ra...  0\n",
            "8   Sources said the party legislator reportedly s...  0\n",
            "9   The legislator is his report said that large q...  0\n",
            "10  The legislator claimed that the gravel was ext...  0\n",
            "11  “The Mandal Parishad Development Officers (MPD...  0\n",
            "12  He submitted also certain documents to substan...  0\n",
            "13  “The MPDOs requisitioned for supply of about 8...  0\n",
            "14  He said that massive illegal mining had not on...  0\n",
            "15  The legislator said that field level officials...  0\n",
            "16  Curiously, an MPDO, who is suspected to have p...  0\n",
            "17  The Indian government has set up an inquiry in...  0\n",
            "18  The issue was raised in the ongoing Parliament...  0\n",
            "19  Foreign minister S Jaishankar, in a letter to ...  0\n",
            "('Xshape:', (7289,))\n",
            "('Yshape:', (7289,))\n"
          ]
        }
      ]
    },
    {
      "cell_type": "code",
      "source": [
        "!pip install contractions"
      ],
      "metadata": {
        "colab": {
          "base_uri": "https://localhost:8080/"
        },
        "id": "1g8R7Ze5RN-_",
        "outputId": "d531dee6-06c9-45da-904b-0111327660e8"
      },
      "execution_count": 3,
      "outputs": [
        {
          "output_type": "stream",
          "name": "stdout",
          "text": [
            "Requirement already satisfied: contractions in /usr/local/lib/python3.7/dist-packages (0.1.72)\n",
            "Requirement already satisfied: textsearch>=0.0.21 in /usr/local/lib/python3.7/dist-packages (from contractions) (0.0.21)\n",
            "Requirement already satisfied: pyahocorasick in /usr/local/lib/python3.7/dist-packages (from textsearch>=0.0.21->contractions) (1.4.4)\n",
            "Requirement already satisfied: anyascii in /usr/local/lib/python3.7/dist-packages (from textsearch>=0.0.21->contractions) (0.3.1)\n"
          ]
        }
      ]
    },
    {
      "cell_type": "code",
      "source": [
        "#importing required libraries\n",
        "import nltk\n",
        "import inflect\n",
        "import contractions\n",
        "from bs4 import BeautifulSoup\n",
        "import re, string, unicodedata\n",
        "from nltk import word_tokenize, sent_tokenize\n",
        "from nltk.corpus import stopwords\n",
        "from nltk.stem import LancasterStemmer, WordNetLemmatizer\n",
        "from sklearn.preprocessing import LabelEncoder\n",
        "# First function is used to denoise text\n",
        "def denoise_text(text):\n",
        "    # Strip html if any. For ex. removing <html>, <p> tags\n",
        "    soup = BeautifulSoup(text, \"html.parser\")\n",
        "    text = soup.get_text()\n",
        "    # Replace contractions in the text. For ex. didn't -> did not\n",
        "    text = contractions.fix(text)\n",
        "    return text\n",
        "# Check the function \n",
        "sample_text = \"<p>he didn't say anything </br> about what's gonna <html> happen in the climax\"\n",
        "denoise_text(sample_text)"
      ],
      "metadata": {
        "colab": {
          "base_uri": "https://localhost:8080/",
          "height": 35
        },
        "id": "nNNLUE1vQBt6",
        "outputId": "065d90bb-66aa-4650-d8fe-543bc97175cc"
      },
      "execution_count": 4,
      "outputs": [
        {
          "output_type": "execute_result",
          "data": {
            "text/plain": [
              "'he did not say anything  about what is going to  happen in the climax'"
            ],
            "application/vnd.google.colaboratory.intrinsic+json": {
              "type": "string"
            }
          },
          "metadata": {},
          "execution_count": 4
        }
      ]
    },
    {
      "cell_type": "code",
      "source": [
        "import nltk\n",
        "nltk.download('stopwords')\n",
        "nltk.download('wordnet')"
      ],
      "metadata": {
        "colab": {
          "base_uri": "https://localhost:8080/"
        },
        "id": "CNF9uQMoRlzF",
        "outputId": "7d0585cb-b472-4113-8cc6-21f342b6cd57"
      },
      "execution_count": 5,
      "outputs": [
        {
          "output_type": "stream",
          "name": "stdout",
          "text": [
            "[nltk_data] Downloading package stopwords to /root/nltk_data...\n",
            "[nltk_data]   Package stopwords is already up-to-date!\n",
            "[nltk_data] Downloading package wordnet to /root/nltk_data...\n",
            "[nltk_data]   Package wordnet is already up-to-date!\n"
          ]
        },
        {
          "output_type": "execute_result",
          "data": {
            "text/plain": [
              "True"
            ]
          },
          "metadata": {},
          "execution_count": 5
        }
      ]
    },
    {
      "cell_type": "code",
      "source": [
        "# Text normalization includes many steps.\n",
        "# Each function below serves a step.\n",
        "def remove_non_ascii(words):\n",
        "    \"\"\"Remove non-ASCII characters from list of tokenized words\"\"\"\n",
        "    new_words = []\n",
        "    for word in words:\n",
        "        new_word = unicodedata.normalize('NFKD', word).encode('ascii', 'ignore').decode('utf-8', 'ignore')\n",
        "        new_words.append(new_word)\n",
        "    return new_words\n",
        "def to_lowercase(words):\n",
        "    \"\"\"Convert all characters to lowercase from list of tokenized words\"\"\"\n",
        "    new_words = []\n",
        "    for word in words:\n",
        "        new_word = word.lower()\n",
        "        new_words.append(new_word)\n",
        "    return new_words\n",
        "def remove_punctuation(words):\n",
        "    \"\"\"Remove punctuation from list of tokenized words\"\"\"\n",
        "    new_words = []\n",
        "    for word in words:\n",
        "        new_word = re.sub(r'[^\\w\\s]', '', word)\n",
        "        if new_word != '':\n",
        "            new_words.append(new_word)\n",
        "    return new_words\n",
        "def replace_numbers(words):\n",
        "    \"\"\"Replace all interger occurrences in list of tokenized words with textual representation\"\"\"\n",
        "    p = inflect.engine()\n",
        "    new_words = []\n",
        "    for word in words:\n",
        "        if word.isdigit():\n",
        "            new_word = p.number_to_words(word)\n",
        "            new_words.append(new_word)\n",
        "        else:\n",
        "            new_words.append(word)\n",
        "    return new_words\n",
        "def remove_stopwords(words):\n",
        "    \"\"\"Remove stop words from list of tokenized words\"\"\"\n",
        "    new_words = []\n",
        "    for word in words:\n",
        "        if word not in stopwords.words('english'):\n",
        "            new_words.append(word)\n",
        "    return new_words\n",
        "def stem_words(words):\n",
        "    \"\"\"Stem words in list of tokenized words\"\"\"\n",
        "    stemmer = LancasterStemmer()\n",
        "    stems = []\n",
        "    for word in words:\n",
        "        stem = stemmer.stem(word)\n",
        "        stems.append(stem)\n",
        "    return stems\n",
        "def lemmatize_verbs(words):\n",
        "    \"\"\"Lemmatize verbs in list of tokenized words\"\"\"\n",
        "    lemmatizer = WordNetLemmatizer()\n",
        "    lemmas = []\n",
        "    for word in words:\n",
        "        lemma = lemmatizer.lemmatize(word, pos='v')\n",
        "        lemmas.append(lemma)\n",
        "    return lemmas\n",
        "def normalize_text(words):\n",
        "    words = remove_non_ascii(words)\n",
        "    words = to_lowercase(words)\n",
        "    words = remove_punctuation(words)\n",
        "    words = replace_numbers(words)\n",
        "    words = remove_stopwords(words)\n",
        "    #words = stem_words(words)\n",
        "    words = lemmatize_verbs(words)\n",
        "    return words\n",
        "# Testing the functions\n",
        "print(\"remove_non_ascii results: \", remove_non_ascii(['h', 'ॐ', '©', '1']))\n",
        "print(\"to_lowercase results: \", to_lowercase(['HELLO', 'hiDDen', 'wanT', 'GOING']))\n",
        "print(\"remove_punctuation results: \", remove_punctuation(['hello!!', 'how?', 'done,']))\n",
        "print(\"replace_numbers results: \", replace_numbers(['1', '2', '3']))\n",
        "print(\"remove_stopwords results: \", remove_stopwords(['this', 'and', 'amazing']))\n",
        "print(\"stem_words results: \", stem_words(['beautiful', 'flying', 'waited']))\n",
        "print(\"lemmatize_verbs results: \", lemmatize_verbs(['hidden', 'walking', 'ran']))\n",
        "print(\"normalize_text results: \", normalize_text(['hidden', 'in', 'the', 'CAVES', 'he', 'WAited', '2', 'ॐ', 'hours!!']))"
      ],
      "metadata": {
        "colab": {
          "base_uri": "https://localhost:8080/"
        },
        "id": "y4Bw9B04QBwy",
        "outputId": "63de789a-6e91-45a0-957b-c73005ebcbcc"
      },
      "execution_count": 6,
      "outputs": [
        {
          "output_type": "stream",
          "name": "stdout",
          "text": [
            "remove_non_ascii results:  ['h', '', '', '1']\n",
            "to_lowercase results:  ['hello', 'hidden', 'want', 'going']\n",
            "remove_punctuation results:  ['hello', 'how', 'done']\n",
            "replace_numbers results:  ['one', 'two', 'three']\n",
            "remove_stopwords results:  ['amazing']\n",
            "stem_words results:  ['beauty', 'fly', 'wait']\n",
            "lemmatize_verbs results:  ['hide', 'walk', 'run']\n",
            "normalize_text results:  ['hide', 'cave', 'wait', 'two', 'hours']\n"
          ]
        }
      ]
    },
    {
      "cell_type": "code",
      "source": [
        "nltk.download('punkt')"
      ],
      "metadata": {
        "colab": {
          "base_uri": "https://localhost:8080/"
        },
        "id": "OD_ss3SGS1hZ",
        "outputId": "627783d1-b156-498e-de83-e6eb9cbb9b5f"
      },
      "execution_count": 7,
      "outputs": [
        {
          "output_type": "stream",
          "name": "stdout",
          "text": [
            "[nltk_data] Downloading package punkt to /root/nltk_data...\n",
            "[nltk_data]   Package punkt is already up-to-date!\n"
          ]
        },
        {
          "output_type": "execute_result",
          "data": {
            "text/plain": [
              "True"
            ]
          },
          "metadata": {},
          "execution_count": 7
        }
      ]
    },
    {
      "cell_type": "code",
      "source": [
        "# Tokenize tweet into words\n",
        "def tokenize(text):\n",
        "    return nltk.word_tokenize(text)\n",
        "# check the function\n",
        "sample_text = 'he did not say anything  about what is going to  happen'\n",
        "print(\"tokenize results :\", tokenize(sample_text))"
      ],
      "metadata": {
        "colab": {
          "base_uri": "https://localhost:8080/"
        },
        "id": "1TRo5_CXQBzl",
        "outputId": "5bf11d0d-4b5c-4870-8ec6-003b294d3eda"
      },
      "execution_count": 8,
      "outputs": [
        {
          "output_type": "stream",
          "name": "stdout",
          "text": [
            "tokenize results : ['he', 'did', 'not', 'say', 'anything', 'about', 'what', 'is', 'going', 'to', 'happen']\n"
          ]
        }
      ]
    },
    {
      "cell_type": "code",
      "source": [
        "print(type(news_data[1]))"
      ],
      "metadata": {
        "colab": {
          "base_uri": "https://localhost:8080/"
        },
        "id": "ibP5komeUYJN",
        "outputId": "c9201345-ded1-470f-c025-94f7a8bcb45c"
      },
      "execution_count": 9,
      "outputs": [
        {
          "output_type": "stream",
          "name": "stdout",
          "text": [
            "<class 'pandas.core.series.Series'>\n"
          ]
        }
      ]
    },
    {
      "cell_type": "code",
      "source": [
        "def text_prepare(text):\n",
        "    text = denoise_text(text)\n",
        "    text = ' '.join([x for x in normalize_text(tokenize(text))])\n",
        "    return text\n",
        "news_data[0] = [text_prepare(x) for x in news_data[0]]\n",
        "# le = LabelEncoder()\n",
        "# news_data[1] = le.fit_transform(news_data[1])\n",
        "# news_data.head()"
      ],
      "metadata": {
        "id": "wakWhWFqQB2y"
      },
      "execution_count": 10,
      "outputs": []
    },
    {
      "cell_type": "code",
      "source": [
        "print(news_data)"
      ],
      "metadata": {
        "colab": {
          "base_uri": "https://localhost:8080/"
        },
        "id": "_6QrSDpEQB5d",
        "outputId": "941b94fb-4b9e-413b-b44a-9294d24bc117"
      },
      "execution_count": 11,
      "outputs": [
        {
          "output_type": "stream",
          "name": "stdout",
          "text": [
            "                                                      0  1\n",
            "0     political predicament also appear take toll ye...  0\n",
            "1       cm plan meet duo complete one year office avail  0\n",
            "2     schedule visit new delhi thursday expect meet ...  0\n",
            "3     fail would face open rebellion senior mlas unh...  0\n",
            "4     delay likely despite threats new legislators p...  0\n",
            "...                                                 ... ..\n",
            "2877  talk dad tell go gym ever morning work go oh w...  0\n",
            "2878  house heat twenty-three celsius new coronaviru...  0\n",
            "2879            newborn baby call boil egg treat corona  0\n",
            "2880  indian government issue guideline monitor citi...  0\n",
            "2881  prince charles test positive covid19 meet boll...  0\n",
            "\n",
            "[7289 rows x 2 columns]\n"
          ]
        }
      ]
    },
    {
      "cell_type": "code",
      "source": [
        "from keras.layers import Dropout, Dense, Embedding, LSTM, Bidirectional\n",
        "from keras.preprocessing.text import Tokenizer\n",
        "from keras.preprocessing.sequence import pad_sequences\n",
        "from keras.models import Sequential\n",
        "from sklearn.metrics import matthews_corrcoef, confusion_matrix\n",
        "from sklearn.model_selection import train_test_split\n",
        "from sklearn import metrics\n",
        "from sklearn.utils import shuffle\n",
        "import numpy as np\n",
        "import pickle\n",
        "import matplotlib.pyplot as plt\n",
        "import warnings\n",
        "import logging\n",
        "logging.basicConfig(level=logging.INFO)"
      ],
      "metadata": {
        "id": "VvpjGPjfQB8K"
      },
      "execution_count": 12,
      "outputs": []
    },
    {
      "cell_type": "code",
      "source": [
        "!wget http://nlp.stanford.edu/data/glove.6B.zip"
      ],
      "metadata": {
        "colab": {
          "base_uri": "https://localhost:8080/"
        },
        "id": "KpkvUQ3IWQXu",
        "outputId": "dde64c5e-5758-4eb7-ddce-14623ecda203"
      },
      "execution_count": 13,
      "outputs": [
        {
          "output_type": "stream",
          "name": "stdout",
          "text": [
            "--2022-05-11 16:27:00--  http://nlp.stanford.edu/data/glove.6B.zip\n",
            "Resolving nlp.stanford.edu (nlp.stanford.edu)... 171.64.67.140\n",
            "Connecting to nlp.stanford.edu (nlp.stanford.edu)|171.64.67.140|:80... connected.\n",
            "HTTP request sent, awaiting response... 302 Found\n",
            "Location: https://nlp.stanford.edu/data/glove.6B.zip [following]\n",
            "--2022-05-11 16:27:00--  https://nlp.stanford.edu/data/glove.6B.zip\n",
            "Connecting to nlp.stanford.edu (nlp.stanford.edu)|171.64.67.140|:443... connected.\n",
            "HTTP request sent, awaiting response... 301 Moved Permanently\n",
            "Location: http://downloads.cs.stanford.edu/nlp/data/glove.6B.zip [following]\n",
            "--2022-05-11 16:27:00--  http://downloads.cs.stanford.edu/nlp/data/glove.6B.zip\n",
            "Resolving downloads.cs.stanford.edu (downloads.cs.stanford.edu)... 171.64.64.22\n",
            "Connecting to downloads.cs.stanford.edu (downloads.cs.stanford.edu)|171.64.64.22|:80... connected.\n",
            "HTTP request sent, awaiting response... 200 OK\n",
            "Length: 862182613 (822M) [application/zip]\n",
            "Saving to: ‘glove.6B.zip’\n",
            "\n",
            "glove.6B.zip        100%[===================>] 822.24M  5.02MB/s    in 2m 40s  \n",
            "\n",
            "2022-05-11 16:29:39 (5.15 MB/s) - ‘glove.6B.zip’ saved [862182613/862182613]\n",
            "\n"
          ]
        }
      ]
    },
    {
      "cell_type": "code",
      "source": [
        "!unzip glove*.zip"
      ],
      "metadata": {
        "colab": {
          "base_uri": "https://localhost:8080/"
        },
        "id": "sp-ej3VeWfIm",
        "outputId": "a0f4656a-49cb-4a45-8197-f33ba8508460"
      },
      "execution_count": 14,
      "outputs": [
        {
          "output_type": "stream",
          "name": "stdout",
          "text": [
            "Archive:  glove.6B.zip\n",
            "  inflating: glove.6B.50d.txt        \n",
            "  inflating: glove.6B.100d.txt       \n",
            "  inflating: glove.6B.200d.txt       \n",
            "  inflating: glove.6B.300d.txt       \n"
          ]
        }
      ]
    },
    {
      "cell_type": "code",
      "source": [
        "!ls\n",
        "!pwd"
      ],
      "metadata": {
        "colab": {
          "base_uri": "https://localhost:8080/"
        },
        "id": "BBBczz72XE3n",
        "outputId": "b0239b22-8ff8-4454-b744-585a2a31f276"
      },
      "execution_count": 15,
      "outputs": [
        {
          "output_type": "stream",
          "name": "stdout",
          "text": [
            "glove.6B.100d.txt  glove.6B.300d.txt  glove.6B.zip\n",
            "glove.6B.200d.txt  glove.6B.50d.txt   sample_data\n",
            "/content\n"
          ]
        }
      ]
    },
    {
      "cell_type": "code",
      "source": [
        "def prepare_model_input(X_train, X_test,MAX_NB_WORDS=75000,MAX_SEQUENCE_LENGTH=100):\n",
        "    np.random.seed(7)\n",
        "    text = np.concatenate((X_train, X_test), axis=0)\n",
        "    text = np.array(text)\n",
        "    tokenizer = Tokenizer(num_words=MAX_NB_WORDS)\n",
        "    tokenizer.fit_on_texts(text)\n",
        "    # pickle.dump(tokenizer, open('text_tokenizer.pkl', 'wb'))\n",
        "    # Uncomment above line to save the tokenizer as .pkl file \n",
        "    sequences = tokenizer.texts_to_sequences(text)\n",
        "    word_index = tokenizer.word_index\n",
        "    text = pad_sequences(sequences, maxlen=MAX_SEQUENCE_LENGTH)\n",
        "    print('Found %s unique tokens.' % len(word_index))\n",
        "    indices = np.arange(text.shape[0])\n",
        "    # np.random.shuffle(indices)\n",
        "    text = text[indices]\n",
        "    print(text.shape)\n",
        "    X_train_Glove = text[0:len(X_train), ]\n",
        "    X_test_Glove = text[len(X_train):, ]\n",
        "    embeddings_dict = {}\n",
        "    f = open(\"glove.6B.50d.txt\", encoding=\"utf8\")\n",
        "    for line in f:\n",
        "        values = line.split()\n",
        "        word = values[0]\n",
        "        try:\n",
        "            coefs = np.asarray(values[1:], dtype='float32')\n",
        "        except:\n",
        "            pass\n",
        "        embeddings_dict[word] = coefs\n",
        "    f.close()\n",
        "    print('Total %s word vectors.' % len(embeddings_dict))\n",
        "    return (X_train_Glove, X_test_Glove, word_index, embeddings_dict)\n",
        "## Check function\n",
        "x_train_sample = [\"Lorem Ipsum is simply dummy text of the printing and typesetting industry\", \"It is a long established fact that a reader will be distracted by the readable content of a page when looking at its layout\"]\n",
        "x_test_sample = [\"I’m creating a macro and need some text for testing purposes\", \"I’m designing a document and don’t want to get bogged down in what the text actually says\"]\n",
        "X_train_Glove_s, X_test_Glove_s, word_index_s, embeddings_dict_s = prepare_model_input(x_train_sample, x_test_sample, 100, 20)\n",
        "print(\"\\n X_train_Glove_s \\n \", X_train_Glove_s)\n",
        "print(\"\\n X_test_Glove_s \\n \", X_test_Glove_s)\n",
        "print(\"\\n Word index of the word testing is : \", word_index_s[\"testing\"])\n",
        "print(\"\\n Embedding for thw word want \\n \\n\", embeddings_dict_s[\"want\"])"
      ],
      "metadata": {
        "colab": {
          "base_uri": "https://localhost:8080/"
        },
        "id": "7a3MAGGaQB-2",
        "outputId": "6c06e86c-4d78-4241-c2f5-9575e5088f94"
      },
      "execution_count": 16,
      "outputs": [
        {
          "output_type": "stream",
          "name": "stdout",
          "text": [
            "Found 51 unique tokens.\n",
            "(4, 20)\n",
            "Total 400000 word vectors.\n",
            "\n",
            " X_train_Glove_s \n",
            "  [[ 0  0  0  0  0  0  0  0  8  9  5 10 11  2  6  3 12  4 13 14]\n",
            " [17 18 19  1 20 21 22 23 24  3 25 26  6  1 27 28 29 30 31 32]]\n",
            "\n",
            " X_test_Glove_s \n",
            "  [[ 0  0  0  0  0  0  0  0  0  7 33  1 34  4 35 36  2 37 38 39]\n",
            " [ 0  0  0  7 40  1 41  4 42 43 44 45 46 47 48 49  3  2 50 51]]\n",
            "\n",
            " Word index of the word testing is :  38\n",
            "\n",
            " Embedding for thw word want \n",
            " \n",
            " [ 0.13627  -0.054478  0.3703   -0.41574   0.60568  -0.42729  -0.50151\n",
            "  0.35923  -0.49154   0.21827  -0.15193   0.52536  -0.24206   0.023875\n",
            "  0.8225    1.089     0.98825  -0.17803   0.77806  -1.0647   -0.28742\n",
            "  0.50458   0.21612   0.65681   0.34295  -2.1084   -0.82557  -0.31966\n",
            "  0.87567  -1.0679    3.3802    1.2084   -1.272    -0.15921  -0.25237\n",
            " -0.2696   -0.18756  -0.35523   0.084172 -0.56539  -0.24081   0.15926\n",
            "  0.3287    0.54591   0.29897   0.18948  -0.57113   0.17399  -0.19338\n",
            "  0.51921 ]\n"
          ]
        }
      ]
    },
    {
      "cell_type": "code",
      "source": [
        "def build_bilstm(word_index, embeddings_dict, nclasses,  MAX_SEQUENCE_LENGTH=100, EMBEDDING_DIM=50, dropout=0.5, hidden_layer = 3, lstm_node = 32):\n",
        "    # Initialize a sequebtial model\n",
        "    model = Sequential()\n",
        "    # Make the embedding matrix using the embedding_dict\n",
        "    embedding_matrix = np.random.random((len(word_index) + 1, EMBEDDING_DIM))\n",
        "    for word, i in word_index.items():\n",
        "        embedding_vector = embeddings_dict.get(word)\n",
        "        if embedding_vector is not None:\n",
        "            # words not found in embedding index will be all-zeros.\n",
        "            if len(embedding_matrix[i]) != len(embedding_vector):\n",
        "                print(\"could not broadcast input array from shape\", str(len(embedding_matrix[i])),\n",
        "                      \"into shape\", str(len(embedding_vector)), \" Please make sure your\"\n",
        "                                                                \" EMBEDDING_DIM is equal to embedding_vector file ,GloVe,\")\n",
        "                exit(1)\n",
        "            embedding_matrix[i] = embedding_vector\n",
        "            \n",
        "    # Add embedding layer\n",
        "    model.add(Embedding(len(word_index) + 1,\n",
        "                                EMBEDDING_DIM,\n",
        "                                weights=[embedding_matrix],\n",
        "                                input_length=MAX_SEQUENCE_LENGTH,\n",
        "                                trainable=True))\n",
        "    # Add hidden layers \n",
        "    for i in range(0,hidden_layer):\n",
        "        # Add a bidirectional lstm layer\n",
        "        model.add(Bidirectional(LSTM(lstm_node, return_sequences=True, recurrent_dropout=0.2)))\n",
        "        # Add a dropout layer after each lstm layer\n",
        "        model.add(Dropout(dropout))\n",
        "    model.add(Bidirectional(LSTM(lstm_node, recurrent_dropout=0.2)))\n",
        "    model.add(Dropout(dropout))\n",
        "    # Add the fully connected layer with 256 nurons and relu activation\n",
        "    model.add(Dense(256, activation='relu'))\n",
        "    # Add the output layer with softmax activation since we have 2 classes\n",
        "    model.add(Dense(nclasses, activation='softmax'))\n",
        "    # Compile the model using sparse_categorical_crossentropy\n",
        "    model.compile(loss='sparse_categorical_crossentropy',\n",
        "                      optimizer='adam',\n",
        "                      metrics=['accuracy'])\n",
        "    return model"
      ],
      "metadata": {
        "id": "AiQE3iC1QCBI"
      },
      "execution_count": 17,
      "outputs": []
    },
    {
      "cell_type": "code",
      "source": [
        "X = news_data[0]\n",
        "y = news_data[1]\n",
        "X_train, X_test, y_train, y_test = train_test_split(X, y, test_size = 0.05, random_state=7)\n",
        "print(\"Preparing model input ...\")\n",
        "X_train_Glove, X_test_Glove, word_index, embeddings_dict = prepare_model_input(X_train,X_test)\n",
        "print(\"Done!\")\n",
        "print(\"Building Model!\")\n",
        "model = build_bilstm(word_index, embeddings_dict, 2)\n",
        "model.summary()"
      ],
      "metadata": {
        "colab": {
          "base_uri": "https://localhost:8080/"
        },
        "id": "ADsJ6HdUQCD3",
        "outputId": "6b21f9ca-4381-46f3-afce-4f43f19b09d6"
      },
      "execution_count": 18,
      "outputs": [
        {
          "output_type": "stream",
          "name": "stdout",
          "text": [
            "Preparing model input ...\n",
            "Found 10631 unique tokens.\n",
            "(7289, 100)\n",
            "Total 400000 word vectors.\n",
            "Done!\n",
            "Building Model!\n",
            "Model: \"sequential\"\n",
            "_________________________________________________________________\n",
            " Layer (type)                Output Shape              Param #   \n",
            "=================================================================\n",
            " embedding (Embedding)       (None, 100, 50)           531600    \n",
            "                                                                 \n",
            " bidirectional (Bidirectiona  (None, 100, 64)          21248     \n",
            " l)                                                              \n",
            "                                                                 \n",
            " dropout (Dropout)           (None, 100, 64)           0         \n",
            "                                                                 \n",
            " bidirectional_1 (Bidirectio  (None, 100, 64)          24832     \n",
            " nal)                                                            \n",
            "                                                                 \n",
            " dropout_1 (Dropout)         (None, 100, 64)           0         \n",
            "                                                                 \n",
            " bidirectional_2 (Bidirectio  (None, 100, 64)          24832     \n",
            " nal)                                                            \n",
            "                                                                 \n",
            " dropout_2 (Dropout)         (None, 100, 64)           0         \n",
            "                                                                 \n",
            " bidirectional_3 (Bidirectio  (None, 64)               24832     \n",
            " nal)                                                            \n",
            "                                                                 \n",
            " dropout_3 (Dropout)         (None, 64)                0         \n",
            "                                                                 \n",
            " dense (Dense)               (None, 256)               16640     \n",
            "                                                                 \n",
            " dense_1 (Dense)             (None, 2)                 514       \n",
            "                                                                 \n",
            "=================================================================\n",
            "Total params: 644,498\n",
            "Trainable params: 644,498\n",
            "Non-trainable params: 0\n",
            "_________________________________________________________________\n"
          ]
        }
      ]
    },
    {
      "cell_type": "code",
      "source": [
        "def get_eval_report(labels, preds):\n",
        "    mcc = matthews_corrcoef(labels, preds)\n",
        "    tn, fp, fn, tp = confusion_matrix(labels, preds).ravel()\n",
        "    precision = (tp)/(tp+fp)\n",
        "    recall = (tp)/(tp+fn)\n",
        "    f1 = (2*(precision*recall))/(precision+recall)\n",
        "    return {\n",
        "        \"mcc\": mcc,\n",
        "        \"true positive\": tp,\n",
        "        \"true negative\": tn,\n",
        "        \"false positive\": fp,\n",
        "        \"false negative\": fn,\n",
        "        \"pricision\" : precision,\n",
        "        \"recall\" : recall,\n",
        "        \"F1\" : f1,\n",
        "        \"accuracy\": (tp+tn)/(tp+tn+fp+fn)\n",
        "    }\n",
        "def compute_metrics(labels, preds):\n",
        "    assert len(preds) == len(labels)\n",
        "    return get_eval_report(labels, preds)\n",
        "def plot_graphs(history, string):\n",
        "  plt.plot(history.history[string])\n",
        "  plt.plot(history.history['val_'+string], '')\n",
        "  plt.xlabel(\"Epochs\")\n",
        "  plt.ylabel(string)\n",
        "  plt.legend([string, 'val_'+string])\n",
        "  plt.show()\n"
      ],
      "metadata": {
        "id": "t_46AnCvXUgT"
      },
      "execution_count": 19,
      "outputs": []
    },
    {
      "cell_type": "code",
      "source": [
        "history = model.fit(X_train_Glove, np.asarray(y_train).astype(np.float32),\n",
        "                           validation_data=(X_test_Glove,np.asarray(y_test).astype(np.float32)),\n",
        "                           epochs=12,\n",
        "                           batch_size=128,\n",
        "                           verbose=1)"
      ],
      "metadata": {
        "colab": {
          "base_uri": "https://localhost:8080/"
        },
        "id": "9TbBwCudXUkO",
        "outputId": "2fdcad1d-009e-443c-f8a8-653a44c27570"
      },
      "execution_count": 20,
      "outputs": [
        {
          "output_type": "stream",
          "name": "stdout",
          "text": [
            "Epoch 1/12\n",
            "55/55 [==============================] - 73s 974ms/step - loss: 0.6592 - accuracy: 0.5953 - val_loss: 0.6299 - val_accuracy: 0.6247\n",
            "Epoch 2/12\n",
            "55/55 [==============================] - 52s 938ms/step - loss: 0.5622 - accuracy: 0.7227 - val_loss: 0.4974 - val_accuracy: 0.7836\n",
            "Epoch 3/12\n",
            "55/55 [==============================] - 52s 939ms/step - loss: 0.4620 - accuracy: 0.7959 - val_loss: 0.4423 - val_accuracy: 0.8219\n",
            "Epoch 4/12\n",
            "55/55 [==============================] - 52s 951ms/step - loss: 0.3598 - accuracy: 0.8511 - val_loss: 0.3774 - val_accuracy: 0.8521\n",
            "Epoch 5/12\n",
            "55/55 [==============================] - 52s 941ms/step - loss: 0.2866 - accuracy: 0.8876 - val_loss: 0.3442 - val_accuracy: 0.8438\n",
            "Epoch 6/12\n",
            "55/55 [==============================] - 55s 996ms/step - loss: 0.2157 - accuracy: 0.9204 - val_loss: 0.4314 - val_accuracy: 0.8438\n",
            "Epoch 7/12\n",
            "55/55 [==============================] - 52s 940ms/step - loss: 0.1675 - accuracy: 0.9395 - val_loss: 0.4601 - val_accuracy: 0.8384\n",
            "Epoch 8/12\n",
            "55/55 [==============================] - 52s 948ms/step - loss: 0.1244 - accuracy: 0.9551 - val_loss: 0.4774 - val_accuracy: 0.8575\n",
            "Epoch 9/12\n",
            "55/55 [==============================] - 55s 994ms/step - loss: 0.0933 - accuracy: 0.9665 - val_loss: 0.5182 - val_accuracy: 0.8630\n",
            "Epoch 10/12\n",
            "55/55 [==============================] - 52s 947ms/step - loss: 0.1052 - accuracy: 0.9656 - val_loss: 0.6011 - val_accuracy: 0.8411\n",
            "Epoch 11/12\n",
            "55/55 [==============================] - 52s 940ms/step - loss: 0.0751 - accuracy: 0.9730 - val_loss: 0.6429 - val_accuracy: 0.8575\n",
            "Epoch 12/12\n",
            "55/55 [==============================] - 52s 938ms/step - loss: 0.0628 - accuracy: 0.9788 - val_loss: 0.5947 - val_accuracy: 0.8521\n"
          ]
        }
      ]
    },
    {
      "cell_type": "code",
      "source": [
        "plot_graphs(history, 'accuracy')\n",
        "plot_graphs(history, 'loss')"
      ],
      "metadata": {
        "colab": {
          "base_uri": "https://localhost:8080/",
          "height": 541
        },
        "id": "GeEdflQbXUm_",
        "outputId": "90b1d4f0-164c-471f-d63a-d4f2e1b38101"
      },
      "execution_count": 21,
      "outputs": [
        {
          "output_type": "display_data",
          "data": {
            "text/plain": [
              "<Figure size 432x288 with 1 Axes>"
            ],
            "image/png": "[encoded data removed]"
          },
          "metadata": {
            "needs_background": "light"
          }
        },
        {
          "output_type": "display_data",
          "data": {
            "text/plain": [
              "<Figure size 432x288 with 1 Axes>"
            ],
            "image/png": "[encoded data removed]"
          },
          "metadata": {
            "needs_background": "light"
          }
        }
      ]
    },
    {
      "cell_type": "code",
      "source": [
        "print(\"\\n Evaluating Model ... \\n\")\n",
        "predicted = model.predict(X_test_Glove)\n",
        "predicted = np.argmax(predicted,axis=1)\n",
        "print(type(predicted))\n",
        "print(type(y_test))\n",
        "y_test1=y_test.to_numpy(dtype ='float32')\n",
        "predicted=predicted.astype('float32')\n",
        "predicted=predicted.round()\n",
        "# predicted=predicted.flatten()\n",
        "print(predicted)\n",
        "print(y_test1)\n",
        "print(metrics.classification_report(y_test1, predicted))\n",
        "print(\"\\n\")\n",
        "logger = logging.getLogger(\"logger\")\n",
        "result = compute_metrics(y_test1, predicted)\n",
        "for key in (result.keys()):\n",
        "    logger.info(\"  %s = %s\", key, str(result[key]))"
      ],
      "metadata": {
        "id": "xtLRs3yeXUpp",
        "colab": {
          "base_uri": "https://localhost:8080/"
        },
        "outputId": "a8d071b1-9869-480e-c62f-de55212b2965"
      },
      "execution_count": 22,
      "outputs": [
        {
          "output_type": "stream",
          "name": "stdout",
          "text": [
            "\n",
            " Evaluating Model ... \n",
            "\n"
          ]
        },
        {
          "output_type": "stream",
          "name": "stderr",
          "text": [
            "INFO:logger:  mcc = 0.7056873116463278\n",
            "INFO:logger:  true positive = 150\n",
            "INFO:logger:  true negative = 161\n",
            "INFO:logger:  false positive = 21\n",
            "INFO:logger:  false negative = 33\n",
            "INFO:logger:  pricision = 0.8771929824561403\n",
            "INFO:logger:  recall = 0.819672131147541\n",
            "INFO:logger:  F1 = 0.8474576271186439\n",
            "INFO:logger:  accuracy = 0.852054794520548\n"
          ]
        },
        {
          "output_type": "stream",
          "name": "stdout",
          "text": [
            "<class 'numpy.ndarray'>\n",
            "<class 'pandas.core.series.Series'>\n",
            "[1. 0. 0. 1. 1. 0. 1. 0. 1. 0. 1. 1. 1. 1. 0. 1. 0. 1. 0. 1. 0. 1. 1. 1.\n",
            " 1. 1. 1. 0. 0. 1. 0. 1. 1. 1. 0. 0. 0. 1. 1. 0. 0. 1. 1. 0. 1. 0. 0. 1.\n",
            " 0. 1. 1. 1. 1. 0. 0. 1. 1. 1. 1. 1. 0. 0. 0. 0. 1. 1. 0. 1. 0. 0. 1. 0.\n",
            " 0. 1. 1. 0. 1. 1. 0. 0. 0. 1. 1. 1. 0. 1. 0. 1. 0. 1. 0. 1. 0. 1. 0. 1.\n",
            " 1. 1. 0. 0. 0. 0. 0. 1. 0. 0. 0. 0. 1. 0. 0. 0. 0. 0. 0. 1. 0. 1. 1. 0.\n",
            " 0. 1. 0. 1. 1. 0. 1. 1. 1. 0. 1. 1. 0. 0. 1. 0. 1. 1. 0. 0. 0. 0. 0. 0.\n",
            " 1. 0. 0. 0. 0. 1. 0. 0. 0. 0. 0. 1. 0. 0. 0. 0. 0. 0. 1. 0. 0. 1. 0. 0.\n",
            " 1. 1. 0. 0. 1. 1. 1. 1. 1. 1. 0. 1. 1. 1. 0. 0. 0. 1. 1. 0. 0. 0. 0. 0.\n",
            " 1. 0. 1. 1. 0. 1. 1. 0. 1. 1. 0. 1. 0. 1. 0. 0. 0. 0. 1. 1. 1. 0. 1. 1.\n",
            " 0. 0. 1. 1. 0. 1. 0. 1. 1. 0. 1. 0. 1. 1. 0. 1. 1. 1. 0. 0. 0. 1. 1. 0.\n",
            " 1. 0. 0. 0. 1. 1. 0. 1. 0. 1. 1. 0. 0. 1. 1. 1. 0. 1. 1. 1. 1. 1. 1. 0.\n",
            " 0. 1. 1. 0. 0. 0. 0. 0. 1. 0. 0. 0. 1. 0. 1. 1. 0. 0. 1. 1. 1. 1. 1. 0.\n",
            " 1. 0. 0. 0. 0. 1. 0. 1. 0. 0. 0. 1. 0. 0. 1. 1. 1. 0. 0. 1. 1. 0. 1. 0.\n",
            " 0. 0. 0. 0. 0. 0. 0. 1. 0. 1. 1. 1. 0. 0. 1. 0. 0. 0. 0. 0. 0. 0. 0. 0.\n",
            " 1. 0. 1. 1. 1. 0. 1. 1. 1. 0. 0. 0. 1. 1. 0. 0. 1. 1. 0. 1. 0. 0. 0. 0.\n",
            " 1. 0. 0. 0. 0.]\n",
            "[1. 1. 0. 1. 1. 0. 0. 1. 0. 0. 1. 1. 1. 1. 0. 0. 0. 1. 0. 1. 0. 1. 1. 0.\n",
            " 1. 1. 1. 0. 0. 1. 1. 0. 0. 1. 0. 0. 0. 1. 1. 0. 0. 1. 1. 0. 1. 0. 0. 0.\n",
            " 0. 1. 1. 1. 0. 1. 0. 1. 1. 1. 1. 1. 0. 0. 0. 0. 1. 1. 0. 1. 0. 0. 1. 1.\n",
            " 0. 1. 1. 0. 1. 1. 1. 0. 0. 0. 0. 0. 0. 1. 0. 0. 0. 1. 1. 1. 0. 1. 0. 1.\n",
            " 1. 1. 0. 0. 0. 0. 1. 1. 0. 0. 0. 1. 1. 0. 0. 0. 0. 0. 0. 1. 0. 1. 1. 0.\n",
            " 0. 0. 0. 1. 1. 0. 0. 1. 1. 0. 1. 1. 0. 0. 1. 0. 1. 1. 0. 0. 0. 0. 1. 0.\n",
            " 1. 1. 0. 0. 0. 1. 0. 0. 0. 1. 0. 1. 0. 0. 0. 0. 0. 0. 1. 0. 1. 1. 0. 0.\n",
            " 1. 1. 0. 0. 1. 1. 1. 1. 1. 1. 0. 1. 1. 1. 1. 1. 0. 1. 1. 0. 0. 0. 0. 0.\n",
            " 1. 0. 1. 1. 0. 1. 1. 1. 1. 0. 1. 1. 0. 1. 0. 0. 1. 0. 1. 1. 0. 0. 1. 1.\n",
            " 0. 0. 1. 1. 0. 1. 0. 1. 1. 0. 1. 0. 1. 1. 0. 1. 1. 1. 0. 0. 0. 1. 1. 0.\n",
            " 1. 0. 0. 0. 1. 1. 0. 1. 0. 1. 0. 1. 0. 1. 1. 1. 0. 1. 1. 1. 1. 0. 1. 0.\n",
            " 0. 1. 1. 0. 0. 0. 0. 1. 1. 0. 1. 0. 1. 0. 1. 1. 1. 0. 1. 1. 1. 1. 1. 0.\n",
            " 1. 0. 0. 1. 0. 1. 0. 1. 0. 0. 1. 1. 0. 1. 0. 1. 1. 0. 0. 1. 1. 0. 1. 0.\n",
            " 0. 0. 0. 1. 0. 1. 0. 1. 0. 1. 1. 1. 0. 1. 1. 0. 0. 0. 0. 0. 1. 1. 1. 0.\n",
            " 1. 0. 1. 1. 1. 0. 1. 0. 1. 0. 0. 0. 1. 1. 0. 0. 1. 1. 0. 1. 1. 0. 0. 0.\n",
            " 0. 0. 0. 1. 0.]\n",
            "              precision    recall  f1-score   support\n",
            "\n",
            "         0.0       0.83      0.88      0.86       182\n",
            "         1.0       0.88      0.82      0.85       183\n",
            "\n",
            "    accuracy                           0.85       365\n",
            "   macro avg       0.85      0.85      0.85       365\n",
            "weighted avg       0.85      0.85      0.85       365\n",
            "\n",
            "\n",
            "\n"
          ]
        }
      ]
    },
    {
      "cell_type": "code",
      "source": [
        "#To save the tokenizer follow instructions in prepare_model_input function i.e. uncomment this line #pickle.dump(tokenizer, open('text_tokenizer.pkl', 'wb')) in that function\n",
        "# To save the model run this line\n",
        "# pickle.dump(model, open('model.pkl', 'wb'))\n",
        "# you are ready for deployment!"
      ],
      "metadata": {
        "id": "5HwkFR_4XUsR"
      },
      "execution_count": 23,
      "outputs": []
    },
    {
      "cell_type": "code",
      "source": [
        "!pip install pydot\n",
        "!pip install graphviz"
      ],
      "metadata": {
        "colab": {
          "base_uri": "https://localhost:8080/"
        },
        "id": "EqEBTeG-b_MK",
        "outputId": "d21c9aa2-9b03-461d-ff97-f13f8e26afdc"
      },
      "execution_count": 24,
      "outputs": [
        {
          "output_type": "stream",
          "name": "stdout",
          "text": [
            "Requirement already satisfied: pydot in /usr/local/lib/python3.7/dist-packages (1.3.0)\n",
            "Requirement already satisfied: pyparsing>=2.1.4 in /usr/local/lib/python3.7/dist-packages (from pydot) (3.0.8)\n",
            "Requirement already satisfied: graphviz in /usr/local/lib/python3.7/dist-packages (0.10.1)\n"
          ]
        }
      ]
    },
    {
      "cell_type": "code",
      "source": [
        "from tensorflow.keras.utils import plot_model"
      ],
      "metadata": {
        "id": "vrOkhHDTcDXt"
      },
      "execution_count": 25,
      "outputs": []
    },
    {
      "cell_type": "code",
      "source": [
        "plot_model(model, to_file='model121.png', show_shapes=True, show_layer_names=True)"
      ],
      "metadata": {
        "colab": {
          "base_uri": "https://localhost:8080/",
          "height": 1000
        },
        "id": "MP69lgMIcHd9",
        "outputId": "de63128a-4c95-4a6a-907e-dffe13423c6e"
      },
      "execution_count": 26,
      "outputs": [
        {
          "output_type": "execute_result",
          "data": {
            "text/plain": [
              "<IPython.core.display.Image object>"
            ],
            "image/png": "[encoded data removed]"
          },
          "metadata": {},
          "execution_count": 26
        }
      ]
    },
    {
      "cell_type": "code",
      "source": [
        "##Taken help from-> https://medium.com/analytics-vidhya/building-a-text-classification-model-using-bilstm-c0548ace26f2"
      ],
      "metadata": {
        "id": "K4Wz1p0cXUwZ"
      },
      "execution_count": 27,
      "outputs": []
    },
    {
      "cell_type": "code",
      "source": [
        "import matplotlib.pyplot as plt\n",
        "def plot_confusion_matrix(cm,\n",
        "                          target_names,\n",
        "                          title='Confusion matrix',\n",
        "                          cmap=None,\n",
        "                          normalize=True):\n",
        "\n",
        "    accuracy = np.trace(cm) / float(np.sum(cm))\n",
        "    misclass = 1 - accuracy\n",
        "\n",
        "    if cmap is None:\n",
        "        cmap = plt.get_cmap('Blues')\n",
        "\n",
        "    plt.figure(figsize=(5, 4))\n",
        "    plt.imshow(cm, interpolation='nearest', cmap=cmap)\n",
        "    plt.title(title)\n",
        "    plt.colorbar()\n",
        "\n",
        "    if target_names is not None:\n",
        "        tick_marks = np.arange(len(target_names))\n",
        "        plt.xticks(tick_marks, target_names, rotation=45)\n",
        "        plt.yticks(tick_marks, target_names)\n",
        "\n",
        "    if normalize:\n",
        "        cm = cm.astype('float') / cm.sum(axis=1)[:, np.newaxis]\n",
        "\n",
        "\n",
        "    thresh = cm.max() / 1.5 if normalize else cm.max() / 2\n",
        "    for i, j in itertools.product(range(cm.shape[0]), range(cm.shape[1])):\n",
        "        if normalize:\n",
        "            plt.text(j, i, \"{:0.4f}\".format(cm[i, j]),\n",
        "                     horizontalalignment=\"center\",\n",
        "                     color=\"white\" if cm[i, j] > thresh else \"black\")\n",
        "        else:\n",
        "            plt.text(j, i, \"{:,}\".format(cm[i, j]),\n",
        "                     horizontalalignment=\"center\",\n",
        "                     color=\"white\" if cm[i, j] > thresh else \"black\")\n",
        "\n",
        "\n",
        "    plt.tight_layout()\n",
        "    plt.ylabel('True label')\n",
        "    #plt.xlabel('Predicted label\\naccuracy={:0.4f}; misclass={:0.4f}'.format(accuracy, misclass))\n",
        "    plt.xlabel('Predicted label')\n",
        "    plt.show()"
      ],
      "metadata": {
        "id": "g9HmXlCcQCGc"
      },
      "execution_count": 28,
      "outputs": []
    },
    {
      "cell_type": "code",
      "source": [
        "from sklearn.metrics import classification_report,confusion_matrix\n",
        "from sklearn.metrics import accuracy_score, f1_score, precision_score, recall_score\n",
        "import itertools\n",
        "def print_metrices(pred,true):\n",
        "    print(confusion_matrix(true,pred))\n",
        "    print(classification_report(true,pred,))\n",
        "    print(\"Accuracy : \",accuracy_score(pred,true))\n",
        "    print(\"Precison : \",precision_score(pred,true, average = 'weighted'))\n",
        "    print(\"Recall : \",recall_score(pred,true,  average = 'weighted'))\n",
        "    print(\"F1 : \",f1_score(pred,true,  average = 'weighted'))"
      ],
      "metadata": {
        "id": "jkS6eLKlVBU-"
      },
      "execution_count": 36,
      "outputs": []
    },
    {
      "cell_type": "code",
      "source": [
        "print(type(predicted))\n",
        "print(predicted)\n",
        "print(type(y_test1))\n",
        "print(y_test1)"
      ],
      "metadata": {
        "colab": {
          "base_uri": "https://localhost:8080/"
        },
        "id": "n1A4Tq3bwJUN",
        "outputId": "f1a2d875-ac9a-452c-ea54-61091929a713"
      },
      "execution_count": 37,
      "outputs": [
        {
          "output_type": "stream",
          "name": "stdout",
          "text": [
            "<class 'numpy.ndarray'>\n",
            "[1. 0. 0. 1. 1. 0. 1. 0. 1. 0. 1. 1. 1. 1. 0. 1. 0. 1. 0. 1. 0. 1. 1. 1.\n",
            " 1. 1. 1. 0. 0. 1. 0. 1. 1. 1. 0. 0. 0. 1. 1. 0. 0. 1. 1. 0. 1. 0. 0. 1.\n",
            " 0. 1. 1. 1. 1. 0. 0. 1. 1. 1. 1. 1. 0. 0. 0. 0. 1. 1. 0. 1. 0. 0. 1. 0.\n",
            " 0. 1. 1. 0. 1. 1. 0. 0. 0. 1. 1. 1. 0. 1. 0. 1. 0. 1. 0. 1. 0. 1. 0. 1.\n",
            " 1. 1. 0. 0. 0. 0. 0. 1. 0. 0. 0. 0. 1. 0. 0. 0. 0. 0. 0. 1. 0. 1. 1. 0.\n",
            " 0. 1. 0. 1. 1. 0. 1. 1. 1. 0. 1. 1. 0. 0. 1. 0. 1. 1. 0. 0. 0. 0. 0. 0.\n",
            " 1. 0. 0. 0. 0. 1. 0. 0. 0. 0. 0. 1. 0. 0. 0. 0. 0. 0. 1. 0. 0. 1. 0. 0.\n",
            " 1. 1. 0. 0. 1. 1. 1. 1. 1. 1. 0. 1. 1. 1. 0. 0. 0. 1. 1. 0. 0. 0. 0. 0.\n",
            " 1. 0. 1. 1. 0. 1. 1. 0. 1. 1. 0. 1. 0. 1. 0. 0. 0. 0. 1. 1. 1. 0. 1. 1.\n",
            " 0. 0. 1. 1. 0. 1. 0. 1. 1. 0. 1. 0. 1. 1. 0. 1. 1. 1. 0. 0. 0. 1. 1. 0.\n",
            " 1. 0. 0. 0. 1. 1. 0. 1. 0. 1. 1. 0. 0. 1. 1. 1. 0. 1. 1. 1. 1. 1. 1. 0.\n",
            " 0. 1. 1. 0. 0. 0. 0. 0. 1. 0. 0. 0. 1. 0. 1. 1. 0. 0. 1. 1. 1. 1. 1. 0.\n",
            " 1. 0. 0. 0. 0. 1. 0. 1. 0. 0. 0. 1. 0. 0. 1. 1. 1. 0. 0. 1. 1. 0. 1. 0.\n",
            " 0. 0. 0. 0. 0. 0. 0. 1. 0. 1. 1. 1. 0. 0. 1. 0. 0. 0. 0. 0. 0. 0. 0. 0.\n",
            " 1. 0. 1. 1. 1. 0. 1. 1. 1. 0. 0. 0. 1. 1. 0. 0. 1. 1. 0. 1. 0. 0. 0. 0.\n",
            " 1. 0. 0. 0. 0.]\n",
            "<class 'numpy.ndarray'>\n",
            "[1. 1. 0. 1. 1. 0. 0. 1. 0. 0. 1. 1. 1. 1. 0. 0. 0. 1. 0. 1. 0. 1. 1. 0.\n",
            " 1. 1. 1. 0. 0. 1. 1. 0. 0. 1. 0. 0. 0. 1. 1. 0. 0. 1. 1. 0. 1. 0. 0. 0.\n",
            " 0. 1. 1. 1. 0. 1. 0. 1. 1. 1. 1. 1. 0. 0. 0. 0. 1. 1. 0. 1. 0. 0. 1. 1.\n",
            " 0. 1. 1. 0. 1. 1. 1. 0. 0. 0. 0. 0. 0. 1. 0. 0. 0. 1. 1. 1. 0. 1. 0. 1.\n",
            " 1. 1. 0. 0. 0. 0. 1. 1. 0. 0. 0. 1. 1. 0. 0. 0. 0. 0. 0. 1. 0. 1. 1. 0.\n",
            " 0. 0. 0. 1. 1. 0. 0. 1. 1. 0. 1. 1. 0. 0. 1. 0. 1. 1. 0. 0. 0. 0. 1. 0.\n",
            " 1. 1. 0. 0. 0. 1. 0. 0. 0. 1. 0. 1. 0. 0. 0. 0. 0. 0. 1. 0. 1. 1. 0. 0.\n",
            " 1. 1. 0. 0. 1. 1. 1. 1. 1. 1. 0. 1. 1. 1. 1. 1. 0. 1. 1. 0. 0. 0. 0. 0.\n",
            " 1. 0. 1. 1. 0. 1. 1. 1. 1. 0. 1. 1. 0. 1. 0. 0. 1. 0. 1. 1. 0. 0. 1. 1.\n",
            " 0. 0. 1. 1. 0. 1. 0. 1. 1. 0. 1. 0. 1. 1. 0. 1. 1. 1. 0. 0. 0. 1. 1. 0.\n",
            " 1. 0. 0. 0. 1. 1. 0. 1. 0. 1. 0. 1. 0. 1. 1. 1. 0. 1. 1. 1. 1. 0. 1. 0.\n",
            " 0. 1. 1. 0. 0. 0. 0. 1. 1. 0. 1. 0. 1. 0. 1. 1. 1. 0. 1. 1. 1. 1. 1. 0.\n",
            " 1. 0. 0. 1. 0. 1. 0. 1. 0. 0. 1. 1. 0. 1. 0. 1. 1. 0. 0. 1. 1. 0. 1. 0.\n",
            " 0. 0. 0. 1. 0. 1. 0. 1. 0. 1. 1. 1. 0. 1. 1. 0. 0. 0. 0. 0. 1. 1. 1. 0.\n",
            " 1. 0. 1. 1. 1. 0. 1. 0. 1. 0. 0. 0. 1. 1. 0. 0. 1. 1. 0. 1. 1. 0. 0. 0.\n",
            " 0. 0. 0. 1. 0.]\n"
          ]
        }
      ]
    },
    {
      "cell_type": "code",
      "source": [
        "print_metrices( predicted.astype(int), y_test1.astype(int))\n",
        "plot_confusion_matrix(confusion_matrix(y_test1.astype(int),predicted.astype(int)),target_names=[0,1], normalize = False, \\\n",
        "                      title = 'Confusion matix of Bi-LSTM on test data')"
      ],
      "metadata": {
        "colab": {
          "base_uri": "https://localhost:8080/",
          "height": 571
        },
        "id": "bZqJBWEaVBX7",
        "outputId": "a14fb38f-59a7-4eb8-8e20-70661e1fb942"
      },
      "execution_count": 38,
      "outputs": [
        {
          "output_type": "stream",
          "name": "stdout",
          "text": [
            "[[161  21]\n",
            " [ 33 150]]\n",
            "              precision    recall  f1-score   support\n",
            "\n",
            "           0       0.83      0.88      0.86       182\n",
            "           1       0.88      0.82      0.85       183\n",
            "\n",
            "    accuracy                           0.85       365\n",
            "   macro avg       0.85      0.85      0.85       365\n",
            "weighted avg       0.85      0.85      0.85       365\n",
            "\n",
            "Accuracy :  0.852054794520548\n",
            "Precison :  0.8541899151825045\n",
            "Recall :  0.852054794520548\n",
            "F1 :  0.8522015126291193\n"
          ]
        },
        {
          "output_type": "display_data",
          "data": {
            "text/plain": [
              "<Figure size 360x288 with 2 Axes>"
            ],
            "image/png": "[encoded data removed]"
          },
          "metadata": {
            "needs_background": "light"
          }
        }
      ]
    },
    {
      "cell_type": "code",
      "source": [
        ""
      ],
      "metadata": {
        "id": "-hjdg5EOVBb9"
      },
      "execution_count": 38,
      "outputs": []
    },
    {
      "cell_type": "code",
      "source": [
        ""
      ],
      "metadata": {
        "id": "iVXw7I84VBee"
      },
      "execution_count": 38,
      "outputs": []
    },
    {
      "cell_type": "code",
      "source": [
        ""
      ],
      "metadata": {
        "id": "HX_DVvhvVBg-"
      },
      "execution_count": 38,
      "outputs": []
    },
    {
      "cell_type": "code",
      "source": [
        ""
      ],
      "metadata": {
        "id": "H6sKMMY_VBkQ"
      },
      "execution_count": 38,
      "outputs": []
    },
    {
      "cell_type": "code",
      "source": [
        ""
      ],
      "metadata": {
        "id": "Md1XL6ekVBoV"
      },
      "execution_count": 38,
      "outputs": []
    }
  ]
}
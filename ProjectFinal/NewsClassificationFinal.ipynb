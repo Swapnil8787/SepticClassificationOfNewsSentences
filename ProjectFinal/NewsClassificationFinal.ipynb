{
  "nbformat": 4,
  "nbformat_minor": 0,
  "metadata": {
    "colab": {
      "name": "NewsClassification.ipynb",
      "provenance": [],
      "collapsed_sections": []
    },
    "kernelspec": {
      "display_name": "Python 3",
      "language": "python",
      "name": "python3"
    },
    "language_info": {
      "codemirror_mode": {
        "name": "ipython",
        "version": 3
      },
      "file_extension": ".py",
      "mimetype": "text/x-python",
      "name": "python",
      "nbconvert_exporter": "python",
      "pygments_lexer": "ipython3",
      "version": "3.6.9"
    }
  },
  "cells": [
    {
      "cell_type": "code",
      "metadata": {
        "id": "oWM4MU5_erfr",
        "colab": {
          "base_uri": "https://localhost:8080/"
        },
        "outputId": "d840b91f-2761-4910-84e2-fd9956e3f1ec"
      },
      "source": [
        "import numpy as np\n",
        "import pandas as pd\n",
        "from sklearn.model_selection import train_test_split\n",
        "from keras.preprocessing.text import Tokenizer\n",
        "from keras.datasets import imdb\n",
        "from keras.models import Sequential\n",
        "from keras.layers import Dense,Conv1D,MaxPooling1D\n",
        "from keras.layers import LSTM,Dropout\n",
        "from keras.layers.embeddings import Embedding\n",
        "from keras.preprocessing import sequence\n",
        "from keras.preprocessing.sequence import pad_sequences\n",
        "from keras.callbacks import ModelCheckpoint\n",
        "!pip install nltk\n",
        "import nltk\n",
        "nltk.download('stopwords')\n",
        "nltk.download('punkt')\n",
        "from nltk.tokenize import sent_tokenize, word_tokenize\n",
        "# fix random seed for reproducibility\n",
        "np.random.seed(7)\n",
        "from prettytable import PrettyTable\n",
        "import warnings\n",
        "warnings.filterwarnings('ignore')"
      ],
      "execution_count": 1,
      "outputs": [
        {
          "output_type": "stream",
          "name": "stdout",
          "text": [
            "Requirement already satisfied: nltk in /usr/local/lib/python3.7/dist-packages (3.2.5)\n",
            "Requirement already satisfied: six in /usr/local/lib/python3.7/dist-packages (from nltk) (1.15.0)\n",
            "[nltk_data] Downloading package stopwords to /root/nltk_data...\n",
            "[nltk_data]   Package stopwords is already up-to-date!\n",
            "[nltk_data] Downloading package punkt to /root/nltk_data...\n",
            "[nltk_data]   Package punkt is already up-to-date!\n"
          ]
        }
      ]
    },
    {
      "cell_type": "code",
      "metadata": {
        "id": "9Dg3-CPJergJ"
      },
      "source": [
        "# # real_data=pd.read_csv(\"/content/sample_data/News.csv\", header=None, skipinitialspace=True ,skiprows=1, encoding='utf-8')\n",
        "# # septic_data = pd.read_csv(\"/content/sample_data/SepticDataset1.csv\", header=None, skipinitialspace=True ,skiprows=1, encoding='utf-8') \n",
        "# # septic_data=septic_data.drop(0, axis=1)\n",
        "# # septic_data=septic_data.drop(1, axis=1)\n",
        "# # septic_data.rename(columns = {2: 0, 3: 1}, inplace = True)\n",
        "# # real_data[1] = real_data[1].replace(['1-Septic', '0-Pure'], [1, 0])\n",
        "# # septic_data=septic_data.iloc[0:1500,:]\n",
        "# # news_data= pd.concat([real_data, septic_data], axis=0)\n",
        "# # print(real_data.shape)\n",
        "# # print(septic_data.shape)\n",
        "# # news_data[0] = news_data[0].replace('\\n', '', regex=True).str.strip()\n",
        "# # labels=news_data[1]\n",
        "# # labels.head()     \n",
        "# # X = news_data[0]\n",
        "# # Y=news_data[1]\n",
        "# # x_train,x_test,y_train,y_test=train_test_split(X, Y, test_size=0.05, random_state=7)\n",
        "# real_data=pd.read_csv(\"/content/sample_data/News.csv\", header=None, skipinitialspace=True ,skiprows=1, encoding='utf-8')\n",
        "# real_data[1] = real_data[1].replace(['1-Septic', '0-Pure'], [1, 0])\n",
        "# # real_data[0] = real_data[0].replace('\\n', '', regex=True).str.strip()  \n",
        "# #labels=news_data[1]\n",
        "# #labels.head()     \n",
        "# #print(type(labels))\n",
        "# #news_data[1].value_counts()\n",
        "# septic_data = pd.read_csv(\"/content/sample_data/train.csv\", header=None, skipinitialspace=True , encoding='utf-8') \n",
        "# # septic_data=septic_data.drop(0, axis=1)\n",
        "# # septic_data=septic_data.drop(1, axis=1)\n",
        "# # septic_data.rename(columns = {2: 0, 3: 1}, inplace = True)\n",
        "# #septic_data=septic_data.iloc[0:1500,:]\n",
        "# # septic_data[0] = septic_data[0].replace('\\n', '', regex=True).str.strip()\n",
        "# news_data= pd.concat([real_data, septic_data], axis=0)\n",
        "# news_data[0] = news_data[0].replace('\\n', '', regex=True).str.strip()\n",
        "# #news_data.head(20)\n",
        "# print(news_data.head(20))\n",
        "# print(real_data.head(20))\n",
        "# print(septic_data.head(20))\n",
        "    \n",
        "# labels=news_data[1]\n",
        "# labels.head()     \n",
        "# #print(type(labels))\n",
        "    \n",
        "# #news_data[1].value_counts()\n",
        "    \n",
        "# X = news_data[0]\n",
        "# Y=news_data[1]\n",
        "# x_train,x_test,y_train,y_test=train_test_split(X, Y, test_size=0.05, random_state=7)\n",
        " \n",
        "# x_train = x_train.str.replace('\\d+', '') # removing all numbers\n",
        "# x_test = x_test.str.replace('\\d+', '')\n",
        "# from nltk.corpus import stopwords\n",
        "# stop = stopwords.words('english')\n",
        "# x_train = x_train.apply(lambda x: ' '.join([word for word in x.split() if word not in (stop)]))\n",
        "# x_test = x_test.apply(lambda x: ' '.join([word for word in x.split() if word not in (stop)]))\n",
        "# tokenizer = Tokenizer(num_words=None) #adding this parameter can  responsible for setting the size of the vocabulary i.e the most common num_words\n",
        "# tokenizer.fit_on_texts(x_train)\n",
        "# vocab_size = len(tokenizer.word_index) + 1  \n",
        "# data = []\n",
        "# punc = '.'\n",
        "# for i in x_train:\n",
        "#   i = i[:-1]\n",
        "#   token = word_tokenize(i)\n",
        "#   if punc in token:\n",
        "#     for index ,val in enumerate(token):\n",
        "#       if punc == val:\n",
        "#         token.pop(index)           \n",
        "#   data.append(token)\n",
        "# x_train = tokenizer.texts_to_sequences(data) \n",
        "# x_test = tokenizer.texts_to_sequences(x_test)\n",
        "# maxlen = 100\n",
        "# x_train = pad_sequences(x_train, padding='post', maxlen=maxlen)\n",
        "# x_test = pad_sequences(x_test, padding='post', maxlen=maxlen)\n",
        "# y_train = np.array(y_train)\n",
        "# y_test = np.array(y_test)\n",
        "# y_train = y_train.astype('float64')\n",
        "# y_test = y_test.astype('float64')\n",
        "# print(('X_train shape:', x_train.shape))\n",
        "# print(('X_test shape:', x_test.shape))\n",
        "# print(('y_train shape:', y_train.shape))\n",
        "# print(('y_test shape:', y_test.shape))\n",
        "\n",
        "\n",
        "\n",
        "\n",
        "\n",
        "\n",
        "# real_data=pd.read_csv(\"/content/sample_data/News.csv\", header=None, skipinitialspace=True ,skiprows=1, encoding='utf-8')\n",
        "# septic_data = pd.read_csv(\"/content/sample_data/Swapnil_Extra_Annotation.csv\", header=None, skipinitialspace=True , encoding='utf-8') \n",
        "# real_data[1] = real_data[1].replace(['1-Septic', '0-Pure'], [1, 0])\n",
        "# news_data= pd.concat([real_data, septic_data], axis=0)\n",
        "# septic_data = pd.read_csv(\"/content/sample_data/Prasant_Extra_Annotation.csv\", header=None, skipinitialspace=True , encoding='utf-8') \n",
        "# news_data= pd.concat([news_data, septic_data], axis=0)\n",
        "# septic_data = pd.read_csv(\"/content/sample_data/Kunal_Extra_Annotation.csv\", header=None, skipinitialspace=True , encoding='utf-8') \n",
        "# news_data= pd.concat([news_data, septic_data], axis=0)\n",
        "# septic_data = pd.read_csv(\"/content/sample_data/ExtraCovidAnnotation.csv\", header=None, skipinitialspace=True , encoding='utf-8') \n",
        "# news_data= pd.concat([news_data, septic_data], axis=0)\n",
        "# septic_data = pd.read_csv(\"/content/sample_data/CovidData.csv\", header=None, skipinitialspace=True , encoding='utf-8') \n",
        "# news_data= pd.concat([news_data, septic_data], axis=0)\n",
        "# news_data[0] = news_data[0].replace('\\n', '', regex=True).str.strip()\n",
        "# print(news_data.head(20))\n",
        "# print(real_data.head(20))\n",
        "# print(septic_data.head(20))\n",
        "# labels=news_data[1]\n",
        "# labels.head()     \n",
        "# X = news_data[0]\n",
        "# Y=news_data[1]\n",
        "# x_train,x_test,y_train,y_test=train_test_split(X, Y, test_size=0.05, random_state=7)\n",
        "# x_train = x_train.str.replace('\\d+', '') # removing all numbers\n",
        "# x_test = x_test.str.replace('\\d+', '')\n",
        "# from nltk.corpus import stopwords\n",
        "# stop = stopwords.words('english')\n",
        "# x_train = x_train.apply(lambda x: ' '.join([word for word in str(x).split() if word not in (stop)]))\n",
        "# x_test = x_test.apply(lambda x: ' '.join([word for word in str(x).split() if word not in (stop)]))\n",
        "# tokenizer = Tokenizer(num_words=None) #adding this parameter can  responsible for setting the size of the vocabulary i.e the most common num_words\n",
        "# tokenizer.fit_on_texts(x_train)\n",
        "# vocab_size = len(tokenizer.word_index) + 1  \n",
        "# data = []\n",
        "# punc = '.'\n",
        "# for i in x_train:\n",
        "#     i = i[:-1]\n",
        "#     token = word_tokenize(i)\n",
        "#     if punc in token:\n",
        "#         for index ,val in enumerate(token):\n",
        "#             if punc == val:\n",
        "#                 token.pop(index)           \n",
        "#     data.append(token)\n",
        "# x_train = tokenizer.texts_to_sequences(data) \n",
        "# x_test = tokenizer.texts_to_sequences(x_test)\n",
        "# maxlen = 100\n",
        "# x_train = pad_sequences(x_train, padding='post', maxlen=maxlen)\n",
        "# x_test = pad_sequences(x_test, padding='post', maxlen=maxlen)\n",
        "# y_train = np.array(y_train)\n",
        "# y_test = np.array(y_test)\n",
        "# y_train = y_train.astype('float64')\n",
        "# y_test = y_test.astype('float64')\n",
        "# print(('X_train shape:', x_train.shape))\n",
        "# print(('X_test shape:', x_test.shape))\n",
        "# print(('y_train shape:', y_train.shape))\n",
        "# print(('y_test shape:', y_test.shape))"
      ],
      "execution_count": 2,
      "outputs": []
    },
    {
      "cell_type": "code",
      "metadata": {
        "id": "ScXp8JgVergV"
      },
      "source": [
        "# news_data.dropna(axis=0, inplace=True)\n",
        "# x = news_data[0]\n",
        "# y = news_data[1]\n",
        "# x_train , x_test ,y_train ,  y_test = train_test_split(x, y, test_size = 0.1)"
      ],
      "execution_count": 3,
      "outputs": []
    },
    {
      "cell_type": "code",
      "metadata": {
        "id": "7Kir-w_awSwV"
      },
      "source": [
        "# print(len(x_train))\n",
        "# data = []\n",
        "# punc = '.'\n",
        "# for i in x_train:\n",
        "#     i = i[:-1]\n",
        "#     token = word_tokenize(i)\n",
        "#     if punc in token:\n",
        "#         for index ,val in enumerate(token):\n",
        "#             if punc == val:\n",
        "#                 token.pop(index)\n",
        "        \n",
        "#     data.append(token)\n",
        "    \n",
        "# print(data)  "
      ],
      "execution_count": 4,
      "outputs": []
    },
    {
      "cell_type": "code",
      "metadata": {
        "id": "XiTuun6hm9W8"
      },
      "source": [
        "# tokenizer = Tokenizer(num_words=5000) #adding this parameter can  responsible for setting the size of the vocabulary i.e the most common num_words\n",
        "# tokenizer.fit_on_texts(x_train)\n",
        "# x_train = tokenizer.texts_to_sequences(x_train)\n",
        "# x_test = tokenizer.texts_to_sequences(x_test)"
      ],
      "execution_count": 5,
      "outputs": []
    },
    {
      "cell_type": "code",
      "metadata": {
        "id": "MCnOu97Im9p6"
      },
      "source": [
        "# maxlen = 100\n",
        "# x_train = pad_sequences(x_train, padding='post', maxlen=maxlen)\n",
        "# x_test = pad_sequences(x_test, padding='post', maxlen=maxlen)\n",
        "# print(x_train)\n",
        "# news_data.info()\n",
        "\n",
        "\n",
        "\n",
        "\n",
        "\n",
        "\n",
        "\n",
        "\n",
        "\n",
        "\n",
        "\n",
        "\n",
        "\n",
        "# word_index = tokenizer.word_index\n",
        "# vocab_size=len(word_index)"
      ],
      "execution_count": 6,
      "outputs": []
    },
    {
      "cell_type": "code",
      "metadata": {
        "id": "mPkGsD9Um95k"
      },
      "source": [
        "# from keras import layers\n",
        "\n",
        "# model = Sequential()\n",
        "# model.add(layers.Embedding(vocab_size, embedding_dim, input_length=maxlen))\n",
        "# model.add(layers.Conv1D(128, 5, activation='relu'))\n",
        "# model.add(layers.GlobalMaxPooling1D())\n",
        "# model.add(layers.Dense(10, activation='relu'))\n",
        "# model.add(layers.Dense(1, activation='sigmoid'))\n",
        "# model.compile(optimizer='adam',\n",
        "#               loss='binary_crossentropy',\n",
        "#               metrics=['accuracy'])\n",
        "# model.fit(x_train, y_train,epochs=10,batch_size=10)\n",
        "\n",
        "\n",
        "\n",
        "\n",
        "\n",
        "\n",
        "\n",
        "\n",
        "\n",
        "\n",
        "\n",
        "\n",
        "\n",
        "\n",
        "\n",
        "\n",
        "\n",
        "\n",
        "import pandas as pd\n",
        "import nltk\n",
        "import re\n",
        "from nltk.corpus import stopwords\n",
        "import matplotlib.pyplot as plt\n",
        "from sklearn.feature_extraction.text import CountVectorizer, TfidfTransformer\n",
        "from sklearn.metrics import classification_report,confusion_matrix\n",
        "from sklearn.metrics import accuracy_score, f1_score, precision_score, recall_score\n",
        "from sklearn.svm import LinearSVC\n",
        "from sklearn.pipeline import Pipeline\n",
        "from sklearn.linear_model import SGDClassifier, LogisticRegression\n",
        "from sklearn.neural_network import MLPClassifier\n",
        "from joblib import dump, load\n",
        "from sklearn.ensemble import GradientBoostingClassifier\n",
        "from sklearn import tree\n",
        "import numpy as np\n",
        "import itertools"
      ],
      "execution_count": 7,
      "outputs": []
    },
    {
      "cell_type": "code",
      "metadata": {
        "id": "W-fnR8HkajnT"
      },
      "source": [
        "def plot_confusion_matrix(cm,\n",
        "                          target_names,\n",
        "                          title='Confusion matrix',\n",
        "                          cmap=None,\n",
        "                          normalize=True):\n",
        "\n",
        "    accuracy = np.trace(cm) / float(np.sum(cm))\n",
        "    misclass = 1 - accuracy\n",
        "\n",
        "    if cmap is None:\n",
        "        cmap = plt.get_cmap('Blues')\n",
        "\n",
        "    plt.figure(figsize=(5, 4))\n",
        "    plt.imshow(cm, interpolation='nearest', cmap=cmap)\n",
        "    plt.title(title)\n",
        "    plt.colorbar()\n",
        "\n",
        "    if target_names is not None:\n",
        "        tick_marks = np.arange(len(target_names))\n",
        "        plt.xticks(tick_marks, target_names, rotation=45)\n",
        "        plt.yticks(tick_marks, target_names)\n",
        "\n",
        "    if normalize:\n",
        "        cm = cm.astype('float') / cm.sum(axis=1)[:, np.newaxis]\n",
        "\n",
        "\n",
        "    thresh = cm.max() / 1.5 if normalize else cm.max() / 2\n",
        "    for i, j in itertools.product(range(cm.shape[0]), range(cm.shape[1])):\n",
        "        if normalize:\n",
        "            plt.text(j, i, \"{:0.4f}\".format(cm[i, j]),\n",
        "                     horizontalalignment=\"center\",\n",
        "                     color=\"white\" if cm[i, j] > thresh else \"black\")\n",
        "        else:\n",
        "            plt.text(j, i, \"{:,}\".format(cm[i, j]),\n",
        "                     horizontalalignment=\"center\",\n",
        "                     color=\"white\" if cm[i, j] > thresh else \"black\")\n",
        "\n",
        "\n",
        "    plt.tight_layout()\n",
        "    plt.ylabel('True label')\n",
        "    #plt.xlabel('Predicted label\\naccuracy={:0.4f}; misclass={:0.4f}'.format(accuracy, misclass))\n",
        "    plt.xlabel('Predicted label')\n",
        "    plt.show()\n"
      ],
      "execution_count": 8,
      "outputs": []
    },
    {
      "cell_type": "code",
      "metadata": {
        "id": "VhrqyZtsalGV"
      },
      "source": [
        "def print_metrices(pred,true):\n",
        "    print(confusion_matrix(true,pred))\n",
        "    print(classification_report(true,pred,))\n",
        "    print(\"Accuracy : \",accuracy_score(pred,true))\n",
        "    print(\"Precison : \",precision_score(pred,true, average = 'weighted'))\n",
        "    print(\"Recall : \",recall_score(pred,true,  average = 'weighted'))\n",
        "    print(\"F1 : \",f1_score(pred,true,  average = 'weighted'))"
      ],
      "execution_count": 9,
      "outputs": []
    },
    {
      "cell_type": "markdown",
      "metadata": {
        "id": "K669BFT1XR1q"
      },
      "source": [
        "#LSTM"
      ]
    },
    {
      "cell_type": "code",
      "metadata": {
        "id": "7f21R-XWWAjj"
      },
      "source": [
        "# # Import tensor representations for words\n",
        "\n",
        "# !wget --no-check-certificate \\\n",
        "#     https://storage.googleapis.com/laurencemoroney-blog.appspot.com/glove.6B.100d.txt \\\n",
        "#     -O /tmp/glove.6B.100d.txt\n",
        "# embeddings_index = {};\n",
        "# with open('/tmp/glove.6B.100d.txt') as f:\n",
        "#     for line in f:\n",
        "#         values = line.split();\n",
        "#         word = values[0];\n",
        "#         coefs = np.asarray(values[1:], dtype='float32');\n",
        "#         embeddings_index[word] = coefs;\n",
        "# #print(len(coefs))\n",
        "\n",
        "# embeddings_matrix = np.zeros((vocab_size+1, 100));\n",
        "# for word, i in word_index.items():\n",
        "#     embedding_vector = embeddings_index.get(word);\n",
        "#     if embedding_vector is not None:\n",
        "#         embeddings_matrix[i] = embedding_vector;"
      ],
      "execution_count": 10,
      "outputs": []
    },
    {
      "cell_type": "code",
      "metadata": {
        "id": "58M3k-QPtPk7"
      },
      "source": [
        "# from tensorflow.keras import Model, Input\n",
        "# from tensorflow.keras.layers import LSTM, Embedding, Dense\n",
        "# from tensorflow.keras.layers import TimeDistributed, SpatialDropout1D, Bidirectional\n",
        "# print(x_train.shape)\n",
        "# model = Sequential()\n",
        "# input_word = Input(shape=(7026,))\n",
        "# model = Embedding(input_dim=x_train.shape[0], output_dim=1, input_length=100)(input_word)\n",
        "# model = SpatialDropout1D(0.1)(model)\n",
        "# model = Bidirectional(LSTM(units=100, return_sequences=True, recurrent_dropout=0.1))(model)\n",
        "# out = TimeDistributed(Dense(1, activation=\"sigmoid\"))(model)\n",
        "# model = Model(input_word, out)\n",
        "# model.summary()\n",
        "# def create_model(x_train, y_train, x_test, y_test):\n",
        "#     num_classes = 1 # y_train.shape[1]\n",
        "#     num_tokens = 100 #x_train.shape[1]\n",
        "#     print(num_classes)\n",
        "#     print(num_tokens)\n",
        "#     model = Sequential()\n",
        "#     model.add(Embedding(vocab_size, output_dim = {{choice([16,32,60, 80, 100])}}, input_length = 100))\n",
        "#     model.add(Dropout({{choice([0.3, 0.4, 0.5, 0.6])}}))\n",
        "#     model.add(Conv1D(filters = {{choice([32,50, 60, 80])}}, kernel_size = {{choice([3,6,10,15,20,30])}}, padding='valid', activation='relu', strides=1))\n",
        "#     model.add(GlobalMaxPool1D())\n",
        "#     model.add(Dense(num_classes))\n",
        "#     model.add(Activation('sigmoid'))\n",
        "\n",
        "#     model.compile(loss='binary_crossentropy',\n",
        "#                   optimizer={{choice(['adam', 'sgd'])}},\n",
        "#                   metrics=['acc'])\n",
        "\n",
        "#     # Optional to log output from Keras\n",
        "#     #csv_logger = keras.callbacks.CSVLogger('Logs/dl_model.log')\n",
        "    \n",
        "#     result = model.fit(x_train, y_train,\n",
        "#               batch_size=128,\n",
        "#               epochs=10,\n",
        "#               verbose=0,\n",
        "#               validation_split=0.1)\n",
        "#     #get the highest validation accuracy of the training epochs\n",
        "#     validation_acc = np.amax(result.history['val_acc']) \n",
        "#     print('Best validation acc of epoch:', validation_acc)\n",
        "#     return {'loss': -validation_acc, 'status': STATUS_OK, 'model': model}"
      ],
      "execution_count": 11,
      "outputs": []
    },
    {
      "cell_type": "code",
      "metadata": {
        "id": "T0_MKeyCm9x-"
      },
      "source": [
        "# model.compile(optimizer=\"adam\",\n",
        "#               loss=\"categorical_crossentropy\",\n",
        "#               metrics=[\"accuracy\"])\n",
        "# import tensorflow as tf\n",
        "# model = tf.keras.Sequential([\n",
        "#     tf.keras.layers.Embedding(vocab_size+1, 100, weights=[embeddings_matrix], trainable=False),\n",
        "#     tf.keras.layers.Dropout(0.2),\n",
        "#     tf.keras.layers.Conv1D(64, 5, activation='relu'),\n",
        "#     tf.keras.layers.MaxPooling1D(pool_size=4),\n",
        "#     tf.keras.layers.LSTM(20, return_sequences=True),\n",
        "#     tf.keras.layers.LSTM(20),\n",
        "#     tf.keras.layers.Dropout(0.2),  \n",
        "#     tf.keras.layers.Dense(512),\n",
        "#     tf.keras.layers.Dropout(0.3),  \n",
        "#     tf.keras.layers.Dense(256),\n",
        "#     tf.keras.layers.Dense(1, activation='sigmoid')\n",
        "# ])"
      ],
      "execution_count": 12,
      "outputs": []
    },
    {
      "cell_type": "code",
      "metadata": {
        "id": "ULZ2cYso7ueX"
      },
      "source": [
        "# # print(x_train.shape , y_train.shape)\n",
        "\n",
        "# # history = model.fit(\n",
        "# #     x=x_train,\n",
        "# #     y=y_train,\n",
        "# #     epochs=10\n",
        "# # )\n",
        "\n",
        "# model.compile(loss='binary_crossentropy',optimizer='adam',metrics=['accuracy'])\n",
        "# model.summary()\n",
        "\n",
        "# history = model.fit(x_train, y_train, epochs=5, batch_size=100, validation_data=[x_test, y_test])\n",
        "\n",
        "# print(\"Training Complete\")"
      ],
      "execution_count": 13,
      "outputs": []
    },
    {
      "cell_type": "code",
      "metadata": {
        "id": "M3zPzDM47u1R"
      },
      "source": [
        "# pred=np.round(model.predict(x_test))\n",
        "# print_metrices(pred,y_test)\n",
        "# plot_confusion_matrix(confusion_matrix(y_test,pred),target_names=[0,1], normalize = False, \\\n",
        "#                       title = 'Confusion matix of LSTM on test data')"
      ],
      "execution_count": 14,
      "outputs": []
    },
    {
      "cell_type": "code",
      "metadata": {
        "id": "2ogZm1MAm91D"
      },
      "source": [
        "# embedding_dim = 50\n"
      ],
      "execution_count": 15,
      "outputs": []
    },
    {
      "cell_type": "markdown",
      "metadata": {
        "id": "spBOzRzhXMzH"
      },
      "source": [
        "#Running ML Models"
      ]
    },
    {
      "cell_type": "code",
      "metadata": {
        "id": "x8wI_93PX-nb"
      },
      "source": [
        "stops = set(stopwords.words(\"english\"))\n",
        "def cleantext(string):\n",
        "    text = string.lower().split()\n",
        "    text = \" \".join(text)\n",
        "    text = re.sub(r\"http(\\S)+\",' ',text)    \n",
        "    text = re.sub(r\"www(\\S)+\",' ',text)\n",
        "    text = re.sub(r\"&\",' and ',text)  \n",
        "    tx = text.replace('&amp',' ')\n",
        "    text = re.sub(r\"[^0-9a-zA-Z]+\",' ',text)\n",
        "    text = text.split()\n",
        "    text = [w for w in text if not w in stops]\n",
        "    text = \" \".join(text)\n",
        "    return text"
      ],
      "execution_count": 16,
      "outputs": []
    },
    {
      "cell_type": "code",
      "metadata": {
        "id": "x7t3aZ0MYIiA",
        "colab": {
          "base_uri": "https://localhost:8080/"
        },
        "outputId": "514abdfb-e918-4f37-aa05-42d2fa691400"
      },
      "source": [
        "real_data=pd.read_csv(\"/content/sample_data/News.csv\", header=None, skipinitialspace=True ,skiprows=1, encoding='utf-8')\n",
        "septic_data = pd.read_csv(\"/content/sample_data/Swapnil_Extra_Annotation.csv\", header=None, skipinitialspace=True , encoding='utf-8') \n",
        "real_data[1] = real_data[1].replace(['1-Septic', '0-Pure'], [1, 0])\n",
        "news_data= pd.concat([real_data, septic_data], axis=0)\n",
        "septic_data = pd.read_csv(\"/content/sample_data/Prasant_Extra_Annotation.csv\", header=None, skipinitialspace=True , encoding='utf-8') \n",
        "news_data= pd.concat([news_data, septic_data], axis=0)\n",
        "septic_data = pd.read_csv(\"/content/sample_data/Kunal_Extra_Annotation.csv\", header=None, skipinitialspace=True , encoding='utf-8') \n",
        "news_data= pd.concat([news_data, septic_data], axis=0)\n",
        "septic_data = pd.read_csv(\"/content/sample_data/ExtraCovidAnnotation.csv\", header=None, skipinitialspace=True , encoding='utf-8') \n",
        "news_data= pd.concat([news_data, septic_data], axis=0)\n",
        "septic_data = pd.read_csv(\"/content/sample_data/CovidData.csv\", header=None, skipinitialspace=True , encoding='utf-8') \n",
        "news_data= pd.concat([news_data, septic_data], axis=0)\n",
        "news_data[0] = news_data[0].replace('\\n', '', regex=True).str.strip()\n",
        "print(news_data.head(20))\n",
        "print(real_data.head(20))\n",
        "print(septic_data.head(20))\n",
        "labels=news_data[1]\n",
        "labels.head()     \n",
        "X = news_data[0]\n",
        "Y=news_data[1]\n",
        "x_train,x_test,y_train,y_test=train_test_split(X, Y, test_size=0.05, random_state=7)\n",
        "x_train = x_train.str.replace('\\d+', '') # removing all numbers\n",
        "x_test = x_test.str.replace('\\d+', '')\n",
        "\n",
        "\n",
        "train=x_train\n",
        "test=x_test\n",
        "train = train.map(lambda x: cleantext(x))\n",
        "test = test.map(lambda x: cleantext(x))\n",
        "y_train=y_train.astype('int')\n",
        "y_test=y_test.astype('int')\n"
      ],
      "execution_count": 17,
      "outputs": [
        {
          "output_type": "stream",
          "name": "stdout",
          "text": [
            "                                                    0  1\n",
            "0   The political predicament also appears to be t...  0\n",
            "1   The CM had planned to meet the duo when he com...  0\n",
            "2   He’s now scheduled to visit New Delhi on Thurs...  0\n",
            "3   “If he fails to do so, he would face open rebe...  0\n",
            "4   “Further delay is likely. Despite threats from...  0\n",
            "5   “The party should make a concerted effort to i...  0\n",
            "6   Taking serious note of allegations pertaining ...  0\n",
            "7   Panchayat raj and mining minister Pedireddy Ra...  0\n",
            "8   Sources said the party legislator reportedly s...  0\n",
            "9   The legislator is his report said that large q...  0\n",
            "10  The legislator claimed that the gravel was ext...  0\n",
            "11  “The Mandal Parishad Development Officers (MPD...  0\n",
            "12  He submitted also certain documents to substan...  0\n",
            "13  “The MPDOs requisitioned for supply of about 8...  0\n",
            "14  He said that massive illegal mining had not on...  0\n",
            "15  The legislator said that field level officials...  0\n",
            "16  Curiously, an MPDO, who is suspected to have p...  0\n",
            "17  The Indian government has set up an inquiry in...  0\n",
            "18  The issue was raised in the ongoing Parliament...  0\n",
            "19  Foreign minister S Jaishankar, in a letter to ...  0\n",
            "                                                    0  1\n",
            "0   The political predicament also appears to be t...  0\n",
            "1   The CM had planned to meet the duo when he com...  0\n",
            "2   He’s now scheduled to visit New Delhi on Thurs...  0\n",
            "3   “If he fails to do so, he would face open rebe...  0\n",
            "4   “Further delay is likely. Despite threats from...  0\n",
            "5   “The party should make a concerted effort to i...  0\n",
            "6   Taking serious note of allegations pertaining ...  0\n",
            "7   Panchayat raj and mining minister Pedireddy Ra...  0\n",
            "8   Sources said the party legislator reportedly s...  0\n",
            "9   The legislator is his report said that large q...  0\n",
            "10  The legislator claimed that the gravel was ext...  0\n",
            "11  “The Mandal Parishad Development Officers (MPD...  0\n",
            "12  He submitted also certain documents to substan...  0\n",
            "13  “The MPDOs requisitioned for supply of about 8...  0\n",
            "14  He said that massive illegal mining had not on...  0\n",
            "15  The legislator said that field level officials...  0\n",
            "16  Curiously, an MPDO, who is suspected to have p...  0\n",
            "17  The Indian government has set up an inquiry in...  0\n",
            "18  The issue was raised in the ongoing Parliament...  0\n",
            "19  Foreign minister S Jaishankar, in a letter to ...  0\n",
            "                                                    0  1\n",
            "0   The Centers for Disease Control and Prevention...  1\n",
            "1   Warm weather will kill coronavirus. U.S. Presi...  1\n",
            "2   Using a hair dryer to breathe in hot air can c...  1\n",
            "3   The Chinese government is building a hospital ...  1\n",
            "4   U.S.President Donald Trump referred to the new...  1\n",
            "5   U.S.Vice President Mike Pence took over the Tr...  1\n",
            "6   The U.S.government has since taken steps to ro...  1\n",
            "7   Videos show people collapsing on the street du...  1\n",
            "8            There is no risk of spread through sweat  1\n",
            "9   You will get a free coronavirus test by donati...  1\n",
            "10  With deaths spiking in Iran and Italy and infe...  1\n",
            "11  The Trump administration recently announced pl...  1\n",
            "12  The U.S.government is sending out hundreds of ...  1\n",
            "13  Viral posts on social media claim COVID-19 is ...  1\n",
            "14  The coronavirus is not so harmful. It was the ...  1\n",
            "15             Vitamin C can stop the new coronavirus  1\n",
            "16  The coronavirus was man-made, rather than the ...  1\n",
            "17  The coronavirus was created by a Chinese spy team  1\n",
            "18  There are “thousands or  10,000 dead as a resu...  1\n",
            "19  You should gargle with disinfectant to stop th...  1\n"
          ]
        }
      ]
    },
    {
      "cell_type": "markdown",
      "metadata": {
        "id": "7Kyy4sAbpcy2"
      },
      "source": [
        "#SVM"
      ]
    },
    {
      "cell_type": "code",
      "metadata": {
        "id": "ppVbRJCem98d",
        "colab": {
          "base_uri": "https://localhost:8080/",
          "height": 606
        },
        "outputId": "1f9e9c21-ae6b-449a-ab8c-52c116b6425c"
      },
      "source": [
        "pipeline = Pipeline([\n",
        "        ('bow', CountVectorizer(max_features= 800)),  \n",
        "        ('tfidf', TfidfTransformer()),\n",
        "        ('c', LinearSVC())\n",
        "    ])\n",
        "fit = pipeline.fit(train,y_train)\n",
        "print('SVM')\n",
        "print ('test:')\n",
        "pred=pipeline.predict(test)\n",
        "print_metrices(pred,y_test)\n",
        "plot_confusion_matrix(confusion_matrix(y_test,pred),target_names=[0,1], normalize = False, \\\n",
        "                      title = 'Confusion matix of SVM on test data')"
      ],
      "execution_count": 18,
      "outputs": [
        {
          "output_type": "stream",
          "name": "stdout",
          "text": [
            "SVM\n",
            "test:\n",
            "[[148  34]\n",
            " [ 32 151]]\n",
            "              precision    recall  f1-score   support\n",
            "\n",
            "           0       0.82      0.81      0.82       182\n",
            "           1       0.82      0.83      0.82       183\n",
            "\n",
            "    accuracy                           0.82       365\n",
            "   macro avg       0.82      0.82      0.82       365\n",
            "weighted avg       0.82      0.82      0.82       365\n",
            "\n",
            "Accuracy :  0.8191780821917808\n",
            "Precison :  0.8192435605415619\n",
            "Recall :  0.8191780821917808\n",
            "F1 :  0.8191862263449369\n"
          ]
        },
        {
          "output_type": "display_data",
          "data": {
            "text/plain": [
              "<Figure size 360x288 with 2 Axes>"
            ],
            "image/png": "[encoded data removed]"
          },
          "metadata": {
            "needs_background": "light"
          }
        }
      ]
    },
    {
      "cell_type": "markdown",
      "metadata": {
        "id": "BBp95IAFpfKP"
      },
      "source": [
        "#Logistic Regression"
      ]
    },
    {
      "cell_type": "code",
      "metadata": {
        "id": "De8y9snEm9_x",
        "colab": {
          "base_uri": "https://localhost:8080/",
          "height": 606
        },
        "outputId": "5c09dee3-719b-46a1-c2a0-1a8d39f6f798"
      },
      "source": [
        "pipeline = Pipeline([\n",
        "        ('bow', CountVectorizer(max_features= 800)),  \n",
        "        ('tfidf', TfidfTransformer()),  \n",
        "        ('c', LogisticRegression())\n",
        "    ])\n",
        "fit = pipeline.fit(train,y_train)\n",
        "print('Logistic Regression')\n",
        "print ('Test:')\n",
        "pred=pipeline.predict(test)\n",
        "\n",
        "print_metrices(pred,y_test)\n",
        "plot_confusion_matrix(confusion_matrix(y_test,pred),target_names=[0,1], normalize = False, \\\n",
        "                      title = 'Confusion matix of LR on test data')"
      ],
      "execution_count": 19,
      "outputs": [
        {
          "output_type": "stream",
          "name": "stdout",
          "text": [
            "Logistic Regression\n",
            "Test:\n",
            "[[152  30]\n",
            " [ 32 151]]\n",
            "              precision    recall  f1-score   support\n",
            "\n",
            "           0       0.83      0.84      0.83       182\n",
            "           1       0.83      0.83      0.83       183\n",
            "\n",
            "    accuracy                           0.83       365\n",
            "   macro avg       0.83      0.83      0.83       365\n",
            "weighted avg       0.83      0.83      0.83       365\n",
            "\n",
            "Accuracy :  0.8301369863013699\n",
            "Precison :  0.8301919354692765\n",
            "Recall :  0.8301369863013699\n",
            "F1 :  0.830139536337605\n"
          ]
        },
        {
          "output_type": "display_data",
          "data": {
            "text/plain": [
              "<Figure size 360x288 with 2 Axes>"
            ],
            "image/png": "[encoded data removed]"
          },
          "metadata": {
            "needs_background": "light"
          }
        }
      ]
    },
    {
      "cell_type": "markdown",
      "metadata": {
        "id": "7O3-AkxUqE5E"
      },
      "source": [
        "#Gradient Boosting Classifier"
      ]
    },
    {
      "cell_type": "code",
      "metadata": {
        "id": "0o7Rf6TBm-Cr",
        "colab": {
          "base_uri": "https://localhost:8080/",
          "height": 606
        },
        "outputId": "3ea32feb-ee24-44e5-b8f2-4c614ea0cabb"
      },
      "source": [
        "pipeline = Pipeline([\n",
        "        ('bow', CountVectorizer(max_features= 800)),  \n",
        "        ('tfidf', TfidfTransformer()),  \n",
        "        ('c', GradientBoostingClassifier())\n",
        "    ])\n",
        "fit = pipeline.fit(train,y_train)\n",
        "print('Gradient Boost')\n",
        "print ('Test:')\n",
        "pred=pipeline.predict(test)\n",
        "\n",
        "print_metrices(pred,y_test)\n",
        "plot_confusion_matrix(confusion_matrix(y_test,pred),target_names=[0,1], normalize = False, \\\n",
        "                      title = 'Confusion matix of GDBT on test data')"
      ],
      "execution_count": 20,
      "outputs": [
        {
          "output_type": "stream",
          "name": "stdout",
          "text": [
            "Gradient Boost\n",
            "Test:\n",
            "[[119  63]\n",
            " [ 31 152]]\n",
            "              precision    recall  f1-score   support\n",
            "\n",
            "           0       0.79      0.65      0.72       182\n",
            "           1       0.71      0.83      0.76       183\n",
            "\n",
            "    accuracy                           0.74       365\n",
            "   macro avg       0.75      0.74      0.74       365\n",
            "weighted avg       0.75      0.74      0.74       365\n",
            "\n",
            "Accuracy :  0.7424657534246575\n",
            "Precison :  0.757962076848221\n",
            "Recall :  0.7424657534246575\n",
            "F1 :  0.744523906875523\n"
          ]
        },
        {
          "output_type": "display_data",
          "data": {
            "text/plain": [
              "<Figure size 360x288 with 2 Axes>"
            ],
            "image/png": "[encoded data removed]"
          },
          "metadata": {
            "needs_background": "light"
          }
        }
      ]
    },
    {
      "cell_type": "markdown",
      "metadata": {
        "id": "QcKDyXNJqQ6o"
      },
      "source": [
        "#Decision Tree Classifier"
      ]
    },
    {
      "cell_type": "code",
      "metadata": {
        "id": "Ymg_z4dGm-Jh",
        "colab": {
          "base_uri": "https://localhost:8080/",
          "height": 606
        },
        "outputId": "f49dc9c4-a618-45e9-a1c8-55de1856748c"
      },
      "source": [
        "pipeline = Pipeline([\n",
        "        ('bow', CountVectorizer(max_features= 800)),  \n",
        "        ('tfidf', TfidfTransformer()),  \n",
        "        ('c', tree.DecisionTreeClassifier())\n",
        "    ])\n",
        "fit = pipeline.fit(train,y_train)\n",
        "print('Decision Tree')\n",
        "print ('Test:')\n",
        "pred=pipeline.predict(test)\n",
        "\n",
        "print_metrices(pred,y_test)\n",
        "plot_confusion_matrix(confusion_matrix(y_test,pred),target_names=[0,1], normalize = False, \\\n",
        "                      title = 'Confusion matix of DT on test data')"
      ],
      "execution_count": 21,
      "outputs": [
        {
          "output_type": "stream",
          "name": "stdout",
          "text": [
            "Decision Tree\n",
            "Test:\n",
            "[[130  52]\n",
            " [ 34 149]]\n",
            "              precision    recall  f1-score   support\n",
            "\n",
            "           0       0.79      0.71      0.75       182\n",
            "           1       0.74      0.81      0.78       183\n",
            "\n",
            "    accuracy                           0.76       365\n",
            "   macro avg       0.77      0.76      0.76       365\n",
            "weighted avg       0.77      0.76      0.76       365\n",
            "\n",
            "Accuracy :  0.7643835616438356\n",
            "Precison :  0.7693112187610279\n",
            "Recall :  0.7643835616438356\n",
            "F1 :  0.764990052656584\n"
          ]
        },
        {
          "output_type": "display_data",
          "data": {
            "text/plain": [
              "<Figure size 360x288 with 2 Axes>"
            ],
            "image/png": "[encoded data removed]"
          },
          "metadata": {
            "needs_background": "light"
          }
        }
      ]
    },
    {
      "cell_type": "markdown",
      "metadata": {
        "id": "mjBnG7ADqgNW"
      },
      "source": [
        "#Random Forest Classifier"
      ]
    },
    {
      "cell_type": "code",
      "metadata": {
        "id": "r3rzPpH7m-MM",
        "colab": {
          "base_uri": "https://localhost:8080/",
          "height": 606
        },
        "outputId": "f120fff5-457b-4eba-f94d-6da1bc290ec9"
      },
      "source": [
        "from sklearn.ensemble import RandomForestClassifier\n",
        "pipeline = Pipeline([\n",
        "        ('bow', CountVectorizer(max_features= 800)),  \n",
        "        ('tfidf', TfidfTransformer()),  \n",
        "        ('c', RandomForestClassifier())\n",
        "    ])\n",
        "fit = pipeline.fit(train,y_train)\n",
        "print('Random Forest Classifier')\n",
        "print ('Test:')\n",
        "pred=pipeline.predict(test)\n",
        "\n",
        "print_metrices(pred,y_test)\n",
        "plot_confusion_matrix(confusion_matrix(y_test,pred),target_names=[0,1], normalize = False, \\\n",
        "                      title = 'Confusion matix of RFC on test data')"
      ],
      "execution_count": 22,
      "outputs": [
        {
          "output_type": "stream",
          "name": "stdout",
          "text": [
            "Random Forest Classifier\n",
            "Test:\n",
            "[[158  24]\n",
            " [ 32 151]]\n",
            "              precision    recall  f1-score   support\n",
            "\n",
            "           0       0.83      0.87      0.85       182\n",
            "           1       0.86      0.83      0.84       183\n",
            "\n",
            "    accuracy                           0.85       365\n",
            "   macro avg       0.85      0.85      0.85       365\n",
            "weighted avg       0.85      0.85      0.85       365\n",
            "\n",
            "Accuracy :  0.8465753424657534\n",
            "Precison :  0.8475177042435071\n",
            "Recall :  0.8465753424657534\n",
            "F1 :  0.8466398569490082\n"
          ]
        },
        {
          "output_type": "display_data",
          "data": {
            "text/plain": [
              "<Figure size 360x288 with 2 Axes>"
            ],
            "image/png": "[encoded data removed]"
          },
          "metadata": {
            "needs_background": "light"
          }
        }
      ]
    },
    {
      "cell_type": "code",
      "metadata": {
        "id": "b33CbhaBm-O6"
      },
      "source": [
        ""
      ],
      "execution_count": 22,
      "outputs": []
    },
    {
      "cell_type": "code",
      "metadata": {
        "id": "U2sQF01Fm-Rr"
      },
      "source": [
        ""
      ],
      "execution_count": 22,
      "outputs": []
    },
    {
      "cell_type": "code",
      "metadata": {
        "id": "25lvfcPRm-Vh"
      },
      "source": [
        ""
      ],
      "execution_count": 22,
      "outputs": []
    },
    {
      "cell_type": "code",
      "metadata": {
        "id": "572OgIc2m-Yi"
      },
      "source": [
        ""
      ],
      "execution_count": 22,
      "outputs": []
    }
  ]
}
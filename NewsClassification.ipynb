{
  "nbformat": 4,
  "nbformat_minor": 0,
  "metadata": {
    "colab": {
      "name": "NewsClassification.ipynb",
      "provenance": [],
      "collapsed_sections": []
    },
    "kernelspec": {
      "display_name": "Python 3",
      "language": "python",
      "name": "python3"
    },
    "language_info": {
      "codemirror_mode": {
        "name": "ipython",
        "version": 3
      },
      "file_extension": ".py",
      "mimetype": "text/x-python",
      "name": "python",
      "nbconvert_exporter": "python",
      "pygments_lexer": "ipython3",
      "version": "3.6.9"
    }
  },
  "cells": [
    {
      "cell_type": "code",
      "metadata": {
        "id": "oWM4MU5_erfr",
        "colab": {
          "base_uri": "https://localhost:8080/"
        },
        "outputId": "bf847347-ea81-44bc-dfc8-75ba52910ea6"
      },
      "source": [
        "import numpy as np\n",
        "import pandas as pd\n",
        "from sklearn.model_selection import train_test_split\n",
        "from keras.preprocessing.text import Tokenizer\n",
        "from keras.datasets import imdb\n",
        "from keras.models import Sequential\n",
        "from keras.layers import Dense,Conv1D,MaxPooling1D\n",
        "from keras.layers import LSTM,Dropout\n",
        "from keras.layers.embeddings import Embedding\n",
        "from keras.preprocessing import sequence\n",
        "from keras.preprocessing.sequence import pad_sequences\n",
        "from keras.callbacks import ModelCheckpoint\n",
        "!pip install nltk\n",
        "import nltk\n",
        "nltk.download('stopwords')\n",
        "nltk.download('punkt')\n",
        "from nltk.tokenize import sent_tokenize, word_tokenize\n",
        "# fix random seed for reproducibility\n",
        "np.random.seed(7)\n",
        "from prettytable import PrettyTable\n",
        "import warnings\n",
        "warnings.filterwarnings('ignore')"
      ],
      "execution_count": 26,
      "outputs": [
        {
          "output_type": "stream",
          "name": "stdout",
          "text": [
            "Requirement already satisfied: nltk in /usr/local/lib/python3.7/dist-packages (3.2.5)\n",
            "Requirement already satisfied: six in /usr/local/lib/python3.7/dist-packages (from nltk) (1.15.0)\n",
            "[nltk_data] Downloading package stopwords to /root/nltk_data...\n",
            "[nltk_data]   Package stopwords is already up-to-date!\n",
            "[nltk_data] Downloading package punkt to /root/nltk_data...\n",
            "[nltk_data]   Package punkt is already up-to-date!\n"
          ]
        }
      ]
    },
    {
      "cell_type": "code",
      "metadata": {
        "id": "9Dg3-CPJergJ",
        "colab": {
          "base_uri": "https://localhost:8080/"
        },
        "outputId": "e0fd6e34-b853-436a-a76b-3de3b3d3bf9f"
      },
      "source": [
        "news_data=pd.read_csv(\"/content/sample_data/News.csv\", header=None, skipinitialspace=True ,skiprows=1, encoding='utf-8')\n",
        "news_data[0] = news_data[0].replace('\\n', '', regex=True).str.strip()\n",
        "news_data[1] = news_data[1].replace(['1-Septic', '0-Pure'], [1, 0])\n",
        "labels=news_data[1]\n",
        "labels.head()     \n",
        "X = news_data[0]\n",
        "Y=news_data[1]\n",
        "x_train,x_test,y_train,y_test=train_test_split(X, Y, test_size=0.05, random_state=7)\n",
        "x_train = x_train.str.replace('\\d+', '') # removing all numbers\n",
        "x_test = x_test.str.replace('\\d+', '')\n",
        "from nltk.corpus import stopwords\n",
        "stop = stopwords.words('english')\n",
        "x_train = x_train.apply(lambda x: ' '.join([word for word in x.split() if word not in (stop)]))\n",
        "x_test = x_test.apply(lambda x: ' '.join([word for word in x.split() if word not in (stop)]))\n",
        "tokenizer = Tokenizer(num_words=None) #adding this parameter can  responsible for setting the size of the vocabulary i.e the most common num_words\n",
        "tokenizer.fit_on_texts(x_train)\n",
        "vocab_size = len(tokenizer.word_index) + 1  \n",
        "data = []\n",
        "punc = '.'\n",
        "for i in x_train:\n",
        "  i = i[:-1]\n",
        "  token = word_tokenize(i)\n",
        "  if punc in token:\n",
        "    for index ,val in enumerate(token):\n",
        "      if punc == val:\n",
        "        token.pop(index)           \n",
        "  data.append(token)\n",
        "x_train = tokenizer.texts_to_sequences(data) \n",
        "x_test = tokenizer.texts_to_sequences(x_test)\n",
        "maxlen = 100\n",
        "x_train = pad_sequences(x_train, padding='post', maxlen=maxlen)\n",
        "x_test = pad_sequences(x_test, padding='post', maxlen=maxlen)\n",
        "y_train = np.array(y_train)\n",
        "y_test = np.array(y_test)\n",
        "y_train = y_train.astype('float64')\n",
        "y_test = y_test.astype('float64')\n",
        "print(('X_train shape:', x_train.shape))\n",
        "print(('X_test shape:', x_test.shape))\n",
        "print(('y_train shape:', y_train.shape))\n",
        "print(('y_test shape:', y_test.shape))"
      ],
      "execution_count": 27,
      "outputs": [
        {
          "output_type": "stream",
          "name": "stdout",
          "text": [
            "('X_train shape:', (2276, 100))\n",
            "('X_test shape:', (120, 100))\n",
            "('y_train shape:', (2276,))\n",
            "('y_test shape:', (120,))\n"
          ]
        }
      ]
    },
    {
      "cell_type": "code",
      "metadata": {
        "id": "ScXp8JgVergV"
      },
      "source": [
        "# news_data.dropna(axis=0, inplace=True)\n",
        "# x = news_data[0]\n",
        "# y = news_data[1]\n",
        "# x_train , x_test ,y_train ,  y_test = train_test_split(x, y, test_size = 0.1)"
      ],
      "execution_count": 28,
      "outputs": []
    },
    {
      "cell_type": "code",
      "metadata": {
        "id": "7Kir-w_awSwV"
      },
      "source": [
        "# print(len(x_train))\n",
        "# data = []\n",
        "# punc = '.'\n",
        "# for i in x_train:\n",
        "#     i = i[:-1]\n",
        "#     token = word_tokenize(i)\n",
        "#     if punc in token:\n",
        "#         for index ,val in enumerate(token):\n",
        "#             if punc == val:\n",
        "#                 token.pop(index)\n",
        "        \n",
        "#     data.append(token)\n",
        "    \n",
        "# print(data)  "
      ],
      "execution_count": 29,
      "outputs": []
    },
    {
      "cell_type": "code",
      "metadata": {
        "id": "XiTuun6hm9W8"
      },
      "source": [
        "# tokenizer = Tokenizer(num_words=5000) #adding this parameter can  responsible for setting the size of the vocabulary i.e the most common num_words\n",
        "# tokenizer.fit_on_texts(x_train)\n",
        "# x_train = tokenizer.texts_to_sequences(x_train)\n",
        "# x_test = tokenizer.texts_to_sequences(x_test)"
      ],
      "execution_count": 30,
      "outputs": []
    },
    {
      "cell_type": "code",
      "metadata": {
        "id": "MCnOu97Im9p6"
      },
      "source": [
        "# maxlen = 100\n",
        "# x_train = pad_sequences(x_train, padding='post', maxlen=maxlen)\n",
        "# x_test = pad_sequences(x_test, padding='post', maxlen=maxlen)\n",
        "# print(x_train)\n",
        "# news_data.info()\n",
        "\n",
        "word_index = tokenizer.word_index\n",
        "vocab_size=len(word_index)"
      ],
      "execution_count": 31,
      "outputs": []
    },
    {
      "cell_type": "markdown",
      "metadata": {
        "id": "K669BFT1XR1q"
      },
      "source": [
        "#LSTM"
      ]
    },
    {
      "cell_type": "code",
      "metadata": {
        "colab": {
          "base_uri": "https://localhost:8080/"
        },
        "id": "7f21R-XWWAjj",
        "outputId": "82c69b57-10ce-48ff-d4c5-bea59a4bfaa8"
      },
      "source": [
        "# Import tensor representations for words\n",
        "\n",
        "!wget --no-check-certificate \\\n",
        "    https://storage.googleapis.com/laurencemoroney-blog.appspot.com/glove.6B.100d.txt \\\n",
        "    -O /tmp/glove.6B.100d.txt\n",
        "embeddings_index = {};\n",
        "with open('/tmp/glove.6B.100d.txt') as f:\n",
        "    for line in f:\n",
        "        values = line.split();\n",
        "        word = values[0];\n",
        "        coefs = np.asarray(values[1:], dtype='float32');\n",
        "        embeddings_index[word] = coefs;\n",
        "#print(len(coefs))\n",
        "\n",
        "embeddings_matrix = np.zeros((vocab_size+1, 100));\n",
        "for word, i in word_index.items():\n",
        "    embedding_vector = embeddings_index.get(word);\n",
        "    if embedding_vector is not None:\n",
        "        embeddings_matrix[i] = embedding_vector;"
      ],
      "execution_count": 32,
      "outputs": [
        {
          "output_type": "stream",
          "name": "stdout",
          "text": [
            "--2021-10-25 08:53:01--  https://storage.googleapis.com/laurencemoroney-blog.appspot.com/glove.6B.100d.txt\n",
            "Resolving storage.googleapis.com (storage.googleapis.com)... 142.250.141.128, 2607:f8b0:4023:c03::80, 2607:f8b0:4023:c0b::80\n",
            "Connecting to storage.googleapis.com (storage.googleapis.com)|142.250.141.128|:443... connected.\n",
            "HTTP request sent, awaiting response... 404 Not Found\n",
            "2021-10-25 08:53:01 ERROR 404: Not Found.\n",
            "\n"
          ]
        }
      ]
    },
    {
      "cell_type": "code",
      "metadata": {
        "id": "58M3k-QPtPk7"
      },
      "source": [
        "# from tensorflow.keras import Model, Input\n",
        "# from tensorflow.keras.layers import LSTM, Embedding, Dense\n",
        "# from tensorflow.keras.layers import TimeDistributed, SpatialDropout1D, Bidirectional\n",
        "# print(x_train.shape)\n",
        "# model = Sequential()\n",
        "# input_word = Input(shape=(7026,))\n",
        "# model = Embedding(input_dim=x_train.shape[0], output_dim=1, input_length=100)(input_word)\n",
        "# model = SpatialDropout1D(0.1)(model)\n",
        "# model = Bidirectional(LSTM(units=100, return_sequences=True, recurrent_dropout=0.1))(model)\n",
        "# out = TimeDistributed(Dense(1, activation=\"sigmoid\"))(model)\n",
        "# model = Model(input_word, out)\n",
        "# model.summary()\n",
        "def create_model(x_train, y_train, x_test, y_test):\n",
        "    num_classes = 1 # y_train.shape[1]\n",
        "    num_tokens = 100 #x_train.shape[1]\n",
        "    print(num_classes)\n",
        "    print(num_tokens)\n",
        "    model = Sequential()\n",
        "    model.add(Embedding(vocab_size, output_dim = {{choice([16,32,60, 80, 100])}}, input_length = 100))\n",
        "    model.add(Dropout({{choice([0.3, 0.4, 0.5, 0.6])}}))\n",
        "    model.add(Conv1D(filters = {{choice([32,50, 60, 80])}}, kernel_size = {{choice([3,6,10,15,20,30])}}, padding='valid', activation='relu', strides=1))\n",
        "    model.add(GlobalMaxPool1D())\n",
        "    model.add(Dense(num_classes))\n",
        "    model.add(Activation('sigmoid'))\n",
        "\n",
        "    model.compile(loss='binary_crossentropy',\n",
        "                  optimizer={{choice(['adam', 'sgd'])}},\n",
        "                  metrics=['acc'])\n",
        "\n",
        "    # Optional to log output from Keras\n",
        "    #csv_logger = keras.callbacks.CSVLogger('Logs/dl_model.log')\n",
        "    \n",
        "    result = model.fit(x_train, y_train,\n",
        "              batch_size=128,\n",
        "              epochs=10,\n",
        "              verbose=0,\n",
        "              validation_split=0.1)\n",
        "    #get the highest validation accuracy of the training epochs\n",
        "    validation_acc = np.amax(result.history['val_acc']) \n",
        "    print('Best validation acc of epoch:', validation_acc)\n",
        "    return {'loss': -validation_acc, 'status': STATUS_OK, 'model': model}"
      ],
      "execution_count": 33,
      "outputs": []
    },
    {
      "cell_type": "code",
      "metadata": {
        "id": "T0_MKeyCm9x-"
      },
      "source": [
        "# model.compile(optimizer=\"adam\",\n",
        "#               loss=\"categorical_crossentropy\",\n",
        "#               metrics=[\"accuracy\"])\n",
        "import tensorflow as tf\n",
        "model = tf.keras.Sequential([\n",
        "    tf.keras.layers.Embedding(vocab_size+1, 100, weights=[embeddings_matrix], trainable=False),\n",
        "    tf.keras.layers.Dropout(0.2),\n",
        "    tf.keras.layers.Conv1D(64, 5, activation='relu'),\n",
        "    tf.keras.layers.MaxPooling1D(pool_size=4),\n",
        "    tf.keras.layers.LSTM(20, return_sequences=True),\n",
        "    tf.keras.layers.LSTM(20),\n",
        "    tf.keras.layers.Dropout(0.2),  \n",
        "    tf.keras.layers.Dense(512),\n",
        "    tf.keras.layers.Dropout(0.3),  \n",
        "    tf.keras.layers.Dense(256),\n",
        "    tf.keras.layers.Dense(1, activation='sigmoid')\n",
        "])"
      ],
      "execution_count": 34,
      "outputs": []
    },
    {
      "cell_type": "code",
      "metadata": {
        "id": "ULZ2cYso7ueX",
        "colab": {
          "base_uri": "https://localhost:8080/"
        },
        "outputId": "579abc91-4b4a-44c9-b40b-8f5a4bebee16"
      },
      "source": [
        "# print(x_train.shape , y_train.shape)\n",
        "\n",
        "# history = model.fit(\n",
        "#     x=x_train,\n",
        "#     y=y_train,\n",
        "#     epochs=10\n",
        "# )\n",
        "\n",
        "model.compile(loss='binary_crossentropy',optimizer='adam',metrics=['accuracy'])\n",
        "model.summary()\n",
        "\n",
        "history = model.fit(x_train, y_train, epochs=5, batch_size=100, validation_data=[x_test, y_test])\n",
        "\n",
        "print(\"Training Complete\")"
      ],
      "execution_count": 35,
      "outputs": [
        {
          "output_type": "stream",
          "name": "stdout",
          "text": [
            "Model: \"sequential_1\"\n",
            "_________________________________________________________________\n",
            "Layer (type)                 Output Shape              Param #   \n",
            "=================================================================\n",
            "embedding_1 (Embedding)      (None, None, 100)         856200    \n",
            "_________________________________________________________________\n",
            "dropout_3 (Dropout)          (None, None, 100)         0         \n",
            "_________________________________________________________________\n",
            "conv1d_1 (Conv1D)            (None, None, 64)          32064     \n",
            "_________________________________________________________________\n",
            "max_pooling1d_1 (MaxPooling1 (None, None, 64)          0         \n",
            "_________________________________________________________________\n",
            "lstm_2 (LSTM)                (None, None, 20)          6800      \n",
            "_________________________________________________________________\n",
            "lstm_3 (LSTM)                (None, 20)                3280      \n",
            "_________________________________________________________________\n",
            "dropout_4 (Dropout)          (None, 20)                0         \n",
            "_________________________________________________________________\n",
            "dense_3 (Dense)              (None, 512)               10752     \n",
            "_________________________________________________________________\n",
            "dropout_5 (Dropout)          (None, 512)               0         \n",
            "_________________________________________________________________\n",
            "dense_4 (Dense)              (None, 256)               131328    \n",
            "_________________________________________________________________\n",
            "dense_5 (Dense)              (None, 1)                 257       \n",
            "=================================================================\n",
            "Total params: 1,040,681\n",
            "Trainable params: 184,481\n",
            "Non-trainable params: 856,200\n",
            "_________________________________________________________________\n",
            "Epoch 1/5\n",
            "23/23 [==============================] - 6s 113ms/step - loss: 0.5366 - accuracy: 0.7957 - val_loss: 0.0000e+00 - val_accuracy: 0.0000e+00\n",
            "Epoch 2/5\n",
            "23/23 [==============================] - 2s 73ms/step - loss: 0.5081 - accuracy: 0.7957 - val_loss: 0.0000e+00 - val_accuracy: 0.0000e+00\n",
            "Epoch 3/5\n",
            "23/23 [==============================] - 2s 74ms/step - loss: 0.5074 - accuracy: 0.7957 - val_loss: 0.0000e+00 - val_accuracy: 0.0000e+00\n",
            "Epoch 4/5\n",
            "23/23 [==============================] - 2s 73ms/step - loss: 0.5075 - accuracy: 0.7957 - val_loss: 0.0000e+00 - val_accuracy: 0.0000e+00\n",
            "Epoch 5/5\n",
            "23/23 [==============================] - 2s 73ms/step - loss: 0.5083 - accuracy: 0.7957 - val_loss: 0.0000e+00 - val_accuracy: 0.0000e+00\n",
            "Training Complete\n"
          ]
        }
      ]
    },
    {
      "cell_type": "code",
      "metadata": {
        "id": "M3zPzDM47u1R"
      },
      "source": [
        ""
      ],
      "execution_count": 35,
      "outputs": []
    },
    {
      "cell_type": "code",
      "metadata": {
        "id": "2ogZm1MAm91D"
      },
      "source": [
        "# embedding_dim = 50\n"
      ],
      "execution_count": 36,
      "outputs": []
    },
    {
      "cell_type": "markdown",
      "metadata": {
        "id": "spBOzRzhXMzH"
      },
      "source": [
        "#Running ML Models"
      ]
    },
    {
      "cell_type": "code",
      "metadata": {
        "id": "mPkGsD9Um95k"
      },
      "source": [
        "# from keras import layers\n",
        "\n",
        "# model = Sequential()\n",
        "# model.add(layers.Embedding(vocab_size, embedding_dim, input_length=maxlen))\n",
        "# model.add(layers.Conv1D(128, 5, activation='relu'))\n",
        "# model.add(layers.GlobalMaxPooling1D())\n",
        "# model.add(layers.Dense(10, activation='relu'))\n",
        "# model.add(layers.Dense(1, activation='sigmoid'))\n",
        "# model.compile(optimizer='adam',\n",
        "#               loss='binary_crossentropy',\n",
        "#               metrics=['accuracy'])\n",
        "# model.fit(x_train, y_train,epochs=10,batch_size=10)\n",
        "import pandas as pd\n",
        "import nltk\n",
        "import re\n",
        "from nltk.corpus import stopwords\n",
        "import matplotlib.pyplot as plt\n",
        "from sklearn.feature_extraction.text import CountVectorizer, TfidfTransformer\n",
        "from sklearn.metrics import classification_report,confusion_matrix\n",
        "from sklearn.metrics import accuracy_score, f1_score, precision_score, recall_score\n",
        "from sklearn.svm import LinearSVC\n",
        "from sklearn.pipeline import Pipeline\n",
        "from sklearn.linear_model import SGDClassifier, LogisticRegression\n",
        "from sklearn.neural_network import MLPClassifier\n",
        "from joblib import dump, load\n",
        "from sklearn.ensemble import GradientBoostingClassifier\n",
        "from sklearn import tree\n",
        "import numpy as np\n",
        "import itertools"
      ],
      "execution_count": 37,
      "outputs": []
    },
    {
      "cell_type": "code",
      "metadata": {
        "id": "W-fnR8HkajnT"
      },
      "source": [
        "def plot_confusion_matrix(cm,\n",
        "                          target_names,\n",
        "                          title='Confusion matrix',\n",
        "                          cmap=None,\n",
        "                          normalize=True):\n",
        "\n",
        "    accuracy = np.trace(cm) / float(np.sum(cm))\n",
        "    misclass = 1 - accuracy\n",
        "\n",
        "    if cmap is None:\n",
        "        cmap = plt.get_cmap('Blues')\n",
        "\n",
        "    plt.figure(figsize=(5, 4))\n",
        "    plt.imshow(cm, interpolation='nearest', cmap=cmap)\n",
        "    plt.title(title)\n",
        "    plt.colorbar()\n",
        "\n",
        "    if target_names is not None:\n",
        "        tick_marks = np.arange(len(target_names))\n",
        "        plt.xticks(tick_marks, target_names, rotation=45)\n",
        "        plt.yticks(tick_marks, target_names)\n",
        "\n",
        "    if normalize:\n",
        "        cm = cm.astype('float') / cm.sum(axis=1)[:, np.newaxis]\n",
        "\n",
        "\n",
        "    thresh = cm.max() / 1.5 if normalize else cm.max() / 2\n",
        "    for i, j in itertools.product(range(cm.shape[0]), range(cm.shape[1])):\n",
        "        if normalize:\n",
        "            plt.text(j, i, \"{:0.4f}\".format(cm[i, j]),\n",
        "                     horizontalalignment=\"center\",\n",
        "                     color=\"white\" if cm[i, j] > thresh else \"black\")\n",
        "        else:\n",
        "            plt.text(j, i, \"{:,}\".format(cm[i, j]),\n",
        "                     horizontalalignment=\"center\",\n",
        "                     color=\"white\" if cm[i, j] > thresh else \"black\")\n",
        "\n",
        "\n",
        "    plt.tight_layout()\n",
        "    plt.ylabel('True label')\n",
        "    #plt.xlabel('Predicted label\\naccuracy={:0.4f}; misclass={:0.4f}'.format(accuracy, misclass))\n",
        "    plt.xlabel('Predicted label')\n",
        "    plt.show()\n"
      ],
      "execution_count": 38,
      "outputs": []
    },
    {
      "cell_type": "code",
      "metadata": {
        "id": "VhrqyZtsalGV"
      },
      "source": [
        "def print_metrices(pred,true):\n",
        "    print(confusion_matrix(true,pred))\n",
        "    print(classification_report(true,pred,))\n",
        "    print(\"Accuracy : \",accuracy_score(pred,true))\n",
        "    print(\"Precison : \",precision_score(pred,true, average = 'weighted'))\n",
        "    print(\"Recall : \",recall_score(pred,true,  average = 'weighted'))\n",
        "    print(\"F1 : \",f1_score(pred,true,  average = 'weighted'))"
      ],
      "execution_count": 39,
      "outputs": []
    },
    {
      "cell_type": "code",
      "metadata": {
        "id": "x8wI_93PX-nb"
      },
      "source": [
        "stops = set(stopwords.words(\"english\"))\n",
        "def cleantext(string):\n",
        "    text = string.lower().split()\n",
        "    text = \" \".join(text)\n",
        "    text = re.sub(r\"http(\\S)+\",' ',text)    \n",
        "    text = re.sub(r\"www(\\S)+\",' ',text)\n",
        "    text = re.sub(r\"&\",' and ',text)  \n",
        "    tx = text.replace('&amp',' ')\n",
        "    text = re.sub(r\"[^0-9a-zA-Z]+\",' ',text)\n",
        "    text = text.split()\n",
        "    text = [w for w in text if not w in stops]\n",
        "    text = \" \".join(text)\n",
        "    return text"
      ],
      "execution_count": 40,
      "outputs": []
    },
    {
      "cell_type": "code",
      "metadata": {
        "id": "x7t3aZ0MYIiA"
      },
      "source": [
        "news_data=pd.read_csv(\"/content/sample_data/News.csv\", header=None, skipinitialspace=True ,skiprows=1, encoding='utf-8')\n",
        "news_data[0] = news_data[0].replace('\\n', '', regex=True).str.strip()\n",
        "news_data[1] = news_data[1].replace(['1-Septic', '0-Pure'], [1, 0])\n",
        "labels=news_data[1]\n",
        "labels.head()     \n",
        "X = news_data[0]\n",
        "Y=news_data[1]\n",
        "x_train,x_test,y_train,y_test=train_test_split(X, Y, test_size=0.1, random_state=7)\n",
        "x_train = x_train.str.replace('\\d+', '') # removing all numbers\n",
        "x_test = x_test.str.replace('\\d+', '')\n",
        "\n",
        "\n",
        "train=x_train\n",
        "test=x_test\n",
        "train = train.map(lambda x: cleantext(x))\n",
        "test = test.map(lambda x: cleantext(x))\n",
        "y_train=y_train.astype('int')\n",
        "y_test=y_test.astype('int')\n"
      ],
      "execution_count": 41,
      "outputs": []
    },
    {
      "cell_type": "markdown",
      "metadata": {
        "id": "7Kyy4sAbpcy2"
      },
      "source": [
        "#SVM"
      ]
    },
    {
      "cell_type": "code",
      "metadata": {
        "id": "ppVbRJCem98d",
        "colab": {
          "base_uri": "https://localhost:8080/",
          "height": 597
        },
        "outputId": "de66cee4-cfa6-4a6d-b3ef-931a0ba76260"
      },
      "source": [
        "pipeline = Pipeline([\n",
        "        ('bow', CountVectorizer()),  \n",
        "        ('tfidf', TfidfTransformer()),  \n",
        "        ('c', LinearSVC())\n",
        "    ])\n",
        "fit = pipeline.fit(train,y_train)\n",
        "print('SVM')\n",
        "print ('test:')\n",
        "pred=pipeline.predict(test)\n",
        "print_metrices(pred,y_test)\n",
        "plot_confusion_matrix(confusion_matrix(y_test,pred),target_names=[1,0], normalize = False, \\\n",
        "                      title = 'Confusion matix of SVM on test data')"
      ],
      "execution_count": 42,
      "outputs": [
        {
          "output_type": "stream",
          "name": "stdout",
          "text": [
            "SVM\n",
            "test:\n",
            "[[170  15]\n",
            " [ 47   8]]\n",
            "              precision    recall  f1-score   support\n",
            "\n",
            "           0       0.78      0.92      0.85       185\n",
            "           1       0.35      0.15      0.21        55\n",
            "\n",
            "    accuracy                           0.74       240\n",
            "   macro avg       0.57      0.53      0.53       240\n",
            "weighted avg       0.68      0.74      0.70       240\n",
            "\n",
            "Accuracy :  0.7416666666666667\n",
            "Precison :  0.8447952497952499\n",
            "Recall :  0.7416666666666667\n",
            "F1 :  0.7843761959433603\n"
          ]
        },
        {
          "output_type": "display_data",
          "data": {
            "image/png": "[encoded data removed]",
            "text/plain": [
              "<Figure size 360x288 with 2 Axes>"
            ]
          },
          "metadata": {
            "needs_background": "light"
          }
        }
      ]
    },
    {
      "cell_type": "markdown",
      "metadata": {
        "id": "BBp95IAFpfKP"
      },
      "source": [
        "#Logistic Regression"
      ]
    },
    {
      "cell_type": "code",
      "metadata": {
        "id": "De8y9snEm9_x",
        "colab": {
          "base_uri": "https://localhost:8080/",
          "height": 597
        },
        "outputId": "cbcc9723-031b-4ed4-e53c-290951bf54c7"
      },
      "source": [
        "pipeline = Pipeline([\n",
        "        ('bow', CountVectorizer()),  \n",
        "        ('tfidf', TfidfTransformer()),  \n",
        "        ('c', LogisticRegression())\n",
        "    ])\n",
        "fit = pipeline.fit(train,y_train)\n",
        "print('Logistic Regression')\n",
        "print ('Test:')\n",
        "pred=pipeline.predict(test)\n",
        "\n",
        "print_metrices(pred,y_test)\n",
        "plot_confusion_matrix(confusion_matrix(y_test,pred),target_names=[1,0], normalize = False, \\\n",
        "                      title = 'Confusion matix of LR on test data')"
      ],
      "execution_count": 43,
      "outputs": [
        {
          "output_type": "stream",
          "name": "stdout",
          "text": [
            "Logistic Regression\n",
            "Test:\n",
            "[[185   0]\n",
            " [ 55   0]]\n",
            "              precision    recall  f1-score   support\n",
            "\n",
            "           0       0.77      1.00      0.87       185\n",
            "           1       0.00      0.00      0.00        55\n",
            "\n",
            "    accuracy                           0.77       240\n",
            "   macro avg       0.39      0.50      0.44       240\n",
            "weighted avg       0.59      0.77      0.67       240\n",
            "\n",
            "Accuracy :  0.7708333333333334\n",
            "Precison :  1.0\n",
            "Recall :  0.7708333333333334\n",
            "F1 :  0.8705882352941177\n"
          ]
        },
        {
          "output_type": "display_data",
          "data": {
            "image/png": "[encoded data removed]",
            "text/plain": [
              "<Figure size 360x288 with 2 Axes>"
            ]
          },
          "metadata": {
            "needs_background": "light"
          }
        }
      ]
    },
    {
      "cell_type": "markdown",
      "metadata": {
        "id": "7O3-AkxUqE5E"
      },
      "source": [
        "#Gradient Boosting Classifier"
      ]
    },
    {
      "cell_type": "code",
      "metadata": {
        "id": "0o7Rf6TBm-Cr",
        "colab": {
          "base_uri": "https://localhost:8080/",
          "height": 597
        },
        "outputId": "60a12f8f-a5a4-4f81-bcdb-b0e9187ef30f"
      },
      "source": [
        "pipeline = Pipeline([\n",
        "        ('bow', CountVectorizer()),  \n",
        "        ('tfidf', TfidfTransformer()),  \n",
        "        ('c', GradientBoostingClassifier())\n",
        "    ])\n",
        "fit = pipeline.fit(train,y_train)\n",
        "print('Gradient Boost')\n",
        "print ('Test:')\n",
        "pred=pipeline.predict(test)\n",
        "\n",
        "print_metrices(pred,y_test)\n",
        "plot_confusion_matrix(confusion_matrix(y_test,pred),target_names=[1,0], normalize = False, \\\n",
        "                      title = 'Confusion matix of GDBT on test data')"
      ],
      "execution_count": 44,
      "outputs": [
        {
          "output_type": "stream",
          "name": "stdout",
          "text": [
            "Gradient Boost\n",
            "Test:\n",
            "[[180   5]\n",
            " [ 53   2]]\n",
            "              precision    recall  f1-score   support\n",
            "\n",
            "           0       0.77      0.97      0.86       185\n",
            "           1       0.29      0.04      0.06        55\n",
            "\n",
            "    accuracy                           0.76       240\n",
            "   macro avg       0.53      0.50      0.46       240\n",
            "weighted avg       0.66      0.76      0.68       240\n",
            "\n",
            "Accuracy :  0.7583333333333333\n",
            "Precison :  0.9456552006552007\n",
            "Recall :  0.7583333333333333\n",
            "F1 :  0.8380061223439832\n"
          ]
        },
        {
          "output_type": "display_data",
          "data": {
            "image/png": "[encoded data removed]",
            "text/plain": [
              "<Figure size 360x288 with 2 Axes>"
            ]
          },
          "metadata": {
            "needs_background": "light"
          }
        }
      ]
    },
    {
      "cell_type": "markdown",
      "metadata": {
        "id": "QcKDyXNJqQ6o"
      },
      "source": [
        "#Decision Tree Classifier"
      ]
    },
    {
      "cell_type": "code",
      "metadata": {
        "id": "Ymg_z4dGm-Jh",
        "colab": {
          "base_uri": "https://localhost:8080/",
          "height": 597
        },
        "outputId": "ba1d9a39-c126-4b99-cc2e-203937a61719"
      },
      "source": [
        "pipeline = Pipeline([\n",
        "        ('bow', CountVectorizer()),  \n",
        "        ('tfidf', TfidfTransformer()),  \n",
        "        ('c', tree.DecisionTreeClassifier())\n",
        "    ])\n",
        "fit = pipeline.fit(train,y_train)\n",
        "print('Decision Tree')\n",
        "print ('Test:')\n",
        "pred=pipeline.predict(test)\n",
        "\n",
        "print_metrices(pred,y_test)\n",
        "plot_confusion_matrix(confusion_matrix(y_test,pred),target_names=[1,0], normalize = False, \\\n",
        "                      title = 'Confusion matix of DT on test data')"
      ],
      "execution_count": 45,
      "outputs": [
        {
          "output_type": "stream",
          "name": "stdout",
          "text": [
            "Decision Tree\n",
            "Test:\n",
            "[[158  27]\n",
            " [ 47   8]]\n",
            "              precision    recall  f1-score   support\n",
            "\n",
            "           0       0.77      0.85      0.81       185\n",
            "           1       0.23      0.15      0.18        55\n",
            "\n",
            "    accuracy                           0.69       240\n",
            "   macro avg       0.50      0.50      0.49       240\n",
            "weighted avg       0.65      0.69      0.67       240\n",
            "\n",
            "Accuracy :  0.6916666666666667\n",
            "Precison :  0.7507166257166258\n",
            "Recall :  0.6916666666666667\n",
            "F1 :  0.7180199430199431\n"
          ]
        },
        {
          "output_type": "display_data",
          "data": {
            "image/png": "[encoded data removed]",
            "text/plain": [
              "<Figure size 360x288 with 2 Axes>"
            ]
          },
          "metadata": {
            "needs_background": "light"
          }
        }
      ]
    },
    {
      "cell_type": "markdown",
      "metadata": {
        "id": "mjBnG7ADqgNW"
      },
      "source": [
        "#Random Forest Classifier"
      ]
    },
    {
      "cell_type": "code",
      "metadata": {
        "id": "r3rzPpH7m-MM",
        "colab": {
          "base_uri": "https://localhost:8080/",
          "height": 597
        },
        "outputId": "40c0e9c8-c4d7-449f-c10f-702f98a694aa"
      },
      "source": [
        "from sklearn.ensemble import RandomForestClassifier\n",
        "pipeline = Pipeline([\n",
        "        ('bow', CountVectorizer()),  \n",
        "        ('tfidf', TfidfTransformer()),  \n",
        "        ('c', RandomForestClassifier())\n",
        "    ])\n",
        "fit = pipeline.fit(train,y_train)\n",
        "print('Random Forest Classifier')\n",
        "print ('Test:')\n",
        "pred=pipeline.predict(test)\n",
        "\n",
        "print_metrices(pred,y_test)\n",
        "plot_confusion_matrix(confusion_matrix(y_test,pred),target_names=[1,0], normalize = False, \\\n",
        "                      title = 'Confusion matix of RFC on test data')"
      ],
      "execution_count": 46,
      "outputs": [
        {
          "output_type": "stream",
          "name": "stdout",
          "text": [
            "Random Forest Classifier\n",
            "Test:\n",
            "[[177   8]\n",
            " [ 52   3]]\n",
            "              precision    recall  f1-score   support\n",
            "\n",
            "           0       0.77      0.96      0.86       185\n",
            "           1       0.27      0.05      0.09        55\n",
            "\n",
            "    accuracy                           0.75       240\n",
            "   macro avg       0.52      0.51      0.47       240\n",
            "weighted avg       0.66      0.75      0.68       240\n",
            "\n",
            "Accuracy :  0.75\n",
            "Precison :  0.9154054054054054\n",
            "Recall :  0.75\n",
            "F1 :  0.8200483091787442\n"
          ]
        },
        {
          "output_type": "display_data",
          "data": {
            "image/png": "[encoded data removed]",
            "text/plain": [
              "<Figure size 360x288 with 2 Axes>"
            ]
          },
          "metadata": {
            "needs_background": "light"
          }
        }
      ]
    },
    {
      "cell_type": "code",
      "metadata": {
        "id": "b33CbhaBm-O6"
      },
      "source": [
        ""
      ],
      "execution_count": 42,
      "outputs": []
    },
    {
      "cell_type": "code",
      "metadata": {
        "id": "U2sQF01Fm-Rr"
      },
      "source": [
        ""
      ],
      "execution_count": 42,
      "outputs": []
    },
    {
      "cell_type": "code",
      "metadata": {
        "id": "25lvfcPRm-Vh"
      },
      "source": [
        ""
      ],
      "execution_count": 42,
      "outputs": []
    },
    {
      "cell_type": "code",
      "metadata": {
        "id": "572OgIc2m-Yi"
      },
      "source": [
        ""
      ],
      "execution_count": 42,
      "outputs": []
    }
  ]
}
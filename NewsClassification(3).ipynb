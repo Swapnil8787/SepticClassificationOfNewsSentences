{
 "cells": [
  {
   "cell_type": "code",
   "execution_count": 6,
   "metadata": {
    "colab": {
     "base_uri": "https://localhost:8080/"
    },
    "id": "oWM4MU5_erfr",
    "outputId": "26c519ec-2ba4-4472-f75c-ff84ba209fee"
   },
   "outputs": [
    {
     "name": "stdout",
     "output_type": "stream",
     "text": [
      "Requirement already satisfied: nltk in /usr/local/lib/python3.7/dist-packages (3.2.5)\n",
      "Requirement already satisfied: six in /usr/local/lib/python3.7/dist-packages (from nltk) (1.15.0)\n",
      "[nltk_data] Downloading package stopwords to /root/nltk_data...\n",
      "[nltk_data]   Package stopwords is already up-to-date!\n",
      "[nltk_data] Downloading package punkt to /root/nltk_data...\n",
      "[nltk_data]   Package punkt is already up-to-date!\n"
     ]
    }
   ],
   "source": [
    "import numpy as np\n",
    "import pandas as pd\n",
    "from sklearn.model_selection import train_test_split\n",
    "from keras.preprocessing.text import Tokenizer\n",
    "from keras.datasets import imdb\n",
    "from keras.models import Sequential\n",
    "from keras.layers import Dense,Conv1D,MaxPooling1D\n",
    "from keras.layers import LSTM,Dropout\n",
    "from keras.layers.embeddings import Embedding\n",
    "from keras.preprocessing import sequence\n",
    "from keras.preprocessing.sequence import pad_sequences\n",
    "from keras.callbacks import ModelCheckpoint\n",
    "!pip install nltk\n",
    "import nltk\n",
    "nltk.download('stopwords')\n",
    "nltk.download('punkt')\n",
    "from nltk.tokenize import sent_tokenize, word_tokenize\n",
    "# fix random seed for reproducibility\n",
    "np.random.seed(7)\n",
    "from prettytable import PrettyTable\n",
    "import warnings\n",
    "warnings.filterwarnings('ignore')"
   ]
  },
  {
   "cell_type": "code",
   "execution_count": 7,
   "metadata": {
    "colab": {
     "base_uri": "https://localhost:8080/"
    },
    "id": "9Dg3-CPJergJ",
    "outputId": "80388b91-3165-4ef0-a25c-f0425979f3b7"
   },
   "outputs": [
    {
     "name": "stdout",
     "output_type": "stream",
     "text": [
      "                                                    0  1\n",
      "0   The political predicament also appears to be t...  0\n",
      "1   The CM had planned to meet the duo when he com...  0\n",
      "2   He’s now scheduled to visit New Delhi on Thurs...  0\n",
      "3   “If he fails to do so, he would face open rebe...  0\n",
      "4   “Further delay is likely. Despite threats from...  0\n",
      "5   “The party should make a concerted effort to i...  0\n",
      "6   Taking serious note of allegations pertaining ...  0\n",
      "7   Panchayat raj and mining minister Pedireddy Ra...  0\n",
      "8   Sources said the party legislator reportedly s...  0\n",
      "9   The legislator is his report said that large q...  0\n",
      "10  The legislator claimed that the gravel was ext...  0\n",
      "11  “The Mandal Parishad Development Officers (MPD...  0\n",
      "12  He submitted also certain documents to substan...  0\n",
      "13  “The MPDOs requisitioned for supply of about 8...  0\n",
      "14  He said that massive illegal mining had not on...  0\n",
      "15  The legislator said that field level officials...  0\n",
      "16  Curiously, an MPDO, who is suspected to have p...  0\n",
      "17  The Indian government has set up an inquiry in...  0\n",
      "18  The issue was raised in the ongoing Parliament...  0\n",
      "19  Foreign minister S Jaishankar, in a letter to ...  0\n",
      "                                                    0  1\n",
      "0   The political predicament also appears to be t...  0\n",
      "1   The CM had planned to meet the duo when he com...  0\n",
      "2   He’s now scheduled to visit New Delhi on Thurs...  0\n",
      "3   “If he fails to do so, he would face open rebe...  0\n",
      "4   “Further delay is likely. Despite threats from...  0\n",
      "5   “The party should make a concerted effort to i...  0\n",
      "6   Taking serious note of allegations pertaining ...  0\n",
      "7   Panchayat raj and mining minister Pedireddy Ra...  0\n",
      "8   Sources said the party legislator reportedly s...  0\n",
      "9   The legislator is his report said that large q...  0\n",
      "10  The legislator claimed that the gravel was ext...  0\n",
      "11  “The Mandal Parishad Development Officers (MPD...  0\n",
      "12  He submitted also certain documents to substan...  0\n",
      "13  “The MPDOs requisitioned for supply of about 8...  0\n",
      "14  He said that massive illegal mining had not on...  0\n",
      "15  The legislator said that field level officials...  0\n",
      "16  Curiously, an MPDO, who is suspected to have p...  0\n",
      "17  The Indian government has set up an inquiry in...  0\n",
      "18  The issue was raised in the ongoing Parliament...  0\n",
      "19  Foreign minister S Jaishankar, in a letter to ...  0\n",
      "                                                    0  1\n",
      "0   House Dem Aide: We Didn’t Even See Comey’s Let...  1\n",
      "1   Ever get the feeling your life circles the rou...  0\n",
      "2   Why the Truth Might Get You Fired October 29, ...  1\n",
      "3   Videos 15 Civilians Killed In Single US Airstr...  1\n",
      "4   Print \\nAn Iranian woman has been sentenced to...  1\n",
      "5   In these trying times, Jackie Mason is the Voi...  0\n",
      "6   Ever wonder how Britain’s most iconic pop pian...  1\n",
      "7   PARIS  —   France chose an idealistic, traditi...  0\n",
      "8   Donald J. Trump is scheduled to make a highly ...  0\n",
      "9   A week before Michael T. Flynn resigned as nat...  0\n",
      "10  Organizing for Action, the activist group that...  0\n",
      "11  The BBC produced spoof on the “Real Housewives...  0\n",
      "12  The mystery surrounding The Third Reich and Na...  1\n",
      "13  Clinton Campaign Demands FBI Affirm Trump's Ru...  1\n",
      "14  Yes, There Are Paid Government Trolls On Socia...  1\n",
      "15  Guillermo Barros Schelotto was not the first A...  0\n",
      "16  The scandal engulfing Wells Fargo toppled its ...  0\n",
      "17  A Caddo Nation tribal leader has just been fre...  1\n",
      "18  FBI Closes In On Hillary! Posted on Home » Hea...  1\n",
      "19  Wednesday after   Donald Trump’s press confere...  0\n",
      "('X_train shape:', (22036, 100))\n",
      "('X_test shape:', (1160, 100))\n",
      "('y_train shape:', (22036,))\n",
      "('y_test shape:', (1160,))\n"
     ]
    }
   ],
   "source": [
    "real_data=pd.read_csv(\"/content/sample_data/News.csv\", header=None, skipinitialspace=True ,skiprows=1, encoding='utf-8')\n",
    "septic_data = pd.read_csv(\"/content/sample_data/train.csv\", header=None, skipinitialspace=True , encoding='utf-8') \n",
    "real_data[1] = real_data[1].replace(['1-Septic', '0-Pure'], [1, 0])\n",
    "news_data= pd.concat([real_data, septic_data], axis=0)\n",
    "news_data[0] = news_data[0].replace('\\n', '', regex=True).str.strip()\n",
    "print(news_data.head(20))\n",
    "print(real_data.head(20))\n",
    "print(septic_data.head(20))\n",
    "labels=news_data[1]\n",
    "labels.head()     \n",
    "X = news_data[0]\n",
    "Y=news_data[1]\n",
    "x_train,x_test,y_train,y_test=train_test_split(X, Y, test_size=0.05, random_state=7)\n",
    "x_train = x_train.str.replace('\\d+', '') # removing all numbers\n",
    "x_test = x_test.str.replace('\\d+', '')\n",
    "from nltk.corpus import stopwords\n",
    "stop = stopwords.words('english')\n",
    "x_train = x_train.apply(lambda x: ' '.join([word for word in str(x).split() if word not in (stop)]))\n",
    "x_test = x_test.apply(lambda x: ' '.join([word for word in str(x).split() if word not in (stop)]))\n",
    "tokenizer = Tokenizer(num_words=None) #adding this parameter can  responsible for setting the size of the vocabulary i.e the most common num_words\n",
    "tokenizer.fit_on_texts(x_train)\n",
    "vocab_size = len(tokenizer.word_index) + 1  \n",
    "data = []\n",
    "punc = '.'\n",
    "for i in x_train:\n",
    "    i = i[:-1]\n",
    "    token = word_tokenize(i)\n",
    "    if punc in token:\n",
    "        for index ,val in enumerate(token):\n",
    "            if punc == val:\n",
    "                token.pop(index)           \n",
    "    data.append(token)\n",
    "x_train = tokenizer.texts_to_sequences(data) \n",
    "x_test = tokenizer.texts_to_sequences(x_test)\n",
    "maxlen = 100\n",
    "x_train = pad_sequences(x_train, padding='post', maxlen=maxlen)\n",
    "x_test = pad_sequences(x_test, padding='post', maxlen=maxlen)\n",
    "y_train = np.array(y_train)\n",
    "y_test = np.array(y_test)\n",
    "y_train = y_train.astype('float64')\n",
    "y_test = y_test.astype('float64')\n",
    "print(('X_train shape:', x_train.shape))\n",
    "print(('X_test shape:', x_test.shape))\n",
    "print(('y_train shape:', y_train.shape))\n",
    "print(('y_test shape:', y_test.shape))"
   ]
  },
  {
   "cell_type": "code",
   "execution_count": 8,
   "metadata": {
    "id": "ScXp8JgVergV"
   },
   "outputs": [],
   "source": [
    "# news_data.dropna(axis=0, inplace=True)\n",
    "# x = news_data[0]\n",
    "# y = news_data[1]\n",
    "# x_train , x_test ,y_train ,  y_test = train_test_split(x, y, test_size = 0.1)"
   ]
  },
  {
   "cell_type": "code",
   "execution_count": 9,
   "metadata": {
    "id": "7Kir-w_awSwV"
   },
   "outputs": [],
   "source": [
    "# print(len(x_train))\n",
    "# data = []\n",
    "# punc = '.'\n",
    "# for i in x_train:\n",
    "#     i = i[:-1]\n",
    "#     token = word_tokenize(i)\n",
    "#     if punc in token:\n",
    "#         for index ,val in enumerate(token):\n",
    "#             if punc == val:\n",
    "#                 token.pop(index)\n",
    "        \n",
    "#     data.append(token)\n",
    "    \n",
    "# print(data)  "
   ]
  },
  {
   "cell_type": "code",
   "execution_count": 10,
   "metadata": {
    "id": "XiTuun6hm9W8"
   },
   "outputs": [],
   "source": [
    "# tokenizer = Tokenizer(num_words=5000) #adding this parameter can  responsible for setting the size of the vocabulary i.e the most common num_words\n",
    "# tokenizer.fit_on_texts(x_train)\n",
    "# x_train = tokenizer.texts_to_sequences(x_train)\n",
    "# x_test = tokenizer.texts_to_sequences(x_test)"
   ]
  },
  {
   "cell_type": "code",
   "execution_count": 11,
   "metadata": {
    "id": "MCnOu97Im9p6"
   },
   "outputs": [],
   "source": [
    "# maxlen = 100\n",
    "# x_train = pad_sequences(x_train, padding='post', maxlen=maxlen)\n",
    "# x_test = pad_sequences(x_test, padding='post', maxlen=maxlen)\n",
    "# print(x_train)\n",
    "# news_data.info()\n",
    "\n",
    "word_index = tokenizer.word_index\n",
    "vocab_size=len(word_index)"
   ]
  },
  {
   "cell_type": "code",
   "execution_count": 12,
   "metadata": {
    "id": "mPkGsD9Um95k"
   },
   "outputs": [],
   "source": [
    "# from keras import layers\n",
    "\n",
    "# model = Sequential()\n",
    "# model.add(layers.Embedding(vocab_size, embedding_dim, input_length=maxlen))\n",
    "# model.add(layers.Conv1D(128, 5, activation='relu'))\n",
    "# model.add(layers.GlobalMaxPooling1D())\n",
    "# model.add(layers.Dense(10, activation='relu'))\n",
    "# model.add(layers.Dense(1, activation='sigmoid'))\n",
    "# model.compile(optimizer='adam',\n",
    "#               loss='binary_crossentropy',\n",
    "#               metrics=['accuracy'])\n",
    "# model.fit(x_train, y_train,epochs=10,batch_size=10)\n",
    "import pandas as pd\n",
    "import nltk\n",
    "import re\n",
    "from nltk.corpus import stopwords\n",
    "import matplotlib.pyplot as plt\n",
    "from sklearn.feature_extraction.text import CountVectorizer, TfidfTransformer\n",
    "from sklearn.metrics import classification_report,confusion_matrix\n",
    "from sklearn.metrics import accuracy_score, f1_score, precision_score, recall_score\n",
    "from sklearn.svm import LinearSVC\n",
    "from sklearn.pipeline import Pipeline\n",
    "from sklearn.linear_model import SGDClassifier, LogisticRegression\n",
    "from sklearn.neural_network import MLPClassifier\n",
    "from joblib import dump, load\n",
    "from sklearn.ensemble import GradientBoostingClassifier\n",
    "from sklearn import tree\n",
    "import numpy as np\n",
    "import itertools"
   ]
  },
  {
   "cell_type": "code",
   "execution_count": 13,
   "metadata": {
    "id": "W-fnR8HkajnT"
   },
   "outputs": [],
   "source": [
    "def plot_confusion_matrix(cm,\n",
    "                          target_names,\n",
    "                          title='Confusion matrix',\n",
    "                          cmap=None,\n",
    "                          normalize=True):\n",
    "\n",
    "    accuracy = np.trace(cm) / float(np.sum(cm))\n",
    "    misclass = 1 - accuracy\n",
    "\n",
    "    if cmap is None:\n",
    "        cmap = plt.get_cmap('Blues')\n",
    "\n",
    "    plt.figure(figsize=(5, 4))\n",
    "    plt.imshow(cm, interpolation='nearest', cmap=cmap)\n",
    "    plt.title(title)\n",
    "    plt.colorbar()\n",
    "\n",
    "    if target_names is not None:\n",
    "        tick_marks = np.arange(len(target_names))\n",
    "        plt.xticks(tick_marks, target_names, rotation=45)\n",
    "        plt.yticks(tick_marks, target_names)\n",
    "\n",
    "    if normalize:\n",
    "        cm = cm.astype('float') / cm.sum(axis=1)[:, np.newaxis]\n",
    "\n",
    "\n",
    "    thresh = cm.max() / 1.5 if normalize else cm.max() / 2\n",
    "    for i, j in itertools.product(range(cm.shape[0]), range(cm.shape[1])):\n",
    "        if normalize:\n",
    "            plt.text(j, i, \"{:0.4f}\".format(cm[i, j]),\n",
    "                     horizontalalignment=\"center\",\n",
    "                     color=\"white\" if cm[i, j] > thresh else \"black\")\n",
    "        else:\n",
    "            plt.text(j, i, \"{:,}\".format(cm[i, j]),\n",
    "                     horizontalalignment=\"center\",\n",
    "                     color=\"white\" if cm[i, j] > thresh else \"black\")\n",
    "\n",
    "\n",
    "    plt.tight_layout()\n",
    "    plt.ylabel('True label')\n",
    "    #plt.xlabel('Predicted label\\naccuracy={:0.4f}; misclass={:0.4f}'.format(accuracy, misclass))\n",
    "    plt.xlabel('Predicted label')\n",
    "    plt.show()\n"
   ]
  },
  {
   "cell_type": "code",
   "execution_count": 14,
   "metadata": {
    "id": "VhrqyZtsalGV"
   },
   "outputs": [],
   "source": [
    "def print_metrices(pred,true):\n",
    "    print(confusion_matrix(true,pred))\n",
    "    print(classification_report(true,pred,))\n",
    "    print(\"Accuracy : \",accuracy_score(pred,true))\n",
    "    print(\"Precison : \",precision_score(pred,true, average = 'weighted'))\n",
    "    print(\"Recall : \",recall_score(pred,true,  average = 'weighted'))\n",
    "    print(\"F1 : \",f1_score(pred,true,  average = 'weighted'))"
   ]
  },
  {
   "cell_type": "markdown",
   "metadata": {
    "id": "K669BFT1XR1q"
   },
   "source": [
    "#LSTM"
   ]
  },
  {
   "cell_type": "code",
   "execution_count": 15,
   "metadata": {
    "colab": {
     "base_uri": "https://localhost:8080/"
    },
    "id": "7f21R-XWWAjj",
    "outputId": "26ba9d92-aceb-4046-f431-b1f1979ccb5e"
   },
   "outputs": [
    {
     "name": "stdout",
     "output_type": "stream",
     "text": [
      "--2022-02-13 18:22:47--  https://storage.googleapis.com/laurencemoroney-blog.appspot.com/glove.6B.100d.txt\n",
      "Resolving storage.googleapis.com (storage.googleapis.com)... 142.251.16.128, 142.251.45.16, 172.217.0.48, ...\n",
      "Connecting to storage.googleapis.com (storage.googleapis.com)|142.251.16.128|:443... connected.\n",
      "HTTP request sent, awaiting response... 404 Not Found\n",
      "2022-02-13 18:22:47 ERROR 404: Not Found.\n",
      "\n"
     ]
    }
   ],
   "source": [
    "# Import tensor representations for words\n",
    "\n",
    "!wget --no-check-certificate \\\n",
    "    https://storage.googleapis.com/laurencemoroney-blog.appspot.com/glove.6B.100d.txt \\\n",
    "    -O /tmp/glove.6B.100d.txt\n",
    "embeddings_index = {};\n",
    "with open('/tmp/glove.6B.100d.txt') as f:\n",
    "    for line in f:\n",
    "        values = line.split();\n",
    "        word = values[0];\n",
    "        coefs = np.asarray(values[1:], dtype='float32');\n",
    "        embeddings_index[word] = coefs;\n",
    "#print(len(coefs))\n",
    "\n",
    "embeddings_matrix = np.zeros((vocab_size+1, 100));\n",
    "for word, i in word_index.items():\n",
    "    embedding_vector = embeddings_index.get(word);\n",
    "    if embedding_vector is not None:\n",
    "        embeddings_matrix[i] = embedding_vector;"
   ]
  },
  {
   "cell_type": "code",
   "execution_count": 16,
   "metadata": {
    "id": "58M3k-QPtPk7"
   },
   "outputs": [],
   "source": [
    "# from tensorflow.keras import Model, Input\n",
    "# from tensorflow.keras.layers import LSTM, Embedding, Dense\n",
    "# from tensorflow.keras.layers import TimeDistributed, SpatialDropout1D, Bidirectional\n",
    "# print(x_train.shape)\n",
    "# model = Sequential()\n",
    "# input_word = Input(shape=(7026,))\n",
    "# model = Embedding(input_dim=x_train.shape[0], output_dim=1, input_length=100)(input_word)\n",
    "# model = SpatialDropout1D(0.1)(model)\n",
    "# model = Bidirectional(LSTM(units=100, return_sequences=True, recurrent_dropout=0.1))(model)\n",
    "# out = TimeDistributed(Dense(1, activation=\"sigmoid\"))(model)\n",
    "# model = Model(input_word, out)\n",
    "# model.summary()\n",
    "def create_model(x_train, y_train, x_test, y_test):\n",
    "    num_classes = 1 # y_train.shape[1]\n",
    "    num_tokens = 100 #x_train.shape[1]\n",
    "    print(num_classes)\n",
    "    print(num_tokens)\n",
    "    model = Sequential()\n",
    "    model.add(Embedding(vocab_size, output_dim = {{choice([16,32,60, 80, 100])}}, input_length = 100))\n",
    "    model.add(Dropout({{choice([0.3, 0.4, 0.5, 0.6])}}))\n",
    "    model.add(Conv1D(filters = {{choice([32,50, 60, 80])}}, kernel_size = {{choice([3,6,10,15,20,30])}}, padding='valid', activation='relu', strides=1))\n",
    "    model.add(GlobalMaxPool1D())\n",
    "    model.add(Dense(num_classes))\n",
    "    model.add(Activation('sigmoid'))\n",
    "\n",
    "    model.compile(loss='binary_crossentropy',\n",
    "                  optimizer={{choice(['adam', 'sgd'])}},\n",
    "                  metrics=['acc'])\n",
    "\n",
    "    # Optional to log output from Keras\n",
    "    #csv_logger = keras.callbacks.CSVLogger('Logs/dl_model.log')\n",
    "    \n",
    "    result = model.fit(x_train, y_train,\n",
    "              batch_size=128,\n",
    "              epochs=10,\n",
    "              verbose=0,\n",
    "              validation_split=0.1)\n",
    "    #get the highest validation accuracy of the training epochs\n",
    "    validation_acc = np.amax(result.history['val_acc']) \n",
    "    print('Best validation acc of epoch:', validation_acc)\n",
    "    return {'loss': -validation_acc, 'status': STATUS_OK, 'model': model}"
   ]
  },
  {
   "cell_type": "code",
   "execution_count": 17,
   "metadata": {
    "id": "T0_MKeyCm9x-"
   },
   "outputs": [],
   "source": [
    "# model.compile(optimizer=\"adam\",\n",
    "#               loss=\"categorical_crossentropy\",\n",
    "#               metrics=[\"accuracy\"])\n",
    "import tensorflow as tf\n",
    "model = tf.keras.Sequential([\n",
    "    tf.keras.layers.Embedding(vocab_size+1, 100, weights=[embeddings_matrix], trainable=False),\n",
    "    tf.keras.layers.Dropout(0.2),\n",
    "    tf.keras.layers.Conv1D(64, 5, activation='relu'),\n",
    "    tf.keras.layers.MaxPooling1D(pool_size=4),\n",
    "    tf.keras.layers.LSTM(20, return_sequences=True),\n",
    "    tf.keras.layers.LSTM(20),\n",
    "    tf.keras.layers.Dropout(0.2),  \n",
    "    tf.keras.layers.Dense(512),\n",
    "    tf.keras.layers.Dropout(0.3),  \n",
    "    tf.keras.layers.Dense(256),\n",
    "    tf.keras.layers.Dense(1, activation='sigmoid')\n",
    "])"
   ]
  },
  {
   "cell_type": "code",
   "execution_count": 18,
   "metadata": {
    "colab": {
     "base_uri": "https://localhost:8080/"
    },
    "id": "ULZ2cYso7ueX",
    "outputId": "fce94df7-4e72-4443-c541-ed9751b1dfdb"
   },
   "outputs": [
    {
     "name": "stdout",
     "output_type": "stream",
     "text": [
      "Model: \"sequential\"\n",
      "_________________________________________________________________\n",
      " Layer (type)                Output Shape              Param #   \n",
      "=================================================================\n",
      " embedding (Embedding)       (None, None, 100)         22439300  \n",
      "                                                                 \n",
      " dropout (Dropout)           (None, None, 100)         0         \n",
      "                                                                 \n",
      " conv1d (Conv1D)             (None, None, 64)          32064     \n",
      "                                                                 \n",
      " max_pooling1d (MaxPooling1D  (None, None, 64)         0         \n",
      " )                                                               \n",
      "                                                                 \n",
      " lstm (LSTM)                 (None, None, 20)          6800      \n",
      "                                                                 \n",
      " lstm_1 (LSTM)               (None, 20)                3280      \n",
      "                                                                 \n",
      " dropout_1 (Dropout)         (None, 20)                0         \n",
      "                                                                 \n",
      " dense (Dense)               (None, 512)               10752     \n",
      "                                                                 \n",
      " dropout_2 (Dropout)         (None, 512)               0         \n",
      "                                                                 \n",
      " dense_1 (Dense)             (None, 256)               131328    \n",
      "                                                                 \n",
      " dense_2 (Dense)             (None, 1)                 257       \n",
      "                                                                 \n",
      "=================================================================\n",
      "Total params: 22,623,781\n",
      "Trainable params: 184,481\n",
      "Non-trainable params: 22,439,300\n",
      "_________________________________________________________________\n",
      "Epoch 1/5\n",
      "221/221 [==============================] - 41s 162ms/step - loss: 0.6920 - accuracy: 0.5293 - val_loss: 0.6909 - val_accuracy: 0.5414\n",
      "Epoch 2/5\n",
      "221/221 [==============================] - 17s 79ms/step - loss: 0.6917 - accuracy: 0.5282 - val_loss: 0.6907 - val_accuracy: 0.5414\n",
      "Epoch 3/5\n",
      "221/221 [==============================] - 17s 78ms/step - loss: 0.6916 - accuracy: 0.5290 - val_loss: 0.6899 - val_accuracy: 0.5414\n",
      "Epoch 4/5\n",
      "221/221 [==============================] - 17s 78ms/step - loss: 0.6916 - accuracy: 0.5290 - val_loss: 0.6898 - val_accuracy: 0.5414\n",
      "Epoch 5/5\n",
      "221/221 [==============================] - 17s 79ms/step - loss: 0.6916 - accuracy: 0.5290 - val_loss: 0.6898 - val_accuracy: 0.5414\n",
      "Training Complete\n"
     ]
    }
   ],
   "source": [
    "# print(x_train.shape , y_train.shape)\n",
    "\n",
    "# history = model.fit(\n",
    "#     x=x_train,\n",
    "#     y=y_train,\n",
    "#     epochs=10\n",
    "# )\n",
    "\n",
    "model.compile(loss='binary_crossentropy',optimizer='adam',metrics=['accuracy'])\n",
    "model.summary()\n",
    "\n",
    "history = model.fit(x_train, y_train, epochs=5, batch_size=100, validation_data=[x_test, y_test])\n",
    "\n",
    "print(\"Training Complete\")"
   ]
  },
  {
   "cell_type": "code",
   "execution_count": 19,
   "metadata": {
    "colab": {
     "base_uri": "https://localhost:8080/",
     "height": 571
    },
    "id": "M3zPzDM47u1R",
    "outputId": "711c8ee1-5c2a-4f1f-c8c5-fd5e04238838"
   },
   "outputs": [
    {
     "name": "stdout",
     "output_type": "stream",
     "text": [
      "[[628   0]\n",
      " [532   0]]\n",
      "              precision    recall  f1-score   support\n",
      "\n",
      "         0.0       0.54      1.00      0.70       628\n",
      "         1.0       0.00      0.00      0.00       532\n",
      "\n",
      "    accuracy                           0.54      1160\n",
      "   macro avg       0.27      0.50      0.35      1160\n",
      "weighted avg       0.29      0.54      0.38      1160\n",
      "\n",
      "Accuracy :  0.5413793103448276\n",
      "Precison :  1.0\n",
      "Recall :  0.5413793103448276\n",
      "F1 :  0.7024608501118568\n"
     ]
    },
    {
     "data": {
      "image/png": "[encoded data removed]",
      "text/plain": [
       "<Figure size 360x288 with 2 Axes>"
      ]
     },
     "metadata": {
      "needs_background": "light"
     },
     "output_type": "display_data"
    }
   ],
   "source": [
    "pred=np.round(model.predict(x_test))\n",
    "print_metrices(pred,y_test)\n",
    "plot_confusion_matrix(confusion_matrix(y_test,pred),target_names=[0,1], normalize = False, \\\n",
    "                      title = 'Confusion matix of LSTM on test data')"
   ]
  },
  {
   "cell_type": "code",
   "execution_count": 20,
   "metadata": {
    "id": "2ogZm1MAm91D"
   },
   "outputs": [],
   "source": [
    "# embedding_dim = 50\n"
   ]
  },
  {
   "cell_type": "markdown",
   "metadata": {
    "id": "spBOzRzhXMzH"
   },
   "source": [
    "#Running ML Models"
   ]
  },
  {
   "cell_type": "code",
   "execution_count": 29,
   "metadata": {
    "id": "x8wI_93PX-nb"
   },
   "outputs": [],
   "source": [
    "stops = set(stopwords.words(\"english\"))\n",
    "def cleantext(string):\n",
    "    text = string.lower().split()\n",
    "    text = \" \".join(text)\n",
    "    text = re.sub(r\"http(\\S)+\",' ',text)    \n",
    "    text = re.sub(r\"www(\\S)+\",' ',text)\n",
    "    text = re.sub(r\"&\",' and ',text)  \n",
    "    tx = text.replace('&amp',' ')\n",
    "    text = re.sub(r\"[^0-9a-zA-Z]+\",' ',text)\n",
    "    text = text.split()\n",
    "    text = [w for w in text if not w in stops]\n",
    "    text = \" \".join(text)\n",
    "    return text"
   ]
  },
  {
   "cell_type": "code",
   "execution_count": 30,
   "metadata": {
    "id": "x7t3aZ0MYIiA"
   },
   "outputs": [],
   "source": [
    "real_data=pd.read_csv(\"/content/sample_data/News.csv\", header=None, skipinitialspace=True ,skiprows=1, encoding='utf-8')\n",
    "septic_data = pd.read_csv(\"/content/sample_data/train.csv\", header=None, skipinitialspace=True , encoding='utf-8') \n",
    "# septic_data=septic_data.drop(0, axis=1)\n",
    "# septic_data=septic_data.drop(1, axis=1)\n",
    "# septic_data.rename(columns = {2: 0, 3: 1}, inplace = True)\n",
    "real_data[1] = real_data[1].replace(['1-Septic', '0-Pure'], [1, 0])\n",
    "news_data= pd.concat([real_data, septic_data], axis=0)\n",
    "news_data[0] = news_data[0].replace('\\n', '', regex=True).str.strip()\n",
    "labels=news_data[1]\n",
    "labels.head()     \n",
    "X = news_data[0]\n",
    "Y=news_data[1]\n",
    "x_train,x_test,y_train,y_test=train_test_split(X, Y, test_size=0.05, random_state=7)\n",
    "x_train = x_train.str.replace('\\d+', '') # removing all numbers\n",
    "x_test = x_test.str.replace('\\d+', '')\n",
    "\n",
    "\n",
    "train=x_train\n",
    "test=x_test\n",
    "train = train.map(lambda x: cleantext(str(x)))\n",
    "test = test.map(lambda x: cleantext(str(x)))\n",
    "y_train=y_train.astype('int')\n",
    "y_test=y_test.astype('int')\n"
   ]
  },
  {
   "cell_type": "markdown",
   "metadata": {
    "id": "7Kyy4sAbpcy2"
   },
   "source": [
    "#SVM"
   ]
  },
  {
   "cell_type": "code",
   "execution_count": 31,
   "metadata": {
    "colab": {
     "base_uri": "https://localhost:8080/",
     "height": 606
    },
    "id": "ppVbRJCem98d",
    "outputId": "487d467e-6062-4319-d5fc-1d18402716dd"
   },
   "outputs": [
    {
     "name": "stdout",
     "output_type": "stream",
     "text": [
      "SVM\n",
      "test:\n",
      "[[599  29]\n",
      " [ 35 497]]\n",
      "              precision    recall  f1-score   support\n",
      "\n",
      "           0       0.94      0.95      0.95       628\n",
      "           1       0.94      0.93      0.94       532\n",
      "\n",
      "    accuracy                           0.94      1160\n",
      "   macro avg       0.94      0.94      0.94      1160\n",
      "weighted avg       0.94      0.94      0.94      1160\n",
      "\n",
      "Accuracy :  0.9448275862068966\n",
      "Precison :  0.944929023084837\n",
      "Recall :  0.9448275862068966\n",
      "F1 :  0.9448528750163608\n"
     ]
    },
    {
     "data": {
      "image/png": "[encoded data removed]",
      "text/plain": [
       "<Figure size 360x288 with 2 Axes>"
      ]
     },
     "metadata": {
      "needs_background": "light"
     },
     "output_type": "display_data"
    }
   ],
   "source": [
    "pipeline = Pipeline([\n",
    "        ('bow', CountVectorizer()),  \n",
    "        ('tfidf', TfidfTransformer()),  \n",
    "        ('c', LinearSVC())\n",
    "    ])\n",
    "fit = pipeline.fit(train,y_train)\n",
    "print('SVM')\n",
    "print ('test:')\n",
    "pred=pipeline.predict(test)\n",
    "print_metrices(pred,y_test)\n",
    "plot_confusion_matrix(confusion_matrix(y_test,pred),target_names=[0,1], normalize = False, \\\n",
    "                      title = 'Confusion matix of SVM on test data')"
   ]
  },
  {
   "cell_type": "markdown",
   "metadata": {
    "id": "BBp95IAFpfKP"
   },
   "source": [
    "#Logistic Regression"
   ]
  },
  {
   "cell_type": "code",
   "execution_count": 32,
   "metadata": {
    "colab": {
     "base_uri": "https://localhost:8080/",
     "height": 606
    },
    "id": "De8y9snEm9_x",
    "outputId": "9cf85614-16fe-41f9-91c1-96acc3546bce"
   },
   "outputs": [
    {
     "name": "stdout",
     "output_type": "stream",
     "text": [
      "Logistic Regression\n",
      "Test:\n",
      "[[588  40]\n",
      " [ 42 490]]\n",
      "              precision    recall  f1-score   support\n",
      "\n",
      "           0       0.93      0.94      0.93       628\n",
      "           1       0.92      0.92      0.92       532\n",
      "\n",
      "    accuracy                           0.93      1160\n",
      "   macro avg       0.93      0.93      0.93      1160\n",
      "weighted avg       0.93      0.93      0.93      1160\n",
      "\n",
      "Accuracy :  0.9293103448275862\n",
      "Precison :  0.9293366432774225\n",
      "Recall :  0.9293103448275862\n",
      "F1 :  0.9293207154966704\n"
     ]
    },
    {
     "data": {
      "image/png": "[encoded data removed]",
      "text/plain": [
       "<Figure size 360x288 with 2 Axes>"
      ]
     },
     "metadata": {
      "needs_background": "light"
     },
     "output_type": "display_data"
    }
   ],
   "source": [
    "pipeline = Pipeline([\n",
    "        ('bow', CountVectorizer()),  \n",
    "        ('tfidf', TfidfTransformer()),  \n",
    "        ('c', LogisticRegression())\n",
    "    ])\n",
    "fit = pipeline.fit(train,y_train)\n",
    "print('Logistic Regression')\n",
    "print ('Test:')\n",
    "pred=pipeline.predict(test)\n",
    "\n",
    "print_metrices(pred,y_test)\n",
    "plot_confusion_matrix(confusion_matrix(y_test,pred),target_names=[0,1], normalize = False, \\\n",
    "                      title = 'Confusion matix of LR on test data')"
   ]
  },
  {
   "cell_type": "markdown",
   "metadata": {
    "id": "7O3-AkxUqE5E"
   },
   "source": [
    "#Gradient Boosting Classifier"
   ]
  },
  {
   "cell_type": "code",
   "execution_count": 33,
   "metadata": {
    "colab": {
     "base_uri": "https://localhost:8080/",
     "height": 606
    },
    "id": "0o7Rf6TBm-Cr",
    "outputId": "59a77c35-4930-4d95-d548-d85a40d29c31"
   },
   "outputs": [
    {
     "name": "stdout",
     "output_type": "stream",
     "text": [
      "Gradient Boost\n",
      "Test:\n",
      "[[540  88]\n",
      " [ 41 491]]\n",
      "              precision    recall  f1-score   support\n",
      "\n",
      "           0       0.93      0.86      0.89       628\n",
      "           1       0.85      0.92      0.88       532\n",
      "\n",
      "    accuracy                           0.89      1160\n",
      "   macro avg       0.89      0.89      0.89      1160\n",
      "weighted avg       0.89      0.89      0.89      1160\n",
      "\n",
      "Accuracy :  0.8887931034482759\n",
      "Precison :  0.8913481093189817\n",
      "Recall :  0.8887931034482759\n",
      "F1 :  0.8886024321607312\n"
     ]
    },
    {
     "data": {
      "image/png": "[encoded data removed]",
      "text/plain": [
       "<Figure size 360x288 with 2 Axes>"
      ]
     },
     "metadata": {
      "needs_background": "light"
     },
     "output_type": "display_data"
    }
   ],
   "source": [
    "pipeline = Pipeline([\n",
    "        ('bow', CountVectorizer()),  \n",
    "        ('tfidf', TfidfTransformer()),  \n",
    "        ('c', GradientBoostingClassifier())\n",
    "    ])\n",
    "fit = pipeline.fit(train,y_train)\n",
    "print('Gradient Boost')\n",
    "print ('Test:')\n",
    "pred=pipeline.predict(test)\n",
    "\n",
    "print_metrices(pred,y_test)\n",
    "plot_confusion_matrix(confusion_matrix(y_test,pred),target_names=[0,1], normalize = False, \\\n",
    "                      title = 'Confusion matix of GDBT on test data')"
   ]
  },
  {
   "cell_type": "markdown",
   "metadata": {
    "id": "QcKDyXNJqQ6o"
   },
   "source": [
    "#Decision Tree Classifier"
   ]
  },
  {
   "cell_type": "code",
   "execution_count": 34,
   "metadata": {
    "colab": {
     "base_uri": "https://localhost:8080/",
     "height": 606
    },
    "id": "Ymg_z4dGm-Jh",
    "outputId": "e0766929-c66e-412f-933a-4e81cd9d9136"
   },
   "outputs": [
    {
     "name": "stdout",
     "output_type": "stream",
     "text": [
      "Decision Tree\n",
      "Test:\n",
      "[[552  76]\n",
      " [ 60 472]]\n",
      "              precision    recall  f1-score   support\n",
      "\n",
      "           0       0.90      0.88      0.89       628\n",
      "           1       0.86      0.89      0.87       532\n",
      "\n",
      "    accuracy                           0.88      1160\n",
      "   macro avg       0.88      0.88      0.88      1160\n",
      "weighted avg       0.88      0.88      0.88      1160\n",
      "\n",
      "Accuracy :  0.8827586206896552\n",
      "Precison :  0.8828722365985247\n",
      "Recall :  0.8827586206896552\n",
      "F1 :  0.8826465620236477\n"
     ]
    },
    {
     "data": {
      "image/png": "[encoded data removed]",
      "text/plain": [
       "<Figure size 360x288 with 2 Axes>"
      ]
     },
     "metadata": {
      "needs_background": "light"
     },
     "output_type": "display_data"
    }
   ],
   "source": [
    "pipeline = Pipeline([\n",
    "        ('bow', CountVectorizer()),  \n",
    "        ('tfidf', TfidfTransformer()),  \n",
    "        ('c', tree.DecisionTreeClassifier())\n",
    "    ])\n",
    "fit = pipeline.fit(train,y_train)\n",
    "print('Decision Tree')\n",
    "print ('Test:')\n",
    "pred=pipeline.predict(test)\n",
    "\n",
    "print_metrices(pred,y_test)\n",
    "plot_confusion_matrix(confusion_matrix(y_test,pred),target_names=[0,1], normalize = False, \\\n",
    "                      title = 'Confusion matix of DT on test data')"
   ]
  },
  {
   "cell_type": "markdown",
   "metadata": {
    "id": "mjBnG7ADqgNW"
   },
   "source": [
    "#Random Forest Classifier"
   ]
  },
  {
   "cell_type": "code",
   "execution_count": 35,
   "metadata": {
    "colab": {
     "base_uri": "https://localhost:8080/",
     "height": 606
    },
    "id": "r3rzPpH7m-MM",
    "outputId": "4478daf9-e865-48cf-9306-81b466732f66"
   },
   "outputs": [
    {
     "name": "stdout",
     "output_type": "stream",
     "text": [
      "Random Forest Classifier\n",
      "Test:\n",
      "[[595  33]\n",
      " [ 57 475]]\n",
      "              precision    recall  f1-score   support\n",
      "\n",
      "           0       0.91      0.95      0.93       628\n",
      "           1       0.94      0.89      0.91       532\n",
      "\n",
      "    accuracy                           0.92      1160\n",
      "   macro avg       0.92      0.92      0.92      1160\n",
      "weighted avg       0.92      0.92      0.92      1160\n",
      "\n",
      "Accuracy :  0.9224137931034483\n",
      "Precison :  0.9235433466160459\n",
      "Recall :  0.9224137931034483\n",
      "F1 :  0.922581647877984\n"
     ]
    },
    {
     "data": {
      "image/png": "[encoded data removed]",
      "text/plain": [
       "<Figure size 360x288 with 2 Axes>"
      ]
     },
     "metadata": {
      "needs_background": "light"
     },
     "output_type": "display_data"
    }
   ],
   "source": [
    "from sklearn.ensemble import RandomForestClassifier\n",
    "pipeline = Pipeline([\n",
    "        ('bow', CountVectorizer()),  \n",
    "        ('tfidf', TfidfTransformer()),  \n",
    "        ('c', RandomForestClassifier())\n",
    "    ])\n",
    "fit = pipeline.fit(train,y_train)\n",
    "print('Random Forest Classifier')\n",
    "print ('Test:')\n",
    "pred=pipeline.predict(test)\n",
    "\n",
    "print_metrices(pred,y_test)\n",
    "plot_confusion_matrix(confusion_matrix(y_test,pred),target_names=[0,1], normalize = False, \\\n",
    "                      title = 'Confusion matix of RFC on test data')"
   ]
  },
  {
   "cell_type": "code",
   "execution_count": 35,
   "metadata": {
    "id": "b33CbhaBm-O6"
   },
   "outputs": [],
   "source": []
  },
  {
   "cell_type": "code",
   "execution_count": 35,
   "metadata": {
    "id": "U2sQF01Fm-Rr"
   },
   "outputs": [],
   "source": []
  },
  {
   "cell_type": "code",
   "execution_count": 35,
   "metadata": {
    "id": "25lvfcPRm-Vh"
   },
   "outputs": [],
   "source": []
  },
  {
   "cell_type": "code",
   "execution_count": 35,
   "metadata": {
    "id": "572OgIc2m-Yi"
   },
   "outputs": [],
   "source": []
  }
 ],
 "metadata": {
  "colab": {
   "collapsed_sections": [],
   "name": "NewsClassification.ipynb",
   "provenance": []
  },
  "kernelspec": {
   "display_name": "Python 3 (ipykernel)",
   "language": "python",
   "name": "python3"
  },
  "language_info": {
   "codemirror_mode": {
    "name": "ipython",
    "version": 3
   },
   "file_extension": ".py",
   "mimetype": "text/x-python",
   "name": "python",
   "nbconvert_exporter": "python",
   "pygments_lexer": "ipython3",
   "version": "3.8.10"
  }
 },
 "nbformat": 4,
 "nbformat_minor": 1
}

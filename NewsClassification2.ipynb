{
  "nbformat": 4,
  "nbformat_minor": 0,
  "metadata": {
    "colab": {
      "name": "NewsClassification.ipynb",
      "provenance": [],
      "collapsed_sections": []
    },
    "kernelspec": {
      "display_name": "Python 3",
      "language": "python",
      "name": "python3"
    },
    "language_info": {
      "codemirror_mode": {
        "name": "ipython",
        "version": 3
      },
      "file_extension": ".py",
      "mimetype": "text/x-python",
      "name": "python",
      "nbconvert_exporter": "python",
      "pygments_lexer": "ipython3",
      "version": "3.6.9"
    }
  },
  "cells": [
    {
      "cell_type": "code",
      "metadata": {
        "id": "oWM4MU5_erfr",
        "colab": {
          "base_uri": "https://localhost:8080/"
        },
        "outputId": "82a3d3b9-d2ff-43aa-cc96-2c8ac9dd0cc8"
      },
      "source": [
        "import numpy as np\n",
        "import pandas as pd\n",
        "from sklearn.model_selection import train_test_split\n",
        "from keras.preprocessing.text import Tokenizer\n",
        "from keras.datasets import imdb\n",
        "from keras.models import Sequential\n",
        "from keras.layers import Dense,Conv1D,MaxPooling1D\n",
        "from keras.layers import LSTM,Dropout\n",
        "from keras.layers.embeddings import Embedding\n",
        "from keras.preprocessing import sequence\n",
        "from keras.preprocessing.sequence import pad_sequences\n",
        "from keras.callbacks import ModelCheckpoint\n",
        "!pip install nltk\n",
        "import nltk\n",
        "nltk.download('stopwords')\n",
        "nltk.download('punkt')\n",
        "from nltk.tokenize import sent_tokenize, word_tokenize\n",
        "# fix random seed for reproducibility\n",
        "np.random.seed(7)\n",
        "from prettytable import PrettyTable\n",
        "import warnings\n",
        "warnings.filterwarnings('ignore')"
      ],
      "execution_count": null,
      "outputs": [
        {
          "output_type": "stream",
          "name": "stdout",
          "text": [
            "Requirement already satisfied: nltk in /usr/local/lib/python3.7/dist-packages (3.2.5)\n",
            "Requirement already satisfied: six in /usr/local/lib/python3.7/dist-packages (from nltk) (1.15.0)\n",
            "[nltk_data] Downloading package stopwords to /root/nltk_data...\n",
            "[nltk_data]   Unzipping corpora/stopwords.zip.\n",
            "[nltk_data] Downloading package punkt to /root/nltk_data...\n",
            "[nltk_data]   Unzipping tokenizers/punkt.zip.\n"
          ]
        }
      ]
    },
    {
      "cell_type": "code",
      "metadata": {
        "id": "9Dg3-CPJergJ",
        "colab": {
          "base_uri": "https://localhost:8080/"
        },
        "outputId": "be59f6f7-952b-46d8-e0fc-bed8844d92e2"
      },
      "source": [
        "# real_data=pd.read_csv(\"/content/sample_data/News.csv\", header=None, skipinitialspace=True ,skiprows=1, encoding='utf-8')\n",
        "# septic_data = pd.read_csv(\"/content/sample_data/SepticDataset1.csv\", header=None, skipinitialspace=True ,skiprows=1, encoding='utf-8') \n",
        "# septic_data=septic_data.drop(0, axis=1)\n",
        "# septic_data=septic_data.drop(1, axis=1)\n",
        "# septic_data.rename(columns = {2: 0, 3: 1}, inplace = True)\n",
        "# real_data[1] = real_data[1].replace(['1-Septic', '0-Pure'], [1, 0])\n",
        "# septic_data=septic_data.iloc[0:1500,:]\n",
        "# news_data= pd.concat([real_data, septic_data], axis=0)\n",
        "# print(real_data.shape)\n",
        "# print(septic_data.shape)\n",
        "# news_data[0] = news_data[0].replace('\\n', '', regex=True).str.strip()\n",
        "# labels=news_data[1]\n",
        "# labels.head()     \n",
        "# X = news_data[0]\n",
        "# Y=news_data[1]\n",
        "# x_train,x_test,y_train,y_test=train_test_split(X, Y, test_size=0.05, random_state=7)\n",
        "real_data=pd.read_csv(\"/content/sample_data/News.csv\", header=None, skipinitialspace=True ,skiprows=1, encoding='utf-8')\n",
        "real_data[1] = real_data[1].replace(['1-Septic', '0-Pure'], [1, 0])\n",
        "real_data[0] = real_data[0].replace('\\n', '', regex=True).str.strip()  \n",
        "#labels=news_data[1]\n",
        "#labels.head()     \n",
        "#print(type(labels))\n",
        "#news_data[1].value_counts()\n",
        "X = real_data[0]\n",
        "Y=real_data[1]\n",
        "x_train,x_test,y_train,y_test=train_test_split(X, Y, test_size=0.1, random_state=7)\n",
        "septic_data = pd.read_csv(\"/content/sample_data/SepticDataset.csv\", header=None, skipinitialspace=True ,skiprows=1, encoding='utf-8') \n",
        "septic_data=septic_data.drop(0, axis=1)\n",
        "septic_data=septic_data.drop(1, axis=1)\n",
        "septic_data.rename(columns = {2: 0, 3: 1}, inplace = True)\n",
        "#septic_data=septic_data.iloc[0:1500,:]\n",
        "septic_data[0] = septic_data[0].replace('\\n', '', regex=True).str.strip()\n",
        "x_train=pd.concat([x_train, septic_data[0]], axis=0)\n",
        "y_train=pd.concat([y_train, septic_data[1]], axis=0)\n",
        "\n",
        " \n",
        "x_train = x_train.str.replace('\\d+', '') # removing all numbers\n",
        "x_test = x_test.str.replace('\\d+', '')\n",
        "from nltk.corpus import stopwords\n",
        "stop = stopwords.words('english')\n",
        "x_train = x_train.apply(lambda x: ' '.join([word for word in x.split() if word not in (stop)]))\n",
        "x_test = x_test.apply(lambda x: ' '.join([word for word in x.split() if word not in (stop)]))\n",
        "tokenizer = Tokenizer(num_words=None) #adding this parameter can  responsible for setting the size of the vocabulary i.e the most common num_words\n",
        "tokenizer.fit_on_texts(x_train)\n",
        "vocab_size = len(tokenizer.word_index) + 1  \n",
        "data = []\n",
        "punc = '.'\n",
        "for i in x_train:\n",
        "  i = i[:-1]\n",
        "  token = word_tokenize(i)\n",
        "  if punc in token:\n",
        "    for index ,val in enumerate(token):\n",
        "      if punc == val:\n",
        "        token.pop(index)           \n",
        "  data.append(token)\n",
        "x_train = tokenizer.texts_to_sequences(data) \n",
        "x_test = tokenizer.texts_to_sequences(x_test)\n",
        "maxlen = 100\n",
        "x_train = pad_sequences(x_train, padding='post', maxlen=maxlen)\n",
        "x_test = pad_sequences(x_test, padding='post', maxlen=maxlen)\n",
        "y_train = np.array(y_train)\n",
        "y_test = np.array(y_test)\n",
        "y_train = y_train.astype('float64')\n",
        "y_test = y_test.astype('float64')\n",
        "print(('X_train shape:', x_train.shape))\n",
        "print(('X_test shape:', x_test.shape))\n",
        "print(('y_train shape:', y_train.shape))\n",
        "print(('y_test shape:', y_test.shape))"
      ],
      "execution_count": null,
      "outputs": [
        {
          "output_type": "stream",
          "name": "stdout",
          "text": [
            "('X_train shape:', (7156, 100))\n",
            "('X_test shape:', (240, 100))\n",
            "('y_train shape:', (7156,))\n",
            "('y_test shape:', (240,))\n"
          ]
        }
      ]
    },
    {
      "cell_type": "code",
      "metadata": {
        "id": "ScXp8JgVergV"
      },
      "source": [
        "# news_data.dropna(axis=0, inplace=True)\n",
        "# x = news_data[0]\n",
        "# y = news_data[1]\n",
        "# x_train , x_test ,y_train ,  y_test = train_test_split(x, y, test_size = 0.1)"
      ],
      "execution_count": null,
      "outputs": []
    },
    {
      "cell_type": "code",
      "metadata": {
        "id": "7Kir-w_awSwV"
      },
      "source": [
        "# print(len(x_train))\n",
        "# data = []\n",
        "# punc = '.'\n",
        "# for i in x_train:\n",
        "#     i = i[:-1]\n",
        "#     token = word_tokenize(i)\n",
        "#     if punc in token:\n",
        "#         for index ,val in enumerate(token):\n",
        "#             if punc == val:\n",
        "#                 token.pop(index)\n",
        "        \n",
        "#     data.append(token)\n",
        "    \n",
        "# print(data)  "
      ],
      "execution_count": null,
      "outputs": []
    },
    {
      "cell_type": "code",
      "metadata": {
        "id": "XiTuun6hm9W8"
      },
      "source": [
        "# tokenizer = Tokenizer(num_words=5000) #adding this parameter can  responsible for setting the size of the vocabulary i.e the most common num_words\n",
        "# tokenizer.fit_on_texts(x_train)\n",
        "# x_train = tokenizer.texts_to_sequences(x_train)\n",
        "# x_test = tokenizer.texts_to_sequences(x_test)"
      ],
      "execution_count": null,
      "outputs": []
    },
    {
      "cell_type": "code",
      "metadata": {
        "id": "MCnOu97Im9p6"
      },
      "source": [
        "# maxlen = 100\n",
        "# x_train = pad_sequences(x_train, padding='post', maxlen=maxlen)\n",
        "# x_test = pad_sequences(x_test, padding='post', maxlen=maxlen)\n",
        "# print(x_train)\n",
        "# news_data.info()\n",
        "\n",
        "word_index = tokenizer.word_index\n",
        "vocab_size=len(word_index)"
      ],
      "execution_count": null,
      "outputs": []
    },
    {
      "cell_type": "code",
      "metadata": {
        "id": "mPkGsD9Um95k"
      },
      "source": [
        "# from keras import layers\n",
        "\n",
        "# model = Sequential()\n",
        "# model.add(layers.Embedding(vocab_size, embedding_dim, input_length=maxlen))\n",
        "# model.add(layers.Conv1D(128, 5, activation='relu'))\n",
        "# model.add(layers.GlobalMaxPooling1D())\n",
        "# model.add(layers.Dense(10, activation='relu'))\n",
        "# model.add(layers.Dense(1, activation='sigmoid'))\n",
        "# model.compile(optimizer='adam',\n",
        "#               loss='binary_crossentropy',\n",
        "#               metrics=['accuracy'])\n",
        "# model.fit(x_train, y_train,epochs=10,batch_size=10)\n",
        "import pandas as pd\n",
        "import nltk\n",
        "import re\n",
        "from nltk.corpus import stopwords\n",
        "import matplotlib.pyplot as plt\n",
        "from sklearn.feature_extraction.text import CountVectorizer, TfidfTransformer\n",
        "from sklearn.metrics import classification_report,confusion_matrix\n",
        "from sklearn.metrics import accuracy_score, f1_score, precision_score, recall_score\n",
        "from sklearn.svm import LinearSVC\n",
        "from sklearn.pipeline import Pipeline\n",
        "from sklearn.linear_model import SGDClassifier, LogisticRegression\n",
        "from sklearn.neural_network import MLPClassifier\n",
        "from joblib import dump, load\n",
        "from sklearn.ensemble import GradientBoostingClassifier\n",
        "from sklearn import tree\n",
        "import numpy as np\n",
        "import itertools"
      ],
      "execution_count": null,
      "outputs": []
    },
    {
      "cell_type": "code",
      "metadata": {
        "id": "W-fnR8HkajnT"
      },
      "source": [
        "def plot_confusion_matrix(cm,\n",
        "                          target_names,\n",
        "                          title='Confusion matrix',\n",
        "                          cmap=None,\n",
        "                          normalize=True):\n",
        "\n",
        "    accuracy = np.trace(cm) / float(np.sum(cm))\n",
        "    misclass = 1 - accuracy\n",
        "\n",
        "    if cmap is None:\n",
        "        cmap = plt.get_cmap('Blues')\n",
        "\n",
        "    plt.figure(figsize=(5, 4))\n",
        "    plt.imshow(cm, interpolation='nearest', cmap=cmap)\n",
        "    plt.title(title)\n",
        "    plt.colorbar()\n",
        "\n",
        "    if target_names is not None:\n",
        "        tick_marks = np.arange(len(target_names))\n",
        "        plt.xticks(tick_marks, target_names, rotation=45)\n",
        "        plt.yticks(tick_marks, target_names)\n",
        "\n",
        "    if normalize:\n",
        "        cm = cm.astype('float') / cm.sum(axis=1)[:, np.newaxis]\n",
        "\n",
        "\n",
        "    thresh = cm.max() / 1.5 if normalize else cm.max() / 2\n",
        "    for i, j in itertools.product(range(cm.shape[0]), range(cm.shape[1])):\n",
        "        if normalize:\n",
        "            plt.text(j, i, \"{:0.4f}\".format(cm[i, j]),\n",
        "                     horizontalalignment=\"center\",\n",
        "                     color=\"white\" if cm[i, j] > thresh else \"black\")\n",
        "        else:\n",
        "            plt.text(j, i, \"{:,}\".format(cm[i, j]),\n",
        "                     horizontalalignment=\"center\",\n",
        "                     color=\"white\" if cm[i, j] > thresh else \"black\")\n",
        "\n",
        "\n",
        "    plt.tight_layout()\n",
        "    plt.ylabel('True label')\n",
        "    #plt.xlabel('Predicted label\\naccuracy={:0.4f}; misclass={:0.4f}'.format(accuracy, misclass))\n",
        "    plt.xlabel('Predicted label')\n",
        "    plt.show()\n"
      ],
      "execution_count": null,
      "outputs": []
    },
    {
      "cell_type": "code",
      "metadata": {
        "id": "VhrqyZtsalGV"
      },
      "source": [
        "def print_metrices(pred,true):\n",
        "    print(confusion_matrix(true,pred))\n",
        "    print(classification_report(true,pred,))\n",
        "    print(\"Accuracy : \",accuracy_score(pred,true))\n",
        "    print(\"Precison : \",precision_score(pred,true, average = 'weighted'))\n",
        "    print(\"Recall : \",recall_score(pred,true,  average = 'weighted'))\n",
        "    print(\"F1 : \",f1_score(pred,true,  average = 'weighted'))"
      ],
      "execution_count": null,
      "outputs": []
    },
    {
      "cell_type": "markdown",
      "metadata": {
        "id": "K669BFT1XR1q"
      },
      "source": [
        "#LSTM"
      ]
    },
    {
      "cell_type": "code",
      "metadata": {
        "colab": {
          "base_uri": "https://localhost:8080/"
        },
        "id": "7f21R-XWWAjj",
        "outputId": "62873223-0e2b-4577-bf0c-05bc78be9f61"
      },
      "source": [
        "# Import tensor representations for words\n",
        "\n",
        "!wget --no-check-certificate \\\n",
        "    https://storage.googleapis.com/laurencemoroney-blog.appspot.com/glove.6B.100d.txt \\\n",
        "    -O /tmp/glove.6B.100d.txt\n",
        "embeddings_index = {};\n",
        "with open('/tmp/glove.6B.100d.txt') as f:\n",
        "    for line in f:\n",
        "        values = line.split();\n",
        "        word = values[0];\n",
        "        coefs = np.asarray(values[1:], dtype='float32');\n",
        "        embeddings_index[word] = coefs;\n",
        "#print(len(coefs))\n",
        "\n",
        "embeddings_matrix = np.zeros((vocab_size+1, 100));\n",
        "for word, i in word_index.items():\n",
        "    embedding_vector = embeddings_index.get(word);\n",
        "    if embedding_vector is not None:\n",
        "        embeddings_matrix[i] = embedding_vector;"
      ],
      "execution_count": null,
      "outputs": [
        {
          "output_type": "stream",
          "name": "stdout",
          "text": [
            "--2021-10-27 13:58:46--  https://storage.googleapis.com/laurencemoroney-blog.appspot.com/glove.6B.100d.txt\n",
            "Resolving storage.googleapis.com (storage.googleapis.com)... 108.177.119.128, 108.177.127.128, 172.217.218.128, ...\n",
            "Connecting to storage.googleapis.com (storage.googleapis.com)|108.177.119.128|:443... connected.\n",
            "HTTP request sent, awaiting response... 404 Not Found\n",
            "2021-10-27 13:58:46 ERROR 404: Not Found.\n",
            "\n"
          ]
        }
      ]
    },
    {
      "cell_type": "code",
      "metadata": {
        "id": "58M3k-QPtPk7"
      },
      "source": [
        "# from tensorflow.keras import Model, Input\n",
        "# from tensorflow.keras.layers import LSTM, Embedding, Dense\n",
        "# from tensorflow.keras.layers import TimeDistributed, SpatialDropout1D, Bidirectional\n",
        "# print(x_train.shape)\n",
        "# model = Sequential()\n",
        "# input_word = Input(shape=(7026,))\n",
        "# model = Embedding(input_dim=x_train.shape[0], output_dim=1, input_length=100)(input_word)\n",
        "# model = SpatialDropout1D(0.1)(model)\n",
        "# model = Bidirectional(LSTM(units=100, return_sequences=True, recurrent_dropout=0.1))(model)\n",
        "# out = TimeDistributed(Dense(1, activation=\"sigmoid\"))(model)\n",
        "# model = Model(input_word, out)\n",
        "# model.summary()\n",
        "def create_model(x_train, y_train, x_test, y_test):\n",
        "    num_classes = 1 # y_train.shape[1]\n",
        "    num_tokens = 100 #x_train.shape[1]\n",
        "    print(num_classes)\n",
        "    print(num_tokens)\n",
        "    model = Sequential()\n",
        "    model.add(Embedding(vocab_size, output_dim = {{choice([16,32,60, 80, 100])}}, input_length = 100))\n",
        "    model.add(Dropout({{choice([0.3, 0.4, 0.5, 0.6])}}))\n",
        "    model.add(Conv1D(filters = {{choice([32,50, 60, 80])}}, kernel_size = {{choice([3,6,10,15,20,30])}}, padding='valid', activation='relu', strides=1))\n",
        "    model.add(GlobalMaxPool1D())\n",
        "    model.add(Dense(num_classes))\n",
        "    model.add(Activation('sigmoid'))\n",
        "\n",
        "    model.compile(loss='binary_crossentropy',\n",
        "                  optimizer={{choice(['adam', 'sgd'])}},\n",
        "                  metrics=['acc'])\n",
        "\n",
        "    # Optional to log output from Keras\n",
        "    #csv_logger = keras.callbacks.CSVLogger('Logs/dl_model.log')\n",
        "    \n",
        "    result = model.fit(x_train, y_train,\n",
        "              batch_size=128,\n",
        "              epochs=10,\n",
        "              verbose=0,\n",
        "              validation_split=0.1)\n",
        "    #get the highest validation accuracy of the training epochs\n",
        "    validation_acc = np.amax(result.history['val_acc']) \n",
        "    print('Best validation acc of epoch:', validation_acc)\n",
        "    return {'loss': -validation_acc, 'status': STATUS_OK, 'model': model}"
      ],
      "execution_count": null,
      "outputs": []
    },
    {
      "cell_type": "code",
      "metadata": {
        "id": "T0_MKeyCm9x-"
      },
      "source": [
        "# model.compile(optimizer=\"adam\",\n",
        "#               loss=\"categorical_crossentropy\",\n",
        "#               metrics=[\"accuracy\"])\n",
        "import tensorflow as tf\n",
        "model = tf.keras.Sequential([\n",
        "    tf.keras.layers.Embedding(vocab_size+1, 100, weights=[embeddings_matrix], trainable=False),\n",
        "    tf.keras.layers.Dropout(0.2),\n",
        "    tf.keras.layers.Conv1D(64, 5, activation='relu'),\n",
        "    tf.keras.layers.MaxPooling1D(pool_size=4),\n",
        "    tf.keras.layers.LSTM(20, return_sequences=True),\n",
        "    tf.keras.layers.LSTM(20),\n",
        "    tf.keras.layers.Dropout(0.2),  \n",
        "    tf.keras.layers.Dense(512),\n",
        "    tf.keras.layers.Dropout(0.3),  \n",
        "    tf.keras.layers.Dense(256),\n",
        "    tf.keras.layers.Dense(1, activation='sigmoid')\n",
        "])"
      ],
      "execution_count": null,
      "outputs": []
    },
    {
      "cell_type": "code",
      "metadata": {
        "id": "ULZ2cYso7ueX",
        "colab": {
          "base_uri": "https://localhost:8080/"
        },
        "outputId": "7184beb3-ddc0-47bf-e240-62fdfb03869a"
      },
      "source": [
        "# print(x_train.shape , y_train.shape)\n",
        "\n",
        "# history = model.fit(\n",
        "#     x=x_train,\n",
        "#     y=y_train,\n",
        "#     epochs=10\n",
        "# )\n",
        "\n",
        "model.compile(loss='binary_crossentropy',optimizer='adam',metrics=['accuracy'])\n",
        "model.summary()\n",
        "\n",
        "history = model.fit(x_train, y_train, epochs=5, batch_size=100, validation_data=[x_test, y_test])\n",
        "\n",
        "print(\"Training Complete\")"
      ],
      "execution_count": null,
      "outputs": [
        {
          "output_type": "stream",
          "name": "stdout",
          "text": [
            "Model: \"sequential\"\n",
            "_________________________________________________________________\n",
            "Layer (type)                 Output Shape              Param #   \n",
            "=================================================================\n",
            "embedding (Embedding)        (None, None, 100)         1125200   \n",
            "_________________________________________________________________\n",
            "dropout (Dropout)            (None, None, 100)         0         \n",
            "_________________________________________________________________\n",
            "conv1d (Conv1D)              (None, None, 64)          32064     \n",
            "_________________________________________________________________\n",
            "max_pooling1d (MaxPooling1D) (None, None, 64)          0         \n",
            "_________________________________________________________________\n",
            "lstm (LSTM)                  (None, None, 20)          6800      \n",
            "_________________________________________________________________\n",
            "lstm_1 (LSTM)                (None, 20)                3280      \n",
            "_________________________________________________________________\n",
            "dropout_1 (Dropout)          (None, 20)                0         \n",
            "_________________________________________________________________\n",
            "dense (Dense)                (None, 512)               10752     \n",
            "_________________________________________________________________\n",
            "dropout_2 (Dropout)          (None, 512)               0         \n",
            "_________________________________________________________________\n",
            "dense_1 (Dense)              (None, 256)               131328    \n",
            "_________________________________________________________________\n",
            "dense_2 (Dense)              (None, 1)                 257       \n",
            "=================================================================\n",
            "Total params: 1,309,681\n",
            "Trainable params: 184,481\n",
            "Non-trainable params: 1,125,200\n",
            "_________________________________________________________________\n",
            "Epoch 1/5\n",
            "72/72 [==============================] - 8s 71ms/step - loss: 0.5615 - accuracy: 0.7532 - val_loss: 0.0000e+00 - val_accuracy: 0.0000e+00\n",
            "Epoch 2/5\n",
            "72/72 [==============================] - 4s 60ms/step - loss: 0.5511 - accuracy: 0.7608 - val_loss: 0.0000e+00 - val_accuracy: 0.0000e+00\n",
            "Epoch 3/5\n",
            "72/72 [==============================] - 4s 60ms/step - loss: 0.5518 - accuracy: 0.7608 - val_loss: 0.0000e+00 - val_accuracy: 0.0000e+00\n",
            "Epoch 4/5\n",
            "72/72 [==============================] - 4s 61ms/step - loss: 0.5514 - accuracy: 0.7608 - val_loss: 0.0000e+00 - val_accuracy: 0.0000e+00\n",
            "Epoch 5/5\n",
            "72/72 [==============================] - 4s 61ms/step - loss: 0.5522 - accuracy: 0.7608 - val_loss: 0.0000e+00 - val_accuracy: 0.0000e+00\n",
            "Training Complete\n"
          ]
        }
      ]
    },
    {
      "cell_type": "code",
      "metadata": {
        "id": "M3zPzDM47u1R",
        "colab": {
          "base_uri": "https://localhost:8080/",
          "height": 563
        },
        "outputId": "b3c2c6c5-7022-4185-f7b0-4ffa653a2f51"
      },
      "source": [
        "pred=np.round(model.predict(x_test))\n",
        "print_metrices(pred,y_test)\n",
        "plot_confusion_matrix(confusion_matrix(y_test,pred),target_names=[0,1], normalize = False, \\\n",
        "                      title = 'Confusion matix of LSTM on test data')"
      ],
      "execution_count": null,
      "outputs": [
        {
          "output_type": "stream",
          "name": "stdout",
          "text": [
            "[[  0 185]\n",
            " [  0  55]]\n",
            "              precision    recall  f1-score   support\n",
            "\n",
            "         0.0       0.00      0.00      0.00       185\n",
            "         1.0       0.23      1.00      0.37        55\n",
            "\n",
            "    accuracy                           0.23       240\n",
            "   macro avg       0.11      0.50      0.19       240\n",
            "weighted avg       0.05      0.23      0.09       240\n",
            "\n",
            "Accuracy :  0.22916666666666666\n",
            "Precison :  1.0\n",
            "Recall :  0.22916666666666666\n",
            "F1 :  0.37288135593220334\n"
          ]
        },
        {
          "output_type": "display_data",
          "data": {
            "image/png": "[encoded data removed]",
            "text/plain": [
              "<Figure size 360x288 with 2 Axes>"
            ]
          },
          "metadata": {
            "needs_background": "light"
          }
        }
      ]
    },
    {
      "cell_type": "code",
      "metadata": {
        "id": "2ogZm1MAm91D"
      },
      "source": [
        "# embedding_dim = 50\n"
      ],
      "execution_count": null,
      "outputs": []
    },
    {
      "cell_type": "markdown",
      "metadata": {
        "id": "spBOzRzhXMzH"
      },
      "source": [
        "#Running ML Models"
      ]
    },
    {
      "cell_type": "code",
      "metadata": {
        "id": "x8wI_93PX-nb"
      },
      "source": [
        "stops = set(stopwords.words(\"english\"))\n",
        "def cleantext(string):\n",
        "    text = string.lower().split()\n",
        "    text = \" \".join(text)\n",
        "    text = re.sub(r\"http(\\S)+\",' ',text)    \n",
        "    text = re.sub(r\"www(\\S)+\",' ',text)\n",
        "    text = re.sub(r\"&\",' and ',text)  \n",
        "    tx = text.replace('&amp',' ')\n",
        "    text = re.sub(r\"[^0-9a-zA-Z]+\",' ',text)\n",
        "    text = text.split()\n",
        "    text = [w for w in text if not w in stops]\n",
        "    text = \" \".join(text)\n",
        "    return text"
      ],
      "execution_count": null,
      "outputs": []
    },
    {
      "cell_type": "code",
      "metadata": {
        "id": "x7t3aZ0MYIiA"
      },
      "source": [
        "# real_data=pd.read_csv(\"/content/sample_data/News.csv\", header=None, skipinitialspace=True ,skiprows=1, encoding='utf-8')\n",
        "# septic_data = pd.read_csv(\"/content/sample_data/SepticDataset.csv\", header=None, skipinitialspace=True ,skiprows=1, encoding='utf-8') \n",
        "# septic_data=septic_data.drop(0, axis=1)\n",
        "# septic_data=septic_data.drop(1, axis=1)\n",
        "# septic_data.rename(columns = {2: 0, 3: 1}, inplace = True)\n",
        "# real_data[1] = real_data[1].replace(['1-Septic', '0-Pure'], [1, 0])\n",
        "# septic_data=septic_data.iloc[0:1500,:]\n",
        "# news_data= pd.concat([real_data, septic_data], axis=0)\n",
        "# news_data[0] = news_data[0].replace('\\n', '', regex=True).str.strip()\n",
        "# labels=news_data[1]\n",
        "# labels.head()     \n",
        "# X = news_data[0]\n",
        "# Y=news_data[1]\n",
        "# x_train,x_test,y_train,y_test=train_test_split(X, Y, test_size=0.05, random_state=7)\n",
        "real_data=pd.read_csv(\"/content/sample_data/News.csv\", header=None, skipinitialspace=True ,skiprows=1, encoding='utf-8')\n",
        "real_data[1] = real_data[1].replace(['1-Septic', '0-Pure'], [1, 0])\n",
        "real_data[0] = real_data[0].replace('\\n', '', regex=True).str.strip()  \n",
        "#labels=news_data[1]\n",
        "#labels.head()     \n",
        "#print(type(labels))\n",
        "#news_data[1].value_counts()\n",
        "X = real_data[0]\n",
        "Y=real_data[1]\n",
        "x_train,x_test,y_train,y_test=train_test_split(X, Y, test_size=0.1, random_state=7)\n",
        "septic_data = pd.read_csv(\"/content/sample_data/SepticDataset.csv\", header=None, skipinitialspace=True ,skiprows=1, encoding='utf-8') \n",
        "septic_data=septic_data.drop(0, axis=1)\n",
        "septic_data=septic_data.drop(1, axis=1)\n",
        "septic_data.rename(columns = {2: 0, 3: 1}, inplace = True)\n",
        "#septic_data=septic_data.iloc[0:1500,:]\n",
        "septic_data[0] = septic_data[0].replace('\\n', '', regex=True).str.strip()\n",
        "x_train=pd.concat([x_train, septic_data[0]], axis=0)\n",
        "y_train=pd.concat([y_train, septic_data[1]], axis=0)\n",
        "x_train = x_train.str.replace('\\d+', '') # removing all numbers\n",
        "x_test = x_test.str.replace('\\d+', '')\n",
        "\n",
        "\n",
        "train=x_train\n",
        "test=x_test\n",
        "train = train.map(lambda x: cleantext(x))\n",
        "test = test.map(lambda x: cleantext(x))\n",
        "y_train=y_train.astype('int')\n",
        "y_test=y_test.astype('int')\n"
      ],
      "execution_count": null,
      "outputs": []
    },
    {
      "cell_type": "markdown",
      "metadata": {
        "id": "7Kyy4sAbpcy2"
      },
      "source": [
        "#SVM"
      ]
    },
    {
      "cell_type": "code",
      "metadata": {
        "id": "ppVbRJCem98d",
        "colab": {
          "base_uri": "https://localhost:8080/",
          "height": 597
        },
        "outputId": "00660511-bfb2-460a-9888-1833b9b06663"
      },
      "source": [
        "pipeline = Pipeline([\n",
        "        ('bow', CountVectorizer()),  \n",
        "        ('tfidf', TfidfTransformer()),  \n",
        "        ('c', LinearSVC())\n",
        "    ])\n",
        "fit = pipeline.fit(train,y_train)\n",
        "print('SVM')\n",
        "print ('test:')\n",
        "pred=pipeline.predict(test)\n",
        "print_metrices(pred,y_test)\n",
        "plot_confusion_matrix(confusion_matrix(y_test,pred),target_names=[0,1], normalize = False, \\\n",
        "                      title = 'Confusion matix of SVM on test data')"
      ],
      "execution_count": null,
      "outputs": [
        {
          "output_type": "stream",
          "name": "stdout",
          "text": [
            "SVM\n",
            "test:\n",
            "[[162  23]\n",
            " [ 45  10]]\n",
            "              precision    recall  f1-score   support\n",
            "\n",
            "           0       0.78      0.88      0.83       185\n",
            "           1       0.30      0.18      0.23        55\n",
            "\n",
            "    accuracy                           0.72       240\n",
            "   macro avg       0.54      0.53      0.53       240\n",
            "weighted avg       0.67      0.72      0.69       240\n",
            "\n",
            "Accuracy :  0.7166666666666667\n",
            "Precison :  0.7802702702702703\n",
            "Recall :  0.7166666666666667\n",
            "F1 :  0.7441326530612246\n"
          ]
        },
        {
          "output_type": "display_data",
          "data": {
            "image/png": "[encoded data removed]",
            "text/plain": [
              "<Figure size 360x288 with 2 Axes>"
            ]
          },
          "metadata": {
            "needs_background": "light"
          }
        }
      ]
    },
    {
      "cell_type": "markdown",
      "metadata": {
        "id": "BBp95IAFpfKP"
      },
      "source": [
        "#Logistic Regression"
      ]
    },
    {
      "cell_type": "code",
      "metadata": {
        "id": "De8y9snEm9_x",
        "colab": {
          "base_uri": "https://localhost:8080/",
          "height": 597
        },
        "outputId": "120fbc6b-3b5c-4e82-cbbb-bd1037e23f1c"
      },
      "source": [
        "pipeline = Pipeline([\n",
        "        ('bow', CountVectorizer()),  \n",
        "        ('tfidf', TfidfTransformer()),  \n",
        "        ('c', LogisticRegression())\n",
        "    ])\n",
        "fit = pipeline.fit(train,y_train)\n",
        "print('Logistic Regression')\n",
        "print ('Test:')\n",
        "pred=pipeline.predict(test)\n",
        "\n",
        "print_metrices(pred,y_test)\n",
        "plot_confusion_matrix(confusion_matrix(y_test,pred),target_names=[0,1], normalize = False, \\\n",
        "                      title = 'Confusion matix of LR on test data')"
      ],
      "execution_count": null,
      "outputs": [
        {
          "output_type": "stream",
          "name": "stdout",
          "text": [
            "Logistic Regression\n",
            "Test:\n",
            "[[166  19]\n",
            " [ 36  19]]\n",
            "              precision    recall  f1-score   support\n",
            "\n",
            "           0       0.82      0.90      0.86       185\n",
            "           1       0.50      0.35      0.41        55\n",
            "\n",
            "    accuracy                           0.77       240\n",
            "   macro avg       0.66      0.62      0.63       240\n",
            "weighted avg       0.75      0.77      0.75       240\n",
            "\n",
            "Accuracy :  0.7708333333333334\n",
            "Precison :  0.8099221949221949\n",
            "Recall :  0.7708333333333334\n",
            "F1 :  0.78674529743547\n"
          ]
        },
        {
          "output_type": "display_data",
          "data": {
            "image/png": "[encoded data removed]",
            "text/plain": [
              "<Figure size 360x288 with 2 Axes>"
            ]
          },
          "metadata": {
            "needs_background": "light"
          }
        }
      ]
    },
    {
      "cell_type": "markdown",
      "metadata": {
        "id": "7O3-AkxUqE5E"
      },
      "source": [
        "#Gradient Boosting Classifier"
      ]
    },
    {
      "cell_type": "code",
      "metadata": {
        "id": "0o7Rf6TBm-Cr",
        "colab": {
          "base_uri": "https://localhost:8080/",
          "height": 597
        },
        "outputId": "044e642b-04dd-4fb2-938e-a9aeab2f83de"
      },
      "source": [
        "pipeline = Pipeline([\n",
        "        ('bow', CountVectorizer()),  \n",
        "        ('tfidf', TfidfTransformer()),  \n",
        "        ('c', GradientBoostingClassifier())\n",
        "    ])\n",
        "fit = pipeline.fit(train,y_train)\n",
        "print('Gradient Boost')\n",
        "print ('Test:')\n",
        "pred=pipeline.predict(test)\n",
        "\n",
        "print_metrices(pred,y_test)\n",
        "plot_confusion_matrix(confusion_matrix(y_test,pred),target_names=[0,1], normalize = False, \\\n",
        "                      title = 'Confusion matix of GDBT on test data')"
      ],
      "execution_count": null,
      "outputs": [
        {
          "output_type": "stream",
          "name": "stdout",
          "text": [
            "Gradient Boost\n",
            "Test:\n",
            "[[94 91]\n",
            " [21 34]]\n",
            "              precision    recall  f1-score   support\n",
            "\n",
            "           0       0.82      0.51      0.63       185\n",
            "           1       0.27      0.62      0.38        55\n",
            "\n",
            "    accuracy                           0.53       240\n",
            "   macro avg       0.54      0.56      0.50       240\n",
            "weighted avg       0.69      0.53      0.57       240\n",
            "\n",
            "Accuracy :  0.5333333333333333\n",
            "Precison :  0.5654381654381654\n",
            "Recall :  0.5333333333333333\n",
            "F1 :  0.49703703703703705\n"
          ]
        },
        {
          "output_type": "display_data",
          "data": {
            "image/png": "[encoded data removed]",
            "text/plain": [
              "<Figure size 360x288 with 2 Axes>"
            ]
          },
          "metadata": {
            "needs_background": "light"
          }
        }
      ]
    },
    {
      "cell_type": "markdown",
      "metadata": {
        "id": "QcKDyXNJqQ6o"
      },
      "source": [
        "#Decision Tree Classifier"
      ]
    },
    {
      "cell_type": "code",
      "metadata": {
        "id": "Ymg_z4dGm-Jh",
        "colab": {
          "base_uri": "https://localhost:8080/",
          "height": 597
        },
        "outputId": "a33a99be-e54a-4a0a-9bd0-99e68961c517"
      },
      "source": [
        "pipeline = Pipeline([\n",
        "        ('bow', CountVectorizer()),  \n",
        "        ('tfidf', TfidfTransformer()),  \n",
        "        ('c', tree.DecisionTreeClassifier())\n",
        "    ])\n",
        "fit = pipeline.fit(train,y_train)\n",
        "print('Decision Tree')\n",
        "print ('Test:')\n",
        "pred=pipeline.predict(test)\n",
        "\n",
        "print_metrices(pred,y_test)\n",
        "plot_confusion_matrix(confusion_matrix(y_test,pred),target_names=[0,1], normalize = False, \\\n",
        "                      title = 'Confusion matix of DT on test data')"
      ],
      "execution_count": null,
      "outputs": [
        {
          "output_type": "stream",
          "name": "stdout",
          "text": [
            "Decision Tree\n",
            "Test:\n",
            "[[153  32]\n",
            " [ 47   8]]\n",
            "              precision    recall  f1-score   support\n",
            "\n",
            "           0       0.77      0.83      0.79       185\n",
            "           1       0.20      0.15      0.17        55\n",
            "\n",
            "    accuracy                           0.67       240\n",
            "   macro avg       0.48      0.49      0.48       240\n",
            "weighted avg       0.64      0.67      0.65       240\n",
            "\n",
            "Accuracy :  0.6708333333333333\n",
            "Precison :  0.7134316134316134\n",
            "Recall :  0.6708333333333333\n",
            "F1 :  0.6904078377762589\n"
          ]
        },
        {
          "output_type": "display_data",
          "data": {
            "image/png": "[encoded data removed]",
            "text/plain": [
              "<Figure size 360x288 with 2 Axes>"
            ]
          },
          "metadata": {
            "needs_background": "light"
          }
        }
      ]
    },
    {
      "cell_type": "markdown",
      "metadata": {
        "id": "mjBnG7ADqgNW"
      },
      "source": [
        "#Random Forest Classifier"
      ]
    },
    {
      "cell_type": "code",
      "metadata": {
        "id": "r3rzPpH7m-MM",
        "colab": {
          "base_uri": "https://localhost:8080/",
          "height": 597
        },
        "outputId": "7533d6dd-7ab3-46f8-c333-8867e8d967fe"
      },
      "source": [
        "from sklearn.ensemble import RandomForestClassifier\n",
        "pipeline = Pipeline([\n",
        "        ('bow', CountVectorizer()),  \n",
        "        ('tfidf', TfidfTransformer()),  \n",
        "        ('c', RandomForestClassifier())\n",
        "    ])\n",
        "fit = pipeline.fit(train,y_train)\n",
        "print('Random Forest Classifier')\n",
        "print ('Test:')\n",
        "pred=pipeline.predict(test)\n",
        "\n",
        "print_metrices(pred,y_test)\n",
        "plot_confusion_matrix(confusion_matrix(y_test,pred),target_names=[0,1], normalize = False, \\\n",
        "                      title = 'Confusion matix of RFC on test data')"
      ],
      "execution_count": null,
      "outputs": [
        {
          "output_type": "stream",
          "name": "stdout",
          "text": [
            "Random Forest Classifier\n",
            "Test:\n",
            "[[165  20]\n",
            " [ 47   8]]\n",
            "              precision    recall  f1-score   support\n",
            "\n",
            "           0       0.78      0.89      0.83       185\n",
            "           1       0.29      0.15      0.19        55\n",
            "\n",
            "    accuracy                           0.72       240\n",
            "   macro avg       0.53      0.52      0.51       240\n",
            "weighted avg       0.67      0.72      0.68       240\n",
            "\n",
            "Accuracy :  0.7208333333333333\n",
            "Precison :  0.8048075348075348\n",
            "Recall :  0.7208333333333333\n",
            "F1 :  0.7567468867914985\n"
          ]
        },
        {
          "output_type": "display_data",
          "data": {
            "image/png": "[encoded data removed]",
            "text/plain": [
              "<Figure size 360x288 with 2 Axes>"
            ]
          },
          "metadata": {
            "needs_background": "light"
          }
        }
      ]
    },
    {
      "cell_type": "code",
      "metadata": {
        "id": "b33CbhaBm-O6"
      },
      "source": [
        ""
      ],
      "execution_count": null,
      "outputs": []
    },
    {
      "cell_type": "code",
      "metadata": {
        "id": "U2sQF01Fm-Rr"
      },
      "source": [
        ""
      ],
      "execution_count": null,
      "outputs": []
    },
    {
      "cell_type": "code",
      "metadata": {
        "id": "25lvfcPRm-Vh"
      },
      "source": [
        ""
      ],
      "execution_count": null,
      "outputs": []
    },
    {
      "cell_type": "code",
      "metadata": {
        "id": "572OgIc2m-Yi"
      },
      "source": [
        ""
      ],
      "execution_count": null,
      "outputs": []
    }
  ]
}